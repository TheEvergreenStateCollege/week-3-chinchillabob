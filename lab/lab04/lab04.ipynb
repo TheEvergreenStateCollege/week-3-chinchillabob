{
  "cells": [
    {
      "cell_type": "markdown",
      "metadata": {
        "id": "view-in-github",
        "colab_type": "text"
      },
      "source": [
        "<a href=\"https://colab.research.google.com/github/TheEvergreenStateCollege/week-3-chinchillabob/blob/main/lab/lab04/lab04.ipynb\" target=\"_parent\"><img src=\"https://colab.research.google.com/assets/colab-badge.svg\" alt=\"Open In Colab\"/></a>"
      ]
    },
    {
      "cell_type": "code",
      "execution_count": 3,
      "metadata": {
        "deletable": false,
        "editable": false,
        "id": "gcBSXooac8MT",
        "outputId": "8c8ceebe-d116-41b6-ebc3-e4a13bbf606d",
        "colab": {
          "base_uri": "https://localhost:8080/"
        }
      },
      "outputs": [
        {
          "output_type": "stream",
          "name": "stdout",
          "text": [
            "Collecting otter-grader\n",
            "  Downloading otter_grader-3.2.1-py3-none-any.whl (165 kB)\n",
            "\u001b[?25l\r\u001b[K     |██                              | 10 kB 10.1 MB/s eta 0:00:01\r\u001b[K     |████                            | 20 kB 15.4 MB/s eta 0:00:01\r\u001b[K     |██████                          | 30 kB 17.6 MB/s eta 0:00:01\r\u001b[K     |████████                        | 40 kB 9.2 MB/s eta 0:00:01\r\u001b[K     |█████████▉                      | 51 kB 7.7 MB/s eta 0:00:01\r\u001b[K     |███████████▉                    | 61 kB 9.0 MB/s eta 0:00:01\r\u001b[K     |█████████████▉                  | 71 kB 9.1 MB/s eta 0:00:01\r\u001b[K     |███████████████▉                | 81 kB 7.7 MB/s eta 0:00:01\r\u001b[K     |█████████████████▉              | 92 kB 8.5 MB/s eta 0:00:01\r\u001b[K     |███████████████████▊            | 102 kB 9.0 MB/s eta 0:00:01\r\u001b[K     |█████████████████████▊          | 112 kB 9.0 MB/s eta 0:00:01\r\u001b[K     |███████████████████████▊        | 122 kB 9.0 MB/s eta 0:00:01\r\u001b[K     |█████████████████████████▊      | 133 kB 9.0 MB/s eta 0:00:01\r\u001b[K     |███████████████████████████▊    | 143 kB 9.0 MB/s eta 0:00:01\r\u001b[K     |█████████████████████████████▋  | 153 kB 9.0 MB/s eta 0:00:01\r\u001b[K     |███████████████████████████████▋| 163 kB 9.0 MB/s eta 0:00:01\r\u001b[K     |████████████████████████████████| 165 kB 9.0 MB/s \n",
            "\u001b[?25hRequirement already satisfied: ipykernel in /usr/local/lib/python3.7/dist-packages (from otter-grader) (4.10.1)\n",
            "Collecting PyPDF2\n",
            "  Downloading PyPDF2-1.27.8-py3-none-any.whl (69 kB)\n",
            "\u001b[K     |████████████████████████████████| 69 kB 5.6 MB/s \n",
            "\u001b[?25hRequirement already satisfied: nbformat in /usr/local/lib/python3.7/dist-packages (from otter-grader) (5.3.0)\n",
            "Requirement already satisfied: jupyter-client in /usr/local/lib/python3.7/dist-packages (from otter-grader) (5.3.5)\n",
            "Requirement already satisfied: matplotlib in /usr/local/lib/python3.7/dist-packages (from otter-grader) (3.2.2)\n",
            "Collecting python-on-whales\n",
            "  Downloading python_on_whales-0.41.0-py3-none-any.whl (91 kB)\n",
            "\u001b[K     |████████████████████████████████| 91 kB 9.0 MB/s \n",
            "\u001b[?25hRequirement already satisfied: six in /usr/local/lib/python3.7/dist-packages (from otter-grader) (1.15.0)\n",
            "Requirement already satisfied: gspread in /usr/local/lib/python3.7/dist-packages (from otter-grader) (3.4.2)\n",
            "Requirement already satisfied: google-api-python-client in /usr/local/lib/python3.7/dist-packages (from otter-grader) (1.12.11)\n",
            "Requirement already satisfied: google-auth-oauthlib in /usr/local/lib/python3.7/dist-packages (from otter-grader) (0.4.6)\n",
            "Collecting pdfkit\n",
            "  Downloading pdfkit-1.0.0-py3-none-any.whl (12 kB)\n",
            "Requirement already satisfied: PyYAML in /usr/local/lib/python3.7/dist-packages (from otter-grader) (3.13)\n",
            "Requirement already satisfied: dill in /usr/local/lib/python3.7/dist-packages (from otter-grader) (0.3.4)\n",
            "Requirement already satisfied: pandas in /usr/local/lib/python3.7/dist-packages (from otter-grader) (1.3.5)\n",
            "Requirement already satisfied: jinja2 in /usr/local/lib/python3.7/dist-packages (from otter-grader) (2.11.3)\n",
            "Requirement already satisfied: requests in /usr/local/lib/python3.7/dist-packages (from otter-grader) (2.23.0)\n",
            "Requirement already satisfied: nbconvert in /usr/local/lib/python3.7/dist-packages (from otter-grader) (5.6.1)\n",
            "Requirement already satisfied: google-auth<3dev,>=1.16.0 in /usr/local/lib/python3.7/dist-packages (from google-api-python-client->otter-grader) (1.35.0)\n",
            "Requirement already satisfied: uritemplate<4dev,>=3.0.0 in /usr/local/lib/python3.7/dist-packages (from google-api-python-client->otter-grader) (3.0.1)\n",
            "Requirement already satisfied: httplib2<1dev,>=0.15.0 in /usr/local/lib/python3.7/dist-packages (from google-api-python-client->otter-grader) (0.17.4)\n",
            "Requirement already satisfied: google-api-core<3dev,>=1.21.0 in /usr/local/lib/python3.7/dist-packages (from google-api-python-client->otter-grader) (1.31.5)\n",
            "Requirement already satisfied: google-auth-httplib2>=0.0.3 in /usr/local/lib/python3.7/dist-packages (from google-api-python-client->otter-grader) (0.0.4)\n",
            "Requirement already satisfied: protobuf>=3.12.0 in /usr/local/lib/python3.7/dist-packages (from google-api-core<3dev,>=1.21.0->google-api-python-client->otter-grader) (3.17.3)\n",
            "Requirement already satisfied: setuptools>=40.3.0 in /usr/local/lib/python3.7/dist-packages (from google-api-core<3dev,>=1.21.0->google-api-python-client->otter-grader) (57.4.0)\n",
            "Requirement already satisfied: pytz in /usr/local/lib/python3.7/dist-packages (from google-api-core<3dev,>=1.21.0->google-api-python-client->otter-grader) (2022.1)\n",
            "Requirement already satisfied: packaging>=14.3 in /usr/local/lib/python3.7/dist-packages (from google-api-core<3dev,>=1.21.0->google-api-python-client->otter-grader) (21.3)\n",
            "Requirement already satisfied: googleapis-common-protos<2.0dev,>=1.6.0 in /usr/local/lib/python3.7/dist-packages (from google-api-core<3dev,>=1.21.0->google-api-python-client->otter-grader) (1.56.0)\n",
            "Requirement already satisfied: cachetools<5.0,>=2.0.0 in /usr/local/lib/python3.7/dist-packages (from google-auth<3dev,>=1.16.0->google-api-python-client->otter-grader) (4.2.4)\n",
            "Requirement already satisfied: rsa<5,>=3.1.4 in /usr/local/lib/python3.7/dist-packages (from google-auth<3dev,>=1.16.0->google-api-python-client->otter-grader) (4.8)\n",
            "Requirement already satisfied: pyasn1-modules>=0.2.1 in /usr/local/lib/python3.7/dist-packages (from google-auth<3dev,>=1.16.0->google-api-python-client->otter-grader) (0.2.8)\n",
            "Requirement already satisfied: pyparsing!=3.0.5,>=2.0.2 in /usr/local/lib/python3.7/dist-packages (from packaging>=14.3->google-api-core<3dev,>=1.21.0->google-api-python-client->otter-grader) (3.0.8)\n",
            "Requirement already satisfied: pyasn1<0.5.0,>=0.4.6 in /usr/local/lib/python3.7/dist-packages (from pyasn1-modules>=0.2.1->google-auth<3dev,>=1.16.0->google-api-python-client->otter-grader) (0.4.8)\n",
            "Requirement already satisfied: urllib3!=1.25.0,!=1.25.1,<1.26,>=1.21.1 in /usr/local/lib/python3.7/dist-packages (from requests->otter-grader) (1.24.3)\n",
            "Requirement already satisfied: chardet<4,>=3.0.2 in /usr/local/lib/python3.7/dist-packages (from requests->otter-grader) (3.0.4)\n",
            "Requirement already satisfied: certifi>=2017.4.17 in /usr/local/lib/python3.7/dist-packages (from requests->otter-grader) (2021.10.8)\n",
            "Requirement already satisfied: idna<3,>=2.5 in /usr/local/lib/python3.7/dist-packages (from requests->otter-grader) (2.10)\n",
            "Requirement already satisfied: requests-oauthlib>=0.7.0 in /usr/local/lib/python3.7/dist-packages (from google-auth-oauthlib->otter-grader) (1.3.1)\n",
            "Requirement already satisfied: oauthlib>=3.0.0 in /usr/local/lib/python3.7/dist-packages (from requests-oauthlib>=0.7.0->google-auth-oauthlib->otter-grader) (3.2.0)\n",
            "Requirement already satisfied: traitlets>=4.1.0 in /usr/local/lib/python3.7/dist-packages (from ipykernel->otter-grader) (5.1.1)\n",
            "Requirement already satisfied: ipython>=4.0.0 in /usr/local/lib/python3.7/dist-packages (from ipykernel->otter-grader) (5.5.0)\n",
            "Requirement already satisfied: tornado>=4.0 in /usr/local/lib/python3.7/dist-packages (from ipykernel->otter-grader) (5.1.1)\n",
            "Requirement already satisfied: pygments in /usr/local/lib/python3.7/dist-packages (from ipython>=4.0.0->ipykernel->otter-grader) (2.6.1)\n",
            "Requirement already satisfied: pickleshare in /usr/local/lib/python3.7/dist-packages (from ipython>=4.0.0->ipykernel->otter-grader) (0.7.5)\n",
            "Requirement already satisfied: pexpect in /usr/local/lib/python3.7/dist-packages (from ipython>=4.0.0->ipykernel->otter-grader) (4.8.0)\n",
            "Requirement already satisfied: simplegeneric>0.8 in /usr/local/lib/python3.7/dist-packages (from ipython>=4.0.0->ipykernel->otter-grader) (0.8.1)\n",
            "Requirement already satisfied: decorator in /usr/local/lib/python3.7/dist-packages (from ipython>=4.0.0->ipykernel->otter-grader) (4.4.2)\n",
            "Requirement already satisfied: prompt-toolkit<2.0.0,>=1.0.4 in /usr/local/lib/python3.7/dist-packages (from ipython>=4.0.0->ipykernel->otter-grader) (1.0.18)\n",
            "Requirement already satisfied: wcwidth in /usr/local/lib/python3.7/dist-packages (from prompt-toolkit<2.0.0,>=1.0.4->ipython>=4.0.0->ipykernel->otter-grader) (0.2.5)\n",
            "Requirement already satisfied: MarkupSafe>=0.23 in /usr/local/lib/python3.7/dist-packages (from jinja2->otter-grader) (2.0.1)\n",
            "Requirement already satisfied: python-dateutil>=2.1 in /usr/local/lib/python3.7/dist-packages (from jupyter-client->otter-grader) (2.8.2)\n",
            "Requirement already satisfied: pyzmq>=13 in /usr/local/lib/python3.7/dist-packages (from jupyter-client->otter-grader) (22.3.0)\n",
            "Requirement already satisfied: jupyter-core>=4.6.0 in /usr/local/lib/python3.7/dist-packages (from jupyter-client->otter-grader) (4.9.2)\n",
            "Requirement already satisfied: numpy>=1.11 in /usr/local/lib/python3.7/dist-packages (from matplotlib->otter-grader) (1.21.6)\n",
            "Requirement already satisfied: cycler>=0.10 in /usr/local/lib/python3.7/dist-packages (from matplotlib->otter-grader) (0.11.0)\n",
            "Requirement already satisfied: kiwisolver>=1.0.1 in /usr/local/lib/python3.7/dist-packages (from matplotlib->otter-grader) (1.4.2)\n",
            "Requirement already satisfied: typing-extensions in /usr/local/lib/python3.7/dist-packages (from kiwisolver>=1.0.1->matplotlib->otter-grader) (4.1.1)\n",
            "Requirement already satisfied: mistune<2,>=0.8.1 in /usr/local/lib/python3.7/dist-packages (from nbconvert->otter-grader) (0.8.4)\n",
            "Requirement already satisfied: bleach in /usr/local/lib/python3.7/dist-packages (from nbconvert->otter-grader) (5.0.0)\n",
            "Requirement already satisfied: testpath in /usr/local/lib/python3.7/dist-packages (from nbconvert->otter-grader) (0.6.0)\n",
            "Requirement already satisfied: entrypoints>=0.2.2 in /usr/local/lib/python3.7/dist-packages (from nbconvert->otter-grader) (0.4)\n",
            "Requirement already satisfied: pandocfilters>=1.4.1 in /usr/local/lib/python3.7/dist-packages (from nbconvert->otter-grader) (1.5.0)\n",
            "Requirement already satisfied: defusedxml in /usr/local/lib/python3.7/dist-packages (from nbconvert->otter-grader) (0.7.1)\n",
            "Requirement already satisfied: fastjsonschema in /usr/local/lib/python3.7/dist-packages (from nbformat->otter-grader) (2.15.3)\n",
            "Requirement already satisfied: jsonschema>=2.6 in /usr/local/lib/python3.7/dist-packages (from nbformat->otter-grader) (4.3.3)\n",
            "Requirement already satisfied: importlib-resources>=1.4.0 in /usr/local/lib/python3.7/dist-packages (from jsonschema>=2.6->nbformat->otter-grader) (5.7.0)\n",
            "Requirement already satisfied: attrs>=17.4.0 in /usr/local/lib/python3.7/dist-packages (from jsonschema>=2.6->nbformat->otter-grader) (21.4.0)\n",
            "Requirement already satisfied: importlib-metadata in /usr/local/lib/python3.7/dist-packages (from jsonschema>=2.6->nbformat->otter-grader) (4.11.3)\n",
            "Requirement already satisfied: pyrsistent!=0.17.0,!=0.17.1,!=0.17.2,>=0.14.0 in /usr/local/lib/python3.7/dist-packages (from jsonschema>=2.6->nbformat->otter-grader) (0.18.1)\n",
            "Requirement already satisfied: zipp>=3.1.0 in /usr/local/lib/python3.7/dist-packages (from importlib-resources>=1.4.0->jsonschema>=2.6->nbformat->otter-grader) (3.8.0)\n",
            "Requirement already satisfied: webencodings in /usr/local/lib/python3.7/dist-packages (from bleach->nbconvert->otter-grader) (0.5.1)\n",
            "Requirement already satisfied: ptyprocess>=0.5 in /usr/local/lib/python3.7/dist-packages (from pexpect->ipython>=4.0.0->ipykernel->otter-grader) (0.7.0)\n",
            "Requirement already satisfied: click<=8.0.4 in /usr/local/lib/python3.7/dist-packages (from python-on-whales->otter-grader) (7.1.2)\n",
            "Collecting typer\n",
            "  Downloading typer-0.4.1-py3-none-any.whl (27 kB)\n",
            "Requirement already satisfied: tqdm in /usr/local/lib/python3.7/dist-packages (from python-on-whales->otter-grader) (4.64.0)\n",
            "Collecting pydantic\n",
            "  Downloading pydantic-1.9.0-cp37-cp37m-manylinux_2_17_x86_64.manylinux2014_x86_64.whl (10.9 MB)\n",
            "\u001b[K     |████████████████████████████████| 10.9 MB 44.4 MB/s \n",
            "\u001b[?25hInstalling collected packages: typer, pydantic, python-on-whales, PyPDF2, pdfkit, otter-grader\n",
            "Successfully installed PyPDF2-1.27.8 otter-grader-3.2.1 pdfkit-1.0.0 pydantic-1.9.0 python-on-whales-0.41.0 typer-0.4.1\n"
          ]
        }
      ],
      "source": [
        "# Initialize Otter\n",
        "!pip install otter-grader\n",
        "import otter\n",
        "grader = otter.Notebook(\"lab03.ipynb\")"
      ]
    },
    {
      "cell_type": "markdown",
      "metadata": {
        "nbgrader": {
          "grade": false,
          "grade_id": "intro",
          "locked": true,
          "schema_version": 2,
          "solution": false
        },
        "id": "545nS8cic8MW"
      },
      "source": [
        "# Lab 3: Data Cleaning and Visualization\n",
        "\n",
        "In this lab you will be working on visualizing a dataset from the City of Berkeley containing data on calls to the Berkeley Police Department. Information about the dataset can be found [at this link](https://data.cityofberkeley.info/Public-Safety/Berkeley-PD-Calls-for-Service/k2nh-s5h5).\n",
        "\n",
        "Note: This lab will not work on older versions of Python; make sure to work on DataHub.\n",
        "\n",
        "**This assignment should be completed and submitted by 11:59 PM PDT on Tuesday, September 14th, 2021.**\n",
        "\n",
        "**Content Warning: This lab includes an analysis of crime in Berkeley. If you feel uncomfortable about the topic, please feel free to contact your GSI or the instructors.**"
      ]
    },
    {
      "cell_type": "markdown",
      "metadata": {
        "nbgrader": {
          "grade": false,
          "grade_id": "setup",
          "locked": true,
          "schema_version": 2,
          "solution": false
        },
        "id": "mgZEMsLuc8MX"
      },
      "source": [
        "## Setup\n",
        "\n",
        "Note that we configure a custom default figure size. Virtually every default aspect of matplotlib [can be customized](https://matplotlib.org/users/customizing.html)."
      ]
    },
    {
      "cell_type": "code",
      "execution_count": 4,
      "metadata": {
        "nbgrader": {
          "grade": false,
          "grade_id": "imports",
          "locked": true,
          "schema_version": 2,
          "solution": false
        },
        "id": "O2xTQzA7c8MY"
      },
      "outputs": [],
      "source": [
        "import pandas as pd\n",
        "import numpy as np\n",
        "import zipfile\n",
        "import matplotlib\n",
        "import matplotlib.pyplot as plt\n",
        "\n",
        "plt.rcParams['figure.figsize'] = (12, 9)"
      ]
    },
    {
      "cell_type": "markdown",
      "metadata": {
        "nbgrader": {
          "grade": false,
          "grade_id": "part1",
          "locked": true,
          "schema_version": 2,
          "solution": false
        },
        "id": "fcAjjvalc8MY"
      },
      "source": [
        "## Part 1: Cleaning and Exploring the Data\n",
        "\n",
        "To retrieve the dataset, we will use the `ds100_utils.fetch_and_cache` utility."
      ]
    },
    {
      "cell_type": "code",
      "execution_count": 5,
      "metadata": {
        "jupyter": {
          "outputs_hidden": false
        },
        "id": "VnVGYcJVc8MY"
      },
      "outputs": [],
      "source": [
        "'''!pip install ds100\n",
        "import ds100_utils\n",
        "\n",
        "data_dir = 'data'\n",
        "data_url = 'http://www.ds100.org/fa20/resources/assets/datasets/lab04_data_fa20.zip'\n",
        "file_name = 'lab04_data_fa20.zip'\n",
        "\n",
        "dest_path = ds100_utils.fetch_and_cache(data_url=data_url, file=file_name, data_dir=data_dir)\n",
        "print(f'Located at {dest_path}')'''\n",
        "import requests\n",
        "from pathlib import Path\n",
        "\n",
        "def fetch_and_cache(data_url, file, data_dir=\"data\", force=False):\n",
        "    \"\"\"\n",
        "    Download and cache a url and return the file object.\n",
        "    \n",
        "    data_url: the web address to download\n",
        "    file: the file in which to save the results.\n",
        "    data_dir: (default=\"data\") the location to save the data\n",
        "    force: if true the file is always re-downloaded \n",
        "    \n",
        "    return: The pathlib.Path to the file.\n",
        "    \"\"\"\n",
        "    data_dir = Path(data_dir)\n",
        "    data_dir.mkdir(exist_ok=True)\n",
        "    file_path = data_dir/Path(file)\n",
        "    if force and file_path.exists():\n",
        "        file_path.unlink()\n",
        "    if force or not file_path.exists():\n",
        "        print('Downloading...', end=' ')\n",
        "        resp = requests.get(data_url)\n",
        "        with file_path.open('wb') as f:\n",
        "            f.write(resp.content)\n",
        "        print('Done!')\n",
        "    else:\n",
        "        import time \n",
        "        created = time.ctime(file_path.stat().st_ctime)\n",
        "        print(\"Using cached version downloaded at\", created)\n",
        "    return file_path"
      ]
    },
    {
      "cell_type": "markdown",
      "metadata": {
        "nbgrader": {
          "grade": false,
          "grade_id": "unzip-data-1",
          "locked": true,
          "schema_version": 2,
          "solution": false
        },
        "id": "uT4tnU7Gc8MZ"
      },
      "source": [
        "We will now directly unzip the ZIP archive and start working with the uncompressed files.\n",
        "\n",
        "Note: There is no single right answer regarding whether to work with compressed files in their compressed state or to uncompress them on disk permanently. If you for example need to work with multiple tools on the same files, or write many notebooks to analyze them, and they are not too large, it may be more convenient to uncompress them once.  But you may also have situations where you find it preferable to work with the compressed data directly.  \n",
        "\n",
        "Python gives you tools for both approaches, and you should know how to perform both tasks in order to choose the one that best suits the problem at hand.\n",
        "\n",
        "---\n",
        "\n",
        "Run the cell below to extract the zip file into the data directory."
      ]
    },
    {
      "cell_type": "code",
      "execution_count": 6,
      "metadata": {
        "nbgrader": {
          "grade": false,
          "grade_id": "download_data_code",
          "locked": true,
          "schema_version": 2,
          "solution": false
        },
        "id": "bMgnqKHdiOCU",
        "outputId": "7e004249-ed56-4ab8-98fb-304df63e01ab",
        "colab": {
          "base_uri": "https://localhost:8080/"
        }
      },
      "outputs": [
        {
          "output_type": "stream",
          "name": "stdout",
          "text": [
            "Downloading... Done!\n"
          ]
        }
      ],
      "source": [
        "data_url = 'http://www.ds100.org/fa20/resources/assets/datasets/lab04_data_fa20.zip'\n",
        "file_path = fetch_and_cache(data_url, 'lab05_data_fa20.zip')"
      ]
    },
    {
      "cell_type": "code",
      "source": [
        "my_zip = zipfile.ZipFile(file_path, 'r')\n",
        "my_zip.extractall(\"data\")"
      ],
      "metadata": {
        "id": "vddV3op8BwbK"
      },
      "execution_count": 7,
      "outputs": []
    },
    {
      "cell_type": "markdown",
      "metadata": {
        "nbgrader": {
          "grade": false,
          "grade_id": "q0",
          "locked": true,
          "schema_version": 2,
          "solution": false
        },
        "id": "YpdT8enVc8Ma"
      },
      "source": [
        "Now, we'll use a method of the `Pathlib.Path` class called `glob` to list all files in the `data` directory. You will find useful information in pathlib [documentation](https://docs.python.org/3/library/pathlib.html).\n",
        "\n",
        "Below, we use pathlib's `glob` method to store the list of all files' names from the `data_dir` directory in the variable `file_names`. These names should be strings that contain only the file name (e.g. `dummy.txt` not `data/dummy.txt`). The asterisk (*) character is used with the `glob` method to match any string."
      ]
    },
    {
      "cell_type": "code",
      "execution_count": 8,
      "metadata": {
        "jupyter": {
          "outputs_hidden": false
        },
        "id": "qIC-E-nUc8Mb",
        "outputId": "0cfec83e-110b-42ec-b9ea-e93ce7d7a353",
        "colab": {
          "base_uri": "https://localhost:8080/"
        }
      },
      "outputs": [
        {
          "output_type": "execute_result",
          "data": {
            "text/plain": [
              "['do_not_readme.md',\n",
              " 'dummy.txt',\n",
              " 'hello_world.py',\n",
              " 'ben_kurtovic.py',\n",
              " 'lab05_data_fa20.zip',\n",
              " 'Berkeley_PD_-_Calls_for_Service.csv']"
            ]
          },
          "metadata": {},
          "execution_count": 8
        }
      ],
      "source": [
        "from pathlib import Path\n",
        "data_dir_path = Path('data') # creates a Path object that points to the data directory\n",
        "file_names = [x.name for x in data_dir_path.glob('*') if x.is_file()]\n",
        "file_names"
      ]
    },
    {
      "cell_type": "markdown",
      "metadata": {
        "nbgrader": {
          "grade": false,
          "grade_id": "explore-0",
          "locked": true,
          "schema_version": 2,
          "solution": false
        },
        "id": "D7Uj3-5-c8Mb"
      },
      "source": [
        "Let's now load the CSV file we have into a `pandas.DataFrame` object."
      ]
    },
    {
      "cell_type": "code",
      "execution_count": 9,
      "metadata": {
        "jupyter": {
          "outputs_hidden": false
        },
        "id": "oELlwVGKc8Mb",
        "outputId": "21447793-496f-42d2-b00e-791877fa87e9",
        "colab": {
          "base_uri": "https://localhost:8080/",
          "height": 582
        }
      },
      "outputs": [
        {
          "output_type": "execute_result",
          "data": {
            "text/plain": [
              "     CASENO                   OFFENSE                 EVENTDT EVENTTM  \\\n",
              "0  18022300               DISTURBANCE  04/18/2018 12:00:00 AM   22:17   \n",
              "1  18026683  THEFT MISD. (UNDER $950)  05/09/2018 12:00:00 AM   21:25   \n",
              "2  18038550  THEFT MISD. (UNDER $950)  05/18/2018 12:00:00 AM   20:00   \n",
              "3  18014810             BURGLARY AUTO  03/13/2018 12:00:00 AM   08:50   \n",
              "4  18018643           ALCOHOL OFFENSE  03/31/2018 12:00:00 AM   13:29   \n",
              "\n",
              "               CVLEGEND  CVDOW                InDbDate  \\\n",
              "0    DISORDERLY CONDUCT      3  09/06/2018 03:30:12 AM   \n",
              "1               LARCENY      3  09/06/2018 03:30:13 AM   \n",
              "2               LARCENY      5  09/06/2018 03:30:09 AM   \n",
              "3    BURGLARY - VEHICLE      2  09/06/2018 03:30:08 AM   \n",
              "4  LIQUOR LAW VIOLATION      6  09/06/2018 03:30:11 AM   \n",
              "\n",
              "                                      Block_Location  \\\n",
              "0  OREGON STREET &amp; MCGEE AVE\\nBerkeley, CA\\n(...   \n",
              "1  200 UNIVERSITY AVE\\nBerkeley, CA\\n(37.865511, ...   \n",
              "2  2200 MILVIA ST\\nBerkeley, CA\\n(37.868574, -122...   \n",
              "3  1200 SIXTH ST\\nBerkeley, CA\\n(37.881142, -122....   \n",
              "4  CENTER STREET &amp; SHATTUCK AVE\\nBerkeley, CA...   \n",
              "\n",
              "                        BLKADDR      City State  \n",
              "0     OREGON STREET & MCGEE AVE  Berkeley    CA  \n",
              "1            200 UNIVERSITY AVE  Berkeley    CA  \n",
              "2                2200 MILVIA ST  Berkeley    CA  \n",
              "3                 1200 SIXTH ST  Berkeley    CA  \n",
              "4  CENTER STREET & SHATTUCK AVE  Berkeley    CA  "
            ],
            "text/html": [
              "\n",
              "  <div id=\"df-fb038b12-0fed-4cbe-b260-f5e0d166107c\">\n",
              "    <div class=\"colab-df-container\">\n",
              "      <div>\n",
              "<style scoped>\n",
              "    .dataframe tbody tr th:only-of-type {\n",
              "        vertical-align: middle;\n",
              "    }\n",
              "\n",
              "    .dataframe tbody tr th {\n",
              "        vertical-align: top;\n",
              "    }\n",
              "\n",
              "    .dataframe thead th {\n",
              "        text-align: right;\n",
              "    }\n",
              "</style>\n",
              "<table border=\"1\" class=\"dataframe\">\n",
              "  <thead>\n",
              "    <tr style=\"text-align: right;\">\n",
              "      <th></th>\n",
              "      <th>CASENO</th>\n",
              "      <th>OFFENSE</th>\n",
              "      <th>EVENTDT</th>\n",
              "      <th>EVENTTM</th>\n",
              "      <th>CVLEGEND</th>\n",
              "      <th>CVDOW</th>\n",
              "      <th>InDbDate</th>\n",
              "      <th>Block_Location</th>\n",
              "      <th>BLKADDR</th>\n",
              "      <th>City</th>\n",
              "      <th>State</th>\n",
              "    </tr>\n",
              "  </thead>\n",
              "  <tbody>\n",
              "    <tr>\n",
              "      <th>0</th>\n",
              "      <td>18022300</td>\n",
              "      <td>DISTURBANCE</td>\n",
              "      <td>04/18/2018 12:00:00 AM</td>\n",
              "      <td>22:17</td>\n",
              "      <td>DISORDERLY CONDUCT</td>\n",
              "      <td>3</td>\n",
              "      <td>09/06/2018 03:30:12 AM</td>\n",
              "      <td>OREGON STREET &amp;amp; MCGEE AVE\\nBerkeley, CA\\n(...</td>\n",
              "      <td>OREGON STREET &amp; MCGEE AVE</td>\n",
              "      <td>Berkeley</td>\n",
              "      <td>CA</td>\n",
              "    </tr>\n",
              "    <tr>\n",
              "      <th>1</th>\n",
              "      <td>18026683</td>\n",
              "      <td>THEFT MISD. (UNDER $950)</td>\n",
              "      <td>05/09/2018 12:00:00 AM</td>\n",
              "      <td>21:25</td>\n",
              "      <td>LARCENY</td>\n",
              "      <td>3</td>\n",
              "      <td>09/06/2018 03:30:13 AM</td>\n",
              "      <td>200 UNIVERSITY AVE\\nBerkeley, CA\\n(37.865511, ...</td>\n",
              "      <td>200 UNIVERSITY AVE</td>\n",
              "      <td>Berkeley</td>\n",
              "      <td>CA</td>\n",
              "    </tr>\n",
              "    <tr>\n",
              "      <th>2</th>\n",
              "      <td>18038550</td>\n",
              "      <td>THEFT MISD. (UNDER $950)</td>\n",
              "      <td>05/18/2018 12:00:00 AM</td>\n",
              "      <td>20:00</td>\n",
              "      <td>LARCENY</td>\n",
              "      <td>5</td>\n",
              "      <td>09/06/2018 03:30:09 AM</td>\n",
              "      <td>2200 MILVIA ST\\nBerkeley, CA\\n(37.868574, -122...</td>\n",
              "      <td>2200 MILVIA ST</td>\n",
              "      <td>Berkeley</td>\n",
              "      <td>CA</td>\n",
              "    </tr>\n",
              "    <tr>\n",
              "      <th>3</th>\n",
              "      <td>18014810</td>\n",
              "      <td>BURGLARY AUTO</td>\n",
              "      <td>03/13/2018 12:00:00 AM</td>\n",
              "      <td>08:50</td>\n",
              "      <td>BURGLARY - VEHICLE</td>\n",
              "      <td>2</td>\n",
              "      <td>09/06/2018 03:30:08 AM</td>\n",
              "      <td>1200 SIXTH ST\\nBerkeley, CA\\n(37.881142, -122....</td>\n",
              "      <td>1200 SIXTH ST</td>\n",
              "      <td>Berkeley</td>\n",
              "      <td>CA</td>\n",
              "    </tr>\n",
              "    <tr>\n",
              "      <th>4</th>\n",
              "      <td>18018643</td>\n",
              "      <td>ALCOHOL OFFENSE</td>\n",
              "      <td>03/31/2018 12:00:00 AM</td>\n",
              "      <td>13:29</td>\n",
              "      <td>LIQUOR LAW VIOLATION</td>\n",
              "      <td>6</td>\n",
              "      <td>09/06/2018 03:30:11 AM</td>\n",
              "      <td>CENTER STREET &amp;amp; SHATTUCK AVE\\nBerkeley, CA...</td>\n",
              "      <td>CENTER STREET &amp; SHATTUCK AVE</td>\n",
              "      <td>Berkeley</td>\n",
              "      <td>CA</td>\n",
              "    </tr>\n",
              "  </tbody>\n",
              "</table>\n",
              "</div>\n",
              "      <button class=\"colab-df-convert\" onclick=\"convertToInteractive('df-fb038b12-0fed-4cbe-b260-f5e0d166107c')\"\n",
              "              title=\"Convert this dataframe to an interactive table.\"\n",
              "              style=\"display:none;\">\n",
              "        \n",
              "  <svg xmlns=\"http://www.w3.org/2000/svg\" height=\"24px\"viewBox=\"0 0 24 24\"\n",
              "       width=\"24px\">\n",
              "    <path d=\"M0 0h24v24H0V0z\" fill=\"none\"/>\n",
              "    <path d=\"M18.56 5.44l.94 2.06.94-2.06 2.06-.94-2.06-.94-.94-2.06-.94 2.06-2.06.94zm-11 1L8.5 8.5l.94-2.06 2.06-.94-2.06-.94L8.5 2.5l-.94 2.06-2.06.94zm10 10l.94 2.06.94-2.06 2.06-.94-2.06-.94-.94-2.06-.94 2.06-2.06.94z\"/><path d=\"M17.41 7.96l-1.37-1.37c-.4-.4-.92-.59-1.43-.59-.52 0-1.04.2-1.43.59L10.3 9.45l-7.72 7.72c-.78.78-.78 2.05 0 2.83L4 21.41c.39.39.9.59 1.41.59.51 0 1.02-.2 1.41-.59l7.78-7.78 2.81-2.81c.8-.78.8-2.07 0-2.86zM5.41 20L4 18.59l7.72-7.72 1.47 1.35L5.41 20z\"/>\n",
              "  </svg>\n",
              "      </button>\n",
              "      \n",
              "  <style>\n",
              "    .colab-df-container {\n",
              "      display:flex;\n",
              "      flex-wrap:wrap;\n",
              "      gap: 12px;\n",
              "    }\n",
              "\n",
              "    .colab-df-convert {\n",
              "      background-color: #E8F0FE;\n",
              "      border: none;\n",
              "      border-radius: 50%;\n",
              "      cursor: pointer;\n",
              "      display: none;\n",
              "      fill: #1967D2;\n",
              "      height: 32px;\n",
              "      padding: 0 0 0 0;\n",
              "      width: 32px;\n",
              "    }\n",
              "\n",
              "    .colab-df-convert:hover {\n",
              "      background-color: #E2EBFA;\n",
              "      box-shadow: 0px 1px 2px rgba(60, 64, 67, 0.3), 0px 1px 3px 1px rgba(60, 64, 67, 0.15);\n",
              "      fill: #174EA6;\n",
              "    }\n",
              "\n",
              "    [theme=dark] .colab-df-convert {\n",
              "      background-color: #3B4455;\n",
              "      fill: #D2E3FC;\n",
              "    }\n",
              "\n",
              "    [theme=dark] .colab-df-convert:hover {\n",
              "      background-color: #434B5C;\n",
              "      box-shadow: 0px 1px 3px 1px rgba(0, 0, 0, 0.15);\n",
              "      filter: drop-shadow(0px 1px 2px rgba(0, 0, 0, 0.3));\n",
              "      fill: #FFFFFF;\n",
              "    }\n",
              "  </style>\n",
              "\n",
              "      <script>\n",
              "        const buttonEl =\n",
              "          document.querySelector('#df-fb038b12-0fed-4cbe-b260-f5e0d166107c button.colab-df-convert');\n",
              "        buttonEl.style.display =\n",
              "          google.colab.kernel.accessAllowed ? 'block' : 'none';\n",
              "\n",
              "        async function convertToInteractive(key) {\n",
              "          const element = document.querySelector('#df-fb038b12-0fed-4cbe-b260-f5e0d166107c');\n",
              "          const dataTable =\n",
              "            await google.colab.kernel.invokeFunction('convertToInteractive',\n",
              "                                                     [key], {});\n",
              "          if (!dataTable) return;\n",
              "\n",
              "          const docLinkHtml = 'Like what you see? Visit the ' +\n",
              "            '<a target=\"_blank\" href=https://colab.research.google.com/notebooks/data_table.ipynb>data table notebook</a>'\n",
              "            + ' to learn more about interactive tables.';\n",
              "          element.innerHTML = '';\n",
              "          dataTable['output_type'] = 'display_data';\n",
              "          await google.colab.output.renderOutput(dataTable, element);\n",
              "          const docLink = document.createElement('div');\n",
              "          docLink.innerHTML = docLinkHtml;\n",
              "          element.appendChild(docLink);\n",
              "        }\n",
              "      </script>\n",
              "    </div>\n",
              "  </div>\n",
              "  "
            ]
          },
          "metadata": {},
          "execution_count": 9
        }
      ],
      "source": [
        "calls = pd.read_csv(\"data/Berkeley_PD_-_Calls_for_Service.csv\")\n",
        "calls.head()"
      ]
    },
    {
      "cell_type": "markdown",
      "metadata": {
        "id": "kD04nYORc8Mc"
      },
      "source": [
        "We see that the fields include a case number, the offense type, the date and time of the offense, the \"CVLEGEND\" which appears to be related to the offense type, a \"CVDOW\" which has no apparent meaning, a date added to the database, and the location spread across four fields.\n",
        "\n",
        "Let's also check some basic information about these files using the `DataFrame.info` and `DataFrame.describe` methods."
      ]
    },
    {
      "cell_type": "code",
      "execution_count": 10,
      "metadata": {
        "jupyter": {
          "outputs_hidden": false
        },
        "id": "iWwEeaMnc8Mc",
        "outputId": "b046229a-752d-4910-e74f-5d76d9930088",
        "colab": {
          "base_uri": "https://localhost:8080/"
        }
      },
      "outputs": [
        {
          "output_type": "stream",
          "name": "stdout",
          "text": [
            "<class 'pandas.core.frame.DataFrame'>\n",
            "RangeIndex: 3788 entries, 0 to 3787\n",
            "Data columns (total 11 columns):\n",
            " #   Column          Non-Null Count  Dtype \n",
            "---  ------          --------------  ----- \n",
            " 0   CASENO          3788 non-null   int64 \n",
            " 1   OFFENSE         3788 non-null   object\n",
            " 2   EVENTDT         3788 non-null   object\n",
            " 3   EVENTTM         3788 non-null   object\n",
            " 4   CVLEGEND        3788 non-null   object\n",
            " 5   CVDOW           3788 non-null   int64 \n",
            " 6   InDbDate        3788 non-null   object\n",
            " 7   Block_Location  3788 non-null   object\n",
            " 8   BLKADDR         3766 non-null   object\n",
            " 9   City            3788 non-null   object\n",
            " 10  State           3788 non-null   object\n",
            "dtypes: int64(2), object(9)\n",
            "memory usage: 325.7+ KB\n"
          ]
        }
      ],
      "source": [
        "calls.info()"
      ]
    },
    {
      "cell_type": "markdown",
      "metadata": {
        "id": "QHPHIZxzc8Mc"
      },
      "source": [
        "Note that the `BLKADDR` column only has 3766 non-null entries, while the other columns all have 3788 entries. This is because the `.info()` method only counts non-null entries."
      ]
    },
    {
      "cell_type": "code",
      "execution_count": 11,
      "metadata": {
        "jupyter": {
          "outputs_hidden": false
        },
        "id": "ukxHCMSXc8Md",
        "outputId": "a3d6d80f-e70f-45a2-c2ae-5cee937912e1",
        "colab": {
          "base_uri": "https://localhost:8080/",
          "height": 300
        }
      },
      "outputs": [
        {
          "output_type": "execute_result",
          "data": {
            "text/plain": [
              "             CASENO        CVDOW\n",
              "count  3.788000e+03  3788.000000\n",
              "mean   1.804387e+07     2.997888\n",
              "std    2.665970e+04     1.952160\n",
              "min    1.801375e+07     0.000000\n",
              "25%    1.802444e+07     1.000000\n",
              "50%    1.803530e+07     3.000000\n",
              "75%    1.804537e+07     5.000000\n",
              "max    1.809135e+07     6.000000"
            ],
            "text/html": [
              "\n",
              "  <div id=\"df-13ad79b5-15b6-4ea7-85e4-3f2418ffdb13\">\n",
              "    <div class=\"colab-df-container\">\n",
              "      <div>\n",
              "<style scoped>\n",
              "    .dataframe tbody tr th:only-of-type {\n",
              "        vertical-align: middle;\n",
              "    }\n",
              "\n",
              "    .dataframe tbody tr th {\n",
              "        vertical-align: top;\n",
              "    }\n",
              "\n",
              "    .dataframe thead th {\n",
              "        text-align: right;\n",
              "    }\n",
              "</style>\n",
              "<table border=\"1\" class=\"dataframe\">\n",
              "  <thead>\n",
              "    <tr style=\"text-align: right;\">\n",
              "      <th></th>\n",
              "      <th>CASENO</th>\n",
              "      <th>CVDOW</th>\n",
              "    </tr>\n",
              "  </thead>\n",
              "  <tbody>\n",
              "    <tr>\n",
              "      <th>count</th>\n",
              "      <td>3.788000e+03</td>\n",
              "      <td>3788.000000</td>\n",
              "    </tr>\n",
              "    <tr>\n",
              "      <th>mean</th>\n",
              "      <td>1.804387e+07</td>\n",
              "      <td>2.997888</td>\n",
              "    </tr>\n",
              "    <tr>\n",
              "      <th>std</th>\n",
              "      <td>2.665970e+04</td>\n",
              "      <td>1.952160</td>\n",
              "    </tr>\n",
              "    <tr>\n",
              "      <th>min</th>\n",
              "      <td>1.801375e+07</td>\n",
              "      <td>0.000000</td>\n",
              "    </tr>\n",
              "    <tr>\n",
              "      <th>25%</th>\n",
              "      <td>1.802444e+07</td>\n",
              "      <td>1.000000</td>\n",
              "    </tr>\n",
              "    <tr>\n",
              "      <th>50%</th>\n",
              "      <td>1.803530e+07</td>\n",
              "      <td>3.000000</td>\n",
              "    </tr>\n",
              "    <tr>\n",
              "      <th>75%</th>\n",
              "      <td>1.804537e+07</td>\n",
              "      <td>5.000000</td>\n",
              "    </tr>\n",
              "    <tr>\n",
              "      <th>max</th>\n",
              "      <td>1.809135e+07</td>\n",
              "      <td>6.000000</td>\n",
              "    </tr>\n",
              "  </tbody>\n",
              "</table>\n",
              "</div>\n",
              "      <button class=\"colab-df-convert\" onclick=\"convertToInteractive('df-13ad79b5-15b6-4ea7-85e4-3f2418ffdb13')\"\n",
              "              title=\"Convert this dataframe to an interactive table.\"\n",
              "              style=\"display:none;\">\n",
              "        \n",
              "  <svg xmlns=\"http://www.w3.org/2000/svg\" height=\"24px\"viewBox=\"0 0 24 24\"\n",
              "       width=\"24px\">\n",
              "    <path d=\"M0 0h24v24H0V0z\" fill=\"none\"/>\n",
              "    <path d=\"M18.56 5.44l.94 2.06.94-2.06 2.06-.94-2.06-.94-.94-2.06-.94 2.06-2.06.94zm-11 1L8.5 8.5l.94-2.06 2.06-.94-2.06-.94L8.5 2.5l-.94 2.06-2.06.94zm10 10l.94 2.06.94-2.06 2.06-.94-2.06-.94-.94-2.06-.94 2.06-2.06.94z\"/><path d=\"M17.41 7.96l-1.37-1.37c-.4-.4-.92-.59-1.43-.59-.52 0-1.04.2-1.43.59L10.3 9.45l-7.72 7.72c-.78.78-.78 2.05 0 2.83L4 21.41c.39.39.9.59 1.41.59.51 0 1.02-.2 1.41-.59l7.78-7.78 2.81-2.81c.8-.78.8-2.07 0-2.86zM5.41 20L4 18.59l7.72-7.72 1.47 1.35L5.41 20z\"/>\n",
              "  </svg>\n",
              "      </button>\n",
              "      \n",
              "  <style>\n",
              "    .colab-df-container {\n",
              "      display:flex;\n",
              "      flex-wrap:wrap;\n",
              "      gap: 12px;\n",
              "    }\n",
              "\n",
              "    .colab-df-convert {\n",
              "      background-color: #E8F0FE;\n",
              "      border: none;\n",
              "      border-radius: 50%;\n",
              "      cursor: pointer;\n",
              "      display: none;\n",
              "      fill: #1967D2;\n",
              "      height: 32px;\n",
              "      padding: 0 0 0 0;\n",
              "      width: 32px;\n",
              "    }\n",
              "\n",
              "    .colab-df-convert:hover {\n",
              "      background-color: #E2EBFA;\n",
              "      box-shadow: 0px 1px 2px rgba(60, 64, 67, 0.3), 0px 1px 3px 1px rgba(60, 64, 67, 0.15);\n",
              "      fill: #174EA6;\n",
              "    }\n",
              "\n",
              "    [theme=dark] .colab-df-convert {\n",
              "      background-color: #3B4455;\n",
              "      fill: #D2E3FC;\n",
              "    }\n",
              "\n",
              "    [theme=dark] .colab-df-convert:hover {\n",
              "      background-color: #434B5C;\n",
              "      box-shadow: 0px 1px 3px 1px rgba(0, 0, 0, 0.15);\n",
              "      filter: drop-shadow(0px 1px 2px rgba(0, 0, 0, 0.3));\n",
              "      fill: #FFFFFF;\n",
              "    }\n",
              "  </style>\n",
              "\n",
              "      <script>\n",
              "        const buttonEl =\n",
              "          document.querySelector('#df-13ad79b5-15b6-4ea7-85e4-3f2418ffdb13 button.colab-df-convert');\n",
              "        buttonEl.style.display =\n",
              "          google.colab.kernel.accessAllowed ? 'block' : 'none';\n",
              "\n",
              "        async function convertToInteractive(key) {\n",
              "          const element = document.querySelector('#df-13ad79b5-15b6-4ea7-85e4-3f2418ffdb13');\n",
              "          const dataTable =\n",
              "            await google.colab.kernel.invokeFunction('convertToInteractive',\n",
              "                                                     [key], {});\n",
              "          if (!dataTable) return;\n",
              "\n",
              "          const docLinkHtml = 'Like what you see? Visit the ' +\n",
              "            '<a target=\"_blank\" href=https://colab.research.google.com/notebooks/data_table.ipynb>data table notebook</a>'\n",
              "            + ' to learn more about interactive tables.';\n",
              "          element.innerHTML = '';\n",
              "          dataTable['output_type'] = 'display_data';\n",
              "          await google.colab.output.renderOutput(dataTable, element);\n",
              "          const docLink = document.createElement('div');\n",
              "          docLink.innerHTML = docLinkHtml;\n",
              "          element.appendChild(docLink);\n",
              "        }\n",
              "      </script>\n",
              "    </div>\n",
              "  </div>\n",
              "  "
            ]
          },
          "metadata": {},
          "execution_count": 11
        }
      ],
      "source": [
        "calls.describe()"
      ]
    },
    {
      "cell_type": "markdown",
      "metadata": {
        "nbgrader": {
          "grade": false,
          "grade_id": "explore-4",
          "locked": true,
          "schema_version": 2,
          "solution": false
        },
        "id": "OQ3mKlG-c8Md"
      },
      "source": [
        "Notice that the functions above reveal type information for the columns, as well as some basic statistics about the numerical columns found in the DataFrame. However, we still need more information about what each column represents. Let's explore the data further in Question 1.\n",
        "\n",
        "Before we go over the fields to see their meanings, the cell below will verify that all the events happened in Berkeley by grouping on the `City` and `State` columns. You should see that all of our data falls into one group."
      ]
    },
    {
      "cell_type": "code",
      "execution_count": 12,
      "metadata": {
        "jupyter": {
          "outputs_hidden": false
        },
        "id": "8XS_7FaCc8Md",
        "outputId": "222b82e0-ce0f-4eb4-eb9e-9275e1bf2159",
        "colab": {
          "base_uri": "https://localhost:8080/",
          "height": 176
        }
      },
      "outputs": [
        {
          "output_type": "execute_result",
          "data": {
            "text/plain": [
              "                CASENO  OFFENSE  EVENTDT  EVENTTM  CVLEGEND  CVDOW  InDbDate  \\\n",
              "City     State                                                                 \n",
              "Berkeley CA       3788     3788     3788     3788      3788   3788      3788   \n",
              "\n",
              "                Block_Location  BLKADDR  \n",
              "City     State                           \n",
              "Berkeley CA               3788     3766  "
            ],
            "text/html": [
              "\n",
              "  <div id=\"df-e0ff69c3-8055-432d-b8ac-ddd9c5e2f80f\">\n",
              "    <div class=\"colab-df-container\">\n",
              "      <div>\n",
              "<style scoped>\n",
              "    .dataframe tbody tr th:only-of-type {\n",
              "        vertical-align: middle;\n",
              "    }\n",
              "\n",
              "    .dataframe tbody tr th {\n",
              "        vertical-align: top;\n",
              "    }\n",
              "\n",
              "    .dataframe thead th {\n",
              "        text-align: right;\n",
              "    }\n",
              "</style>\n",
              "<table border=\"1\" class=\"dataframe\">\n",
              "  <thead>\n",
              "    <tr style=\"text-align: right;\">\n",
              "      <th></th>\n",
              "      <th></th>\n",
              "      <th>CASENO</th>\n",
              "      <th>OFFENSE</th>\n",
              "      <th>EVENTDT</th>\n",
              "      <th>EVENTTM</th>\n",
              "      <th>CVLEGEND</th>\n",
              "      <th>CVDOW</th>\n",
              "      <th>InDbDate</th>\n",
              "      <th>Block_Location</th>\n",
              "      <th>BLKADDR</th>\n",
              "    </tr>\n",
              "    <tr>\n",
              "      <th>City</th>\n",
              "      <th>State</th>\n",
              "      <th></th>\n",
              "      <th></th>\n",
              "      <th></th>\n",
              "      <th></th>\n",
              "      <th></th>\n",
              "      <th></th>\n",
              "      <th></th>\n",
              "      <th></th>\n",
              "      <th></th>\n",
              "    </tr>\n",
              "  </thead>\n",
              "  <tbody>\n",
              "    <tr>\n",
              "      <th>Berkeley</th>\n",
              "      <th>CA</th>\n",
              "      <td>3788</td>\n",
              "      <td>3788</td>\n",
              "      <td>3788</td>\n",
              "      <td>3788</td>\n",
              "      <td>3788</td>\n",
              "      <td>3788</td>\n",
              "      <td>3788</td>\n",
              "      <td>3788</td>\n",
              "      <td>3766</td>\n",
              "    </tr>\n",
              "  </tbody>\n",
              "</table>\n",
              "</div>\n",
              "      <button class=\"colab-df-convert\" onclick=\"convertToInteractive('df-e0ff69c3-8055-432d-b8ac-ddd9c5e2f80f')\"\n",
              "              title=\"Convert this dataframe to an interactive table.\"\n",
              "              style=\"display:none;\">\n",
              "        \n",
              "  <svg xmlns=\"http://www.w3.org/2000/svg\" height=\"24px\"viewBox=\"0 0 24 24\"\n",
              "       width=\"24px\">\n",
              "    <path d=\"M0 0h24v24H0V0z\" fill=\"none\"/>\n",
              "    <path d=\"M18.56 5.44l.94 2.06.94-2.06 2.06-.94-2.06-.94-.94-2.06-.94 2.06-2.06.94zm-11 1L8.5 8.5l.94-2.06 2.06-.94-2.06-.94L8.5 2.5l-.94 2.06-2.06.94zm10 10l.94 2.06.94-2.06 2.06-.94-2.06-.94-.94-2.06-.94 2.06-2.06.94z\"/><path d=\"M17.41 7.96l-1.37-1.37c-.4-.4-.92-.59-1.43-.59-.52 0-1.04.2-1.43.59L10.3 9.45l-7.72 7.72c-.78.78-.78 2.05 0 2.83L4 21.41c.39.39.9.59 1.41.59.51 0 1.02-.2 1.41-.59l7.78-7.78 2.81-2.81c.8-.78.8-2.07 0-2.86zM5.41 20L4 18.59l7.72-7.72 1.47 1.35L5.41 20z\"/>\n",
              "  </svg>\n",
              "      </button>\n",
              "      \n",
              "  <style>\n",
              "    .colab-df-container {\n",
              "      display:flex;\n",
              "      flex-wrap:wrap;\n",
              "      gap: 12px;\n",
              "    }\n",
              "\n",
              "    .colab-df-convert {\n",
              "      background-color: #E8F0FE;\n",
              "      border: none;\n",
              "      border-radius: 50%;\n",
              "      cursor: pointer;\n",
              "      display: none;\n",
              "      fill: #1967D2;\n",
              "      height: 32px;\n",
              "      padding: 0 0 0 0;\n",
              "      width: 32px;\n",
              "    }\n",
              "\n",
              "    .colab-df-convert:hover {\n",
              "      background-color: #E2EBFA;\n",
              "      box-shadow: 0px 1px 2px rgba(60, 64, 67, 0.3), 0px 1px 3px 1px rgba(60, 64, 67, 0.15);\n",
              "      fill: #174EA6;\n",
              "    }\n",
              "\n",
              "    [theme=dark] .colab-df-convert {\n",
              "      background-color: #3B4455;\n",
              "      fill: #D2E3FC;\n",
              "    }\n",
              "\n",
              "    [theme=dark] .colab-df-convert:hover {\n",
              "      background-color: #434B5C;\n",
              "      box-shadow: 0px 1px 3px 1px rgba(0, 0, 0, 0.15);\n",
              "      filter: drop-shadow(0px 1px 2px rgba(0, 0, 0, 0.3));\n",
              "      fill: #FFFFFF;\n",
              "    }\n",
              "  </style>\n",
              "\n",
              "      <script>\n",
              "        const buttonEl =\n",
              "          document.querySelector('#df-e0ff69c3-8055-432d-b8ac-ddd9c5e2f80f button.colab-df-convert');\n",
              "        buttonEl.style.display =\n",
              "          google.colab.kernel.accessAllowed ? 'block' : 'none';\n",
              "\n",
              "        async function convertToInteractive(key) {\n",
              "          const element = document.querySelector('#df-e0ff69c3-8055-432d-b8ac-ddd9c5e2f80f');\n",
              "          const dataTable =\n",
              "            await google.colab.kernel.invokeFunction('convertToInteractive',\n",
              "                                                     [key], {});\n",
              "          if (!dataTable) return;\n",
              "\n",
              "          const docLinkHtml = 'Like what you see? Visit the ' +\n",
              "            '<a target=\"_blank\" href=https://colab.research.google.com/notebooks/data_table.ipynb>data table notebook</a>'\n",
              "            + ' to learn more about interactive tables.';\n",
              "          element.innerHTML = '';\n",
              "          dataTable['output_type'] = 'display_data';\n",
              "          await google.colab.output.renderOutput(dataTable, element);\n",
              "          const docLink = document.createElement('div');\n",
              "          docLink.innerHTML = docLinkHtml;\n",
              "          element.appendChild(docLink);\n",
              "        }\n",
              "      </script>\n",
              "    </div>\n",
              "  </div>\n",
              "  "
            ]
          },
          "metadata": {},
          "execution_count": 12
        }
      ],
      "source": [
        "calls.groupby([\"City\",\"State\"]).count()"
      ]
    },
    {
      "cell_type": "markdown",
      "metadata": {
        "nbgrader": {
          "grade": false,
          "grade_id": "q1",
          "locked": true,
          "schema_version": 2,
          "solution": false
        },
        "id": "3YWSJlcdc8Md"
      },
      "source": [
        "When we called `head()` on the Dataframe `calls`, it seemed like `OFFENSE` and `CVLEGEND` both contained information about the type of event reported. What is the difference in meaning between the two columns? One way to probe this is to look at the `value_counts` for each Series."
      ]
    },
    {
      "cell_type": "code",
      "execution_count": 13,
      "metadata": {
        "jupyter": {
          "outputs_hidden": false
        },
        "id": "CfqnCeTUc8Md",
        "outputId": "85a54bf3-495f-435e-aa78-e4b0d91403b1",
        "colab": {
          "base_uri": "https://localhost:8080/"
        }
      },
      "outputs": [
        {
          "output_type": "execute_result",
          "data": {
            "text/plain": [
              "BURGLARY AUTO               658\n",
              "THEFT MISD. (UNDER $950)    633\n",
              "DISTURBANCE                 277\n",
              "VANDALISM                   248\n",
              "VEHICLE STOLEN              235\n",
              "THEFT FELONY (OVER $950)    214\n",
              "BURGLARY RESIDENTIAL        194\n",
              "ASSAULT/BATTERY MISD.       190\n",
              "ROBBERY                     168\n",
              "NARCOTICS                   118\n",
              "Name: OFFENSE, dtype: int64"
            ]
          },
          "metadata": {},
          "execution_count": 13
        }
      ],
      "source": [
        "calls['OFFENSE'].value_counts().head(10)"
      ]
    },
    {
      "cell_type": "code",
      "execution_count": 14,
      "metadata": {
        "jupyter": {
          "outputs_hidden": false
        },
        "id": "Pqm5LxNsc8Me",
        "outputId": "0628eea4-e4d6-4559-857e-02a62ca1e0e0",
        "colab": {
          "base_uri": "https://localhost:8080/"
        }
      },
      "outputs": [
        {
          "output_type": "execute_result",
          "data": {
            "text/plain": [
              "LARCENY                   871\n",
              "BURGLARY - VEHICLE        658\n",
              "DISORDERLY CONDUCT        279\n",
              "ASSAULT                   263\n",
              "VANDALISM                 248\n",
              "MOTOR VEHICLE THEFT       235\n",
              "FRAUD                     208\n",
              "BURGLARY - RESIDENTIAL    194\n",
              "ROBBERY                   168\n",
              "DRUG VIOLATION            118\n",
              "Name: CVLEGEND, dtype: int64"
            ]
          },
          "metadata": {},
          "execution_count": 14
        }
      ],
      "source": [
        "calls['CVLEGEND'].value_counts().head(10)"
      ]
    },
    {
      "cell_type": "markdown",
      "metadata": {
        "nbgrader": {
          "grade": false,
          "grade_id": "q1a",
          "locked": true,
          "schema_version": 2,
          "solution": false
        },
        "id": "tLX6Y0wOc8Me"
      },
      "source": [
        "It seems like `OFFENSE` is more specific than `CVLEGEND`, e.g. \"LARCENY\" vs. \"THEFT FELONY (OVER $950)\". If you're unfamiliar with the term, \"larceny\" is a legal term for theft of personal property.\n",
        "\n",
        "To get a sense of how many subcategories there are for each `OFFENSE`, we will set `calls_by_cvlegend_and_offense` equal to a multi-indexed series where the data is first indexed on the `CVLEGEND` and then on the `OFFENSE`, and the data is equal to the number of offenses in the database that match the respective `CVLEGEND` and `OFFENSE`. As you can see, `calls_by_cvlegend_and_offense[\"LARCENY\", \"THEFT FROM PERSON\"]` returns 24 which means there are 24 instances of larceny with offense of type \"THEFT FROM PERSON\" in the database."
      ]
    },
    {
      "cell_type": "code",
      "execution_count": 15,
      "metadata": {
        "id": "RxeCEDOac8Me",
        "outputId": "53b89bcb-c156-4878-ab7d-e16e25212f6c",
        "colab": {
          "base_uri": "https://localhost:8080/"
        }
      },
      "outputs": [
        {
          "output_type": "execute_result",
          "data": {
            "text/plain": [
              "24"
            ]
          },
          "metadata": {},
          "execution_count": 15
        }
      ],
      "source": [
        "calls_by_cvlegend_and_offense = calls.groupby([\"CVLEGEND\", \"OFFENSE\"]).size()\n",
        "calls_by_cvlegend_and_offense[\"LARCENY\", \"THEFT FROM PERSON\"]"
      ]
    },
    {
      "cell_type": "markdown",
      "metadata": {
        "deletable": false,
        "editable": false,
        "nbgrader": {
          "grade": false,
          "grade_id": "q1b",
          "locked": true,
          "schema_version": 2,
          "solution": false
        },
        "id": "ZA4QF6qJc8Me"
      },
      "source": [
        "### Question 1\n",
        "\n",
        "In the cell below, set `answer1` equal to a list of strings corresponding to the possible values for `OFFENSE` when `CVLEGEND` is \"LARCENY\". You can type the answer manually, or you can create an expression that automatically extracts the names.\n",
        "\n",
        "<!--\n",
        "BEGIN QUESTION\n",
        "name: q1\n",
        "-->"
      ]
    },
    {
      "cell_type": "code",
      "execution_count": 16,
      "metadata": {
        "jupyter": {
          "outputs_hidden": false
        },
        "id": "H2RYW2Onc8Mf",
        "colab": {
          "base_uri": "https://localhost:8080/"
        },
        "outputId": "cd47deb1-c2bd-4731-b709-0d24c44b6abe"
      },
      "outputs": [
        {
          "output_type": "stream",
          "name": "stdout",
          "text": [
            "['THEFT MISD. (UNDER $950)', 'THEFT FELONY (OVER $950)', 'THEFT FROM PERSON']\n"
          ]
        }
      ],
      "source": [
        "larcenyDF = calls[calls['CVLEGEND'].str.fullmatch('LARCENY')]\n",
        "larcenyOffenseList = larcenyDF['OFFENSE'].values.tolist()\n",
        "answer1 = []\n",
        "[answer1.append(x) for x in larcenyOffenseList if x not in answer1]\n",
        "print(answer1)"
      ]
    },
    {
      "cell_type": "code",
      "execution_count": 17,
      "metadata": {
        "deletable": false,
        "editable": false,
        "id": "Qs_kxWz8c8Mf",
        "colab": {
          "base_uri": "https://localhost:8080/",
          "height": 47
        },
        "outputId": "be2a7577-73dc-4b4b-a038-15e82187dac6"
      },
      "outputs": [
        {
          "output_type": "execute_result",
          "data": {
            "text/plain": [
              "q1 results: All test cases passed!"
            ],
            "text/html": [
              "<p><strong><pre style='display: inline;'>q1</pre></strong> passed!</p>"
            ]
          },
          "metadata": {},
          "execution_count": 17
        }
      ],
      "source": [
        "grader.check(\"q1\")"
      ]
    },
    {
      "cell_type": "markdown",
      "metadata": {
        "nbgrader": {
          "grade": false,
          "grade_id": "setup",
          "locked": true,
          "schema_version": 2,
          "solution": false
        },
        "id": "2SjjjoAAc8Mf"
      },
      "source": [
        "--- \n",
        "\n",
        "## Part 2: Visualization\n"
      ]
    },
    {
      "cell_type": "markdown",
      "metadata": {
        "nbgrader": {
          "grade": false,
          "grade_id": "part2",
          "locked": true,
          "schema_version": 2,
          "solution": false
        },
        "id": "0L9Ke614c8Mf"
      },
      "source": [
        "## Pandas Examples\n",
        "\n",
        "Pandas offers basic functionality for plotting. For example, the `DataFrame` and `Series` classes both have a `plot` method. \n",
        "\n",
        "As you learn to do data visualization, you may find the [pandas plotting documentation](https://pandas.pydata.org/pandas-docs/stable/reference/api/pandas.DataFrame.plot.html)  helpful!"
      ]
    },
    {
      "cell_type": "markdown",
      "metadata": {
        "nbgrader": {
          "grade": false,
          "grade_id": "plot-demo",
          "locked": true,
          "schema_version": 2,
          "solution": false
        },
        "id": "qla25Ksec8Mf"
      },
      "source": [
        "As an example of the built-in plotting functionality of pandas, the following example uses `plot` method of the `Series` class to generate a `barh` plot type to visually display the value counts for `CVLEGEND`.\n",
        "\n",
        "There are also many other plots that we will explore throughout the lab."
      ]
    },
    {
      "cell_type": "code",
      "execution_count": 18,
      "metadata": {
        "jupyter": {
          "outputs_hidden": false
        },
        "nbgrader": {
          "grade": false,
          "grade_id": "plot-demo1",
          "locked": true,
          "schema_version": 2,
          "solution": false
        },
        "id": "LNRJHLl8c8Mf",
        "colab": {
          "base_uri": "https://localhost:8080/",
          "height": 431
        },
        "outputId": "d5b18eea-ebcd-4942-ee67-d1a2f271ec15"
      },
      "outputs": [
        {
          "output_type": "display_data",
          "data": {
            "text/plain": [
              "<Figure size 864x648 with 1 Axes>"
            ],
            "image/png": "[encoded data removed]"
          },
          "metadata": {
            "needs_background": "light"
          }
        }
      ],
      "source": [
        "ax = calls['CVLEGEND'].value_counts().plot(kind='barh')\n",
        "ax.set_ylabel(\"Crime Category\")\n",
        "ax.set_xlabel(\"Number of Calls\")\n",
        "ax.set_title(\"Number of Calls By Crime Type\");\n",
        "ax2 = plt.gca()"
      ]
    },
    {
      "cell_type": "markdown",
      "metadata": {
        "nbgrader": {
          "grade": false,
          "grade_id": "plot-demo6",
          "locked": true,
          "schema_version": 2,
          "solution": false
        },
        "id": "R1FK2mUOc8Mf"
      },
      "source": [
        "\n",
        "\n",
        "## An Additional Note on Plotting in Jupyter Notebooks\n",
        "\n",
        "You may have noticed that many of our code cells involving plotting end with a semicolon (;). This prevents any extra output from the last line of the cell that we may not want to see. Try adding this to your own code in the following questions!"
      ]
    },
    {
      "cell_type": "markdown",
      "metadata": {
        "deletable": false,
        "editable": false,
        "nbgrader": {
          "grade": false,
          "grade_id": "q3",
          "locked": true,
          "schema_version": 2,
          "solution": false
        },
        "id": "l2G1RFf4c8Mf"
      },
      "source": [
        "### Question 2\n",
        "\n",
        "Now it is your turn to make some plots using `pandas`.  Let's start by transforming the data so that it is easier to work with. We then will look at some distributions of the data. \n",
        "\n",
        "The CVDOW field isn't named helpfully and it is hard to see the meaning from the data alone. According to the website linked at the top of this notebook, CVDOW is actually indicating the day that events happened. 0->Sunday, 1->Monday ... 6->Saturday. \n",
        "\n",
        "#### Question 2a\n",
        "\n",
        "Add a new column `Day` into the `calls` DataFrame that has the string weekday (eg. 'Sunday') for the corresponding value in CVDOW. For example, if the first 3 values of `CVDOW` are `[3, 6, 0]`, then the first 3 values of the `Day` column should be `[\"Wednesday\", \"Saturday\", \"Sunday\"]`.\n",
        "\n",
        "**Hint:** *Try using the [Series.map](https://pandas.pydata.org/pandas-docs/stable/reference/api/pandas.Series.map.html) function on `calls[\"CVDOW\"]`.  Can you assign this to the new column `calls[\"Day\"]`?*\n",
        "\n",
        "<!--\n",
        "BEGIN QUESTION\n",
        "name: q2a\n",
        "-->"
      ]
    },
    {
      "cell_type": "code",
      "execution_count": 19,
      "metadata": {
        "collapsed": true,
        "jupyter": {
          "outputs_hidden": true
        },
        "nbgrader": {
          "grade": false,
          "grade_id": "q3a-answer",
          "locked": false,
          "schema_version": 2,
          "solution": true
        },
        "id": "x5OxG3fgc8Mg"
      },
      "outputs": [],
      "source": [
        "days = [\"Sunday\", \"Monday\", \"Tuesday\", \"Wednesday\", \"Thursday\", \"Friday\", \"Saturday\"]\n",
        "day_indices = range(7)\n",
        "indices_to_days_dict = dict(zip(day_indices, days)) # Should look like {0:\"Sunday\", 1:\"Monday\", ..., 6:\"Saturday\"}\n",
        "daysMap = calls['CVDOW'].map(indices_to_days_dict)\n",
        "calls['Day'] = daysMap"
      ]
    },
    {
      "cell_type": "code",
      "execution_count": 20,
      "metadata": {
        "deletable": false,
        "editable": false,
        "id": "83J0jEOwc8Mg",
        "colab": {
          "base_uri": "https://localhost:8080/",
          "height": 47
        },
        "outputId": "a03d92f6-f11a-4cd7-dcc7-4139dc051ce6"
      },
      "outputs": [
        {
          "output_type": "execute_result",
          "data": {
            "text/plain": [
              "q2a results: All test cases passed!"
            ],
            "text/html": [
              "<p><strong><pre style='display: inline;'>q2a</pre></strong> passed!</p>"
            ]
          },
          "metadata": {},
          "execution_count": 20
        }
      ],
      "source": [
        "grader.check(\"q2a\")"
      ]
    },
    {
      "cell_type": "markdown",
      "metadata": {
        "deletable": false,
        "editable": false,
        "id": "uCdkg-nxc8Mg"
      },
      "source": [
        "#### Question 2b\n",
        "\n",
        "Now let's look at the EVENTTM column which indicates the time for events. Since it contains hour and minute information, let's extract the hour info and create a new column named `Hour` in the `calls` DataFrame. You should save the hour as an `int`.\n",
        "\n",
        "\n",
        "**Hint:** *Your code should only require one line*\n",
        "\n",
        "<!--\n",
        "BEGIN QUESTION\n",
        "name: q2b\n",
        "-->"
      ]
    },
    {
      "cell_type": "code",
      "source": [
        "#print(calls.loc[calls['EVENTTM'] == \"22:17\"])\n",
        "print(calls['EVENTTM'].values)"
      ],
      "metadata": {
        "colab": {
          "base_uri": "https://localhost:8080/"
        },
        "id": "biSQ_NIT_ili",
        "outputId": "08102fa1-d972-4cd8-c51b-1199f1b68eae"
      },
      "execution_count": 21,
      "outputs": [
        {
          "output_type": "stream",
          "name": "stdout",
          "text": [
            "['22:17' '21:25' '20:00' ... '20:00' '17:00' '21:39']\n"
          ]
        }
      ]
    },
    {
      "cell_type": "code",
      "execution_count": 23,
      "metadata": {
        "collapsed": true,
        "jupyter": {
          "outputs_hidden": true
        },
        "id": "UjRF_GFQc8Mg",
        "colab": {
          "base_uri": "https://localhost:8080/",
          "height": 1000
        },
        "outputId": "91a817c8-dc26-40de-fcc4-eca6ac02a896"
      },
      "outputs": [
        {
          "output_type": "execute_result",
          "data": {
            "text/plain": [
              "        CASENO                   OFFENSE                 EVENTDT EVENTTM  \\\n",
              "0     18022300               DISTURBANCE  04/18/2018 12:00:00 AM   22:17   \n",
              "1     18026683  THEFT MISD. (UNDER $950)  05/09/2018 12:00:00 AM   21:25   \n",
              "2     18038550  THEFT MISD. (UNDER $950)  05/18/2018 12:00:00 AM   20:00   \n",
              "3     18014810             BURGLARY AUTO  03/13/2018 12:00:00 AM   08:50   \n",
              "4     18018643           ALCOHOL OFFENSE  03/31/2018 12:00:00 AM   13:29   \n",
              "...        ...                       ...                     ...     ...   \n",
              "3783  18045829  THEFT MISD. (UNDER $950)  08/15/2018 12:00:00 AM   08:42   \n",
              "3784  18040137               DISTURBANCE  07/17/2018 12:00:00 AM   10:34   \n",
              "3785  18090816                 VANDALISM  05/16/2018 12:00:00 AM   20:00   \n",
              "3786  18024397       SEXUAL ASSAULT FEL.  04/28/2018 12:00:00 AM   17:00   \n",
              "3787  18021099      ASSAULT/BATTERY FEL.  04/12/2018 12:00:00 AM   21:39   \n",
              "\n",
              "                  CVLEGEND  CVDOW                InDbDate  \\\n",
              "0       DISORDERLY CONDUCT      3  09/06/2018 03:30:12 AM   \n",
              "1                  LARCENY      3  09/06/2018 03:30:13 AM   \n",
              "2                  LARCENY      5  09/06/2018 03:30:09 AM   \n",
              "3       BURGLARY - VEHICLE      2  09/06/2018 03:30:08 AM   \n",
              "4     LIQUOR LAW VIOLATION      6  09/06/2018 03:30:11 AM   \n",
              "...                    ...    ...                     ...   \n",
              "3783               LARCENY      3  09/06/2018 03:30:10 AM   \n",
              "3784    DISORDERLY CONDUCT      2  09/06/2018 03:30:13 AM   \n",
              "3785             VANDALISM      3  09/06/2018 03:30:13 AM   \n",
              "3786             SEX CRIME      6  09/06/2018 03:30:12 AM   \n",
              "3787               ASSAULT      4  09/06/2018 03:30:12 AM   \n",
              "\n",
              "                                         Block_Location  \\\n",
              "0     OREGON STREET &amp; MCGEE AVE\\nBerkeley, CA\\n(...   \n",
              "1     200 UNIVERSITY AVE\\nBerkeley, CA\\n(37.865511, ...   \n",
              "2     2200 MILVIA ST\\nBerkeley, CA\\n(37.868574, -122...   \n",
              "3     1200 SIXTH ST\\nBerkeley, CA\\n(37.881142, -122....   \n",
              "4     CENTER STREET &amp; SHATTUCK AVE\\nBerkeley, CA...   \n",
              "...                                                 ...   \n",
              "3783  2300 TELEGRAPH AVE\\nBerkeley, CA\\n(37.868714, ...   \n",
              "3784  1100 UNIVERSITY AVE\\nBerkeley, CA\\n(37.869067,...   \n",
              "3785                     800 VICENTE RD\\nBerkeley, CA\\n   \n",
              "3786  2700 BANCROFT WAY\\nBerkeley, CA\\n(37.869312, -...   \n",
              "3787  1600 RUSSELL ST\\nBerkeley, CA\\n(37.85525, -122...   \n",
              "\n",
              "                           BLKADDR      City State        Day  Hour  \n",
              "0        OREGON STREET & MCGEE AVE  Berkeley    CA  Wednesday    22  \n",
              "1               200 UNIVERSITY AVE  Berkeley    CA  Wednesday    21  \n",
              "2                   2200 MILVIA ST  Berkeley    CA     Friday    20  \n",
              "3                    1200 SIXTH ST  Berkeley    CA    Tuesday     8  \n",
              "4     CENTER STREET & SHATTUCK AVE  Berkeley    CA   Saturday    13  \n",
              "...                            ...       ...   ...        ...   ...  \n",
              "3783            2300 TELEGRAPH AVE  Berkeley    CA  Wednesday     8  \n",
              "3784           1100 UNIVERSITY AVE  Berkeley    CA    Tuesday    10  \n",
              "3785                800 VICENTE RD  Berkeley    CA  Wednesday    20  \n",
              "3786             2700 BANCROFT WAY  Berkeley    CA   Saturday    17  \n",
              "3787               1600 RUSSELL ST  Berkeley    CA   Thursday    21  \n",
              "\n",
              "[3788 rows x 13 columns]"
            ],
            "text/html": [
              "\n",
              "  <div id=\"df-4144c1de-46aa-4793-b221-cc5908997fbe\">\n",
              "    <div class=\"colab-df-container\">\n",
              "      <div>\n",
              "<style scoped>\n",
              "    .dataframe tbody tr th:only-of-type {\n",
              "        vertical-align: middle;\n",
              "    }\n",
              "\n",
              "    .dataframe tbody tr th {\n",
              "        vertical-align: top;\n",
              "    }\n",
              "\n",
              "    .dataframe thead th {\n",
              "        text-align: right;\n",
              "    }\n",
              "</style>\n",
              "<table border=\"1\" class=\"dataframe\">\n",
              "  <thead>\n",
              "    <tr style=\"text-align: right;\">\n",
              "      <th></th>\n",
              "      <th>CASENO</th>\n",
              "      <th>OFFENSE</th>\n",
              "      <th>EVENTDT</th>\n",
              "      <th>EVENTTM</th>\n",
              "      <th>CVLEGEND</th>\n",
              "      <th>CVDOW</th>\n",
              "      <th>InDbDate</th>\n",
              "      <th>Block_Location</th>\n",
              "      <th>BLKADDR</th>\n",
              "      <th>City</th>\n",
              "      <th>State</th>\n",
              "      <th>Day</th>\n",
              "      <th>Hour</th>\n",
              "    </tr>\n",
              "  </thead>\n",
              "  <tbody>\n",
              "    <tr>\n",
              "      <th>0</th>\n",
              "      <td>18022300</td>\n",
              "      <td>DISTURBANCE</td>\n",
              "      <td>04/18/2018 12:00:00 AM</td>\n",
              "      <td>22:17</td>\n",
              "      <td>DISORDERLY CONDUCT</td>\n",
              "      <td>3</td>\n",
              "      <td>09/06/2018 03:30:12 AM</td>\n",
              "      <td>OREGON STREET &amp;amp; MCGEE AVE\\nBerkeley, CA\\n(...</td>\n",
              "      <td>OREGON STREET &amp; MCGEE AVE</td>\n",
              "      <td>Berkeley</td>\n",
              "      <td>CA</td>\n",
              "      <td>Wednesday</td>\n",
              "      <td>22</td>\n",
              "    </tr>\n",
              "    <tr>\n",
              "      <th>1</th>\n",
              "      <td>18026683</td>\n",
              "      <td>THEFT MISD. (UNDER $950)</td>\n",
              "      <td>05/09/2018 12:00:00 AM</td>\n",
              "      <td>21:25</td>\n",
              "      <td>LARCENY</td>\n",
              "      <td>3</td>\n",
              "      <td>09/06/2018 03:30:13 AM</td>\n",
              "      <td>200 UNIVERSITY AVE\\nBerkeley, CA\\n(37.865511, ...</td>\n",
              "      <td>200 UNIVERSITY AVE</td>\n",
              "      <td>Berkeley</td>\n",
              "      <td>CA</td>\n",
              "      <td>Wednesday</td>\n",
              "      <td>21</td>\n",
              "    </tr>\n",
              "    <tr>\n",
              "      <th>2</th>\n",
              "      <td>18038550</td>\n",
              "      <td>THEFT MISD. (UNDER $950)</td>\n",
              "      <td>05/18/2018 12:00:00 AM</td>\n",
              "      <td>20:00</td>\n",
              "      <td>LARCENY</td>\n",
              "      <td>5</td>\n",
              "      <td>09/06/2018 03:30:09 AM</td>\n",
              "      <td>2200 MILVIA ST\\nBerkeley, CA\\n(37.868574, -122...</td>\n",
              "      <td>2200 MILVIA ST</td>\n",
              "      <td>Berkeley</td>\n",
              "      <td>CA</td>\n",
              "      <td>Friday</td>\n",
              "      <td>20</td>\n",
              "    </tr>\n",
              "    <tr>\n",
              "      <th>3</th>\n",
              "      <td>18014810</td>\n",
              "      <td>BURGLARY AUTO</td>\n",
              "      <td>03/13/2018 12:00:00 AM</td>\n",
              "      <td>08:50</td>\n",
              "      <td>BURGLARY - VEHICLE</td>\n",
              "      <td>2</td>\n",
              "      <td>09/06/2018 03:30:08 AM</td>\n",
              "      <td>1200 SIXTH ST\\nBerkeley, CA\\n(37.881142, -122....</td>\n",
              "      <td>1200 SIXTH ST</td>\n",
              "      <td>Berkeley</td>\n",
              "      <td>CA</td>\n",
              "      <td>Tuesday</td>\n",
              "      <td>8</td>\n",
              "    </tr>\n",
              "    <tr>\n",
              "      <th>4</th>\n",
              "      <td>18018643</td>\n",
              "      <td>ALCOHOL OFFENSE</td>\n",
              "      <td>03/31/2018 12:00:00 AM</td>\n",
              "      <td>13:29</td>\n",
              "      <td>LIQUOR LAW VIOLATION</td>\n",
              "      <td>6</td>\n",
              "      <td>09/06/2018 03:30:11 AM</td>\n",
              "      <td>CENTER STREET &amp;amp; SHATTUCK AVE\\nBerkeley, CA...</td>\n",
              "      <td>CENTER STREET &amp; SHATTUCK AVE</td>\n",
              "      <td>Berkeley</td>\n",
              "      <td>CA</td>\n",
              "      <td>Saturday</td>\n",
              "      <td>13</td>\n",
              "    </tr>\n",
              "    <tr>\n",
              "      <th>...</th>\n",
              "      <td>...</td>\n",
              "      <td>...</td>\n",
              "      <td>...</td>\n",
              "      <td>...</td>\n",
              "      <td>...</td>\n",
              "      <td>...</td>\n",
              "      <td>...</td>\n",
              "      <td>...</td>\n",
              "      <td>...</td>\n",
              "      <td>...</td>\n",
              "      <td>...</td>\n",
              "      <td>...</td>\n",
              "      <td>...</td>\n",
              "    </tr>\n",
              "    <tr>\n",
              "      <th>3783</th>\n",
              "      <td>18045829</td>\n",
              "      <td>THEFT MISD. (UNDER $950)</td>\n",
              "      <td>08/15/2018 12:00:00 AM</td>\n",
              "      <td>08:42</td>\n",
              "      <td>LARCENY</td>\n",
              "      <td>3</td>\n",
              "      <td>09/06/2018 03:30:10 AM</td>\n",
              "      <td>2300 TELEGRAPH AVE\\nBerkeley, CA\\n(37.868714, ...</td>\n",
              "      <td>2300 TELEGRAPH AVE</td>\n",
              "      <td>Berkeley</td>\n",
              "      <td>CA</td>\n",
              "      <td>Wednesday</td>\n",
              "      <td>8</td>\n",
              "    </tr>\n",
              "    <tr>\n",
              "      <th>3784</th>\n",
              "      <td>18040137</td>\n",
              "      <td>DISTURBANCE</td>\n",
              "      <td>07/17/2018 12:00:00 AM</td>\n",
              "      <td>10:34</td>\n",
              "      <td>DISORDERLY CONDUCT</td>\n",
              "      <td>2</td>\n",
              "      <td>09/06/2018 03:30:13 AM</td>\n",
              "      <td>1100 UNIVERSITY AVE\\nBerkeley, CA\\n(37.869067,...</td>\n",
              "      <td>1100 UNIVERSITY AVE</td>\n",
              "      <td>Berkeley</td>\n",
              "      <td>CA</td>\n",
              "      <td>Tuesday</td>\n",
              "      <td>10</td>\n",
              "    </tr>\n",
              "    <tr>\n",
              "      <th>3785</th>\n",
              "      <td>18090816</td>\n",
              "      <td>VANDALISM</td>\n",
              "      <td>05/16/2018 12:00:00 AM</td>\n",
              "      <td>20:00</td>\n",
              "      <td>VANDALISM</td>\n",
              "      <td>3</td>\n",
              "      <td>09/06/2018 03:30:13 AM</td>\n",
              "      <td>800 VICENTE RD\\nBerkeley, CA\\n</td>\n",
              "      <td>800 VICENTE RD</td>\n",
              "      <td>Berkeley</td>\n",
              "      <td>CA</td>\n",
              "      <td>Wednesday</td>\n",
              "      <td>20</td>\n",
              "    </tr>\n",
              "    <tr>\n",
              "      <th>3786</th>\n",
              "      <td>18024397</td>\n",
              "      <td>SEXUAL ASSAULT FEL.</td>\n",
              "      <td>04/28/2018 12:00:00 AM</td>\n",
              "      <td>17:00</td>\n",
              "      <td>SEX CRIME</td>\n",
              "      <td>6</td>\n",
              "      <td>09/06/2018 03:30:12 AM</td>\n",
              "      <td>2700 BANCROFT WAY\\nBerkeley, CA\\n(37.869312, -...</td>\n",
              "      <td>2700 BANCROFT WAY</td>\n",
              "      <td>Berkeley</td>\n",
              "      <td>CA</td>\n",
              "      <td>Saturday</td>\n",
              "      <td>17</td>\n",
              "    </tr>\n",
              "    <tr>\n",
              "      <th>3787</th>\n",
              "      <td>18021099</td>\n",
              "      <td>ASSAULT/BATTERY FEL.</td>\n",
              "      <td>04/12/2018 12:00:00 AM</td>\n",
              "      <td>21:39</td>\n",
              "      <td>ASSAULT</td>\n",
              "      <td>4</td>\n",
              "      <td>09/06/2018 03:30:12 AM</td>\n",
              "      <td>1600 RUSSELL ST\\nBerkeley, CA\\n(37.85525, -122...</td>\n",
              "      <td>1600 RUSSELL ST</td>\n",
              "      <td>Berkeley</td>\n",
              "      <td>CA</td>\n",
              "      <td>Thursday</td>\n",
              "      <td>21</td>\n",
              "    </tr>\n",
              "  </tbody>\n",
              "</table>\n",
              "<p>3788 rows × 13 columns</p>\n",
              "</div>\n",
              "      <button class=\"colab-df-convert\" onclick=\"convertToInteractive('df-4144c1de-46aa-4793-b221-cc5908997fbe')\"\n",
              "              title=\"Convert this dataframe to an interactive table.\"\n",
              "              style=\"display:none;\">\n",
              "        \n",
              "  <svg xmlns=\"http://www.w3.org/2000/svg\" height=\"24px\"viewBox=\"0 0 24 24\"\n",
              "       width=\"24px\">\n",
              "    <path d=\"M0 0h24v24H0V0z\" fill=\"none\"/>\n",
              "    <path d=\"M18.56 5.44l.94 2.06.94-2.06 2.06-.94-2.06-.94-.94-2.06-.94 2.06-2.06.94zm-11 1L8.5 8.5l.94-2.06 2.06-.94-2.06-.94L8.5 2.5l-.94 2.06-2.06.94zm10 10l.94 2.06.94-2.06 2.06-.94-2.06-.94-.94-2.06-.94 2.06-2.06.94z\"/><path d=\"M17.41 7.96l-1.37-1.37c-.4-.4-.92-.59-1.43-.59-.52 0-1.04.2-1.43.59L10.3 9.45l-7.72 7.72c-.78.78-.78 2.05 0 2.83L4 21.41c.39.39.9.59 1.41.59.51 0 1.02-.2 1.41-.59l7.78-7.78 2.81-2.81c.8-.78.8-2.07 0-2.86zM5.41 20L4 18.59l7.72-7.72 1.47 1.35L5.41 20z\"/>\n",
              "  </svg>\n",
              "      </button>\n",
              "      \n",
              "  <style>\n",
              "    .colab-df-container {\n",
              "      display:flex;\n",
              "      flex-wrap:wrap;\n",
              "      gap: 12px;\n",
              "    }\n",
              "\n",
              "    .colab-df-convert {\n",
              "      background-color: #E8F0FE;\n",
              "      border: none;\n",
              "      border-radius: 50%;\n",
              "      cursor: pointer;\n",
              "      display: none;\n",
              "      fill: #1967D2;\n",
              "      height: 32px;\n",
              "      padding: 0 0 0 0;\n",
              "      width: 32px;\n",
              "    }\n",
              "\n",
              "    .colab-df-convert:hover {\n",
              "      background-color: #E2EBFA;\n",
              "      box-shadow: 0px 1px 2px rgba(60, 64, 67, 0.3), 0px 1px 3px 1px rgba(60, 64, 67, 0.15);\n",
              "      fill: #174EA6;\n",
              "    }\n",
              "\n",
              "    [theme=dark] .colab-df-convert {\n",
              "      background-color: #3B4455;\n",
              "      fill: #D2E3FC;\n",
              "    }\n",
              "\n",
              "    [theme=dark] .colab-df-convert:hover {\n",
              "      background-color: #434B5C;\n",
              "      box-shadow: 0px 1px 3px 1px rgba(0, 0, 0, 0.15);\n",
              "      filter: drop-shadow(0px 1px 2px rgba(0, 0, 0, 0.3));\n",
              "      fill: #FFFFFF;\n",
              "    }\n",
              "  </style>\n",
              "\n",
              "      <script>\n",
              "        const buttonEl =\n",
              "          document.querySelector('#df-4144c1de-46aa-4793-b221-cc5908997fbe button.colab-df-convert');\n",
              "        buttonEl.style.display =\n",
              "          google.colab.kernel.accessAllowed ? 'block' : 'none';\n",
              "\n",
              "        async function convertToInteractive(key) {\n",
              "          const element = document.querySelector('#df-4144c1de-46aa-4793-b221-cc5908997fbe');\n",
              "          const dataTable =\n",
              "            await google.colab.kernel.invokeFunction('convertToInteractive',\n",
              "                                                     [key], {});\n",
              "          if (!dataTable) return;\n",
              "\n",
              "          const docLinkHtml = 'Like what you see? Visit the ' +\n",
              "            '<a target=\"_blank\" href=https://colab.research.google.com/notebooks/data_table.ipynb>data table notebook</a>'\n",
              "            + ' to learn more about interactive tables.';\n",
              "          element.innerHTML = '';\n",
              "          dataTable['output_type'] = 'display_data';\n",
              "          await google.colab.output.renderOutput(dataTable, element);\n",
              "          const docLink = document.createElement('div');\n",
              "          docLink.innerHTML = docLinkHtml;\n",
              "          element.appendChild(docLink);\n",
              "        }\n",
              "      </script>\n",
              "    </div>\n",
              "  </div>\n",
              "  "
            ]
          },
          "metadata": {},
          "execution_count": 23
        }
      ],
      "source": [
        "calls[\"Hour\"] = calls[\"EVENTTM\"].apply(lambda x: int(x[0:2]))\n",
        "calls"
      ]
    },
    {
      "cell_type": "code",
      "execution_count": 25,
      "metadata": {
        "deletable": false,
        "editable": false,
        "id": "a_foYdHgc8Mg",
        "colab": {
          "base_uri": "https://localhost:8080/",
          "height": 47
        },
        "outputId": "bcae075c-589f-4155-ce52-a90c6c1b0281"
      },
      "outputs": [
        {
          "output_type": "execute_result",
          "data": {
            "text/plain": [
              "q2b results: All test cases passed!"
            ],
            "text/html": [
              "<p><strong><pre style='display: inline;'>q2b</pre></strong> passed!</p>"
            ]
          },
          "metadata": {},
          "execution_count": 25
        }
      ],
      "source": [
        "grader.check(\"q2b\")"
      ]
    },
    {
      "cell_type": "markdown",
      "metadata": {
        "deletable": false,
        "editable": false,
        "id": "Z3PpWGozc8Mg"
      },
      "source": [
        "#### Question 2c\n",
        "\n",
        "\n",
        "Using `pandas`, construct a line plot with the count of the number of calls (entries in the table) for each hour of the day  **ordered by the time** (eg. `12:00 AM`, `1:00 AM`, ...). Please use the provided variable `hours` in your answer. Be sure that your axes are labeled and that your plot is titled. \n",
        "\n",
        "<!--\n",
        "BEGIN QUESTION\n",
        "name: q2c\n",
        "\n",
        "-->"
      ]
    },
    {
      "cell_type": "code",
      "execution_count": 27,
      "metadata": {
        "jupyter": {
          "outputs_hidden": false
        },
        "id": "sJfON6psc8Mg",
        "colab": {
          "base_uri": "https://localhost:8080/",
          "height": 494
        },
        "outputId": "5ae2f566-d912-43c4-92e7-a64a4737f99c"
      },
      "outputs": [
        {
          "output_type": "display_data",
          "data": {
            "text/plain": [
              "<Figure size 864x648 with 1 Axes>"
            ],
            "image/png": "[encoded data removed]"
          },
          "metadata": {
            "needs_background": "light"
          }
        }
      ],
      "source": [
        "hours = list(range(24))\n",
        "\n",
        "plot = calls.groupby([\"Hour\"]).size().plot()\n",
        "plot.set_ylabel(\"Number of Calls\")\n",
        "plot.set_xlabel(\"Hour\")\n",
        "plot.set_title(\"Calls vs Hour\");\n",
        "plot.set_xticks(hours);\n",
        "# Leave this for grading purposes\n",
        "ax_3d = plt.gca()"
      ]
    },
    {
      "cell_type": "code",
      "execution_count": 26,
      "metadata": {
        "deletable": false,
        "editable": false,
        "id": "p3uYipgSc8Mh",
        "colab": {
          "base_uri": "https://localhost:8080/",
          "height": 47
        },
        "outputId": "6a9e4097-abc9-4a8c-ae3f-9cd3d19f957e"
      },
      "outputs": [
        {
          "output_type": "execute_result",
          "data": {
            "text/plain": [
              "q2c results: All test cases passed!"
            ],
            "text/html": [
              "<p><strong><pre style='display: inline;'>q2c</pre></strong> passed!</p>"
            ]
          },
          "metadata": {},
          "execution_count": 26
        }
      ],
      "source": [
        "grader.check(\"q2c\")"
      ]
    },
    {
      "cell_type": "markdown",
      "metadata": {
        "id": "WtOVjdl8c8Mh"
      },
      "source": [
        "##### Why do you think this happens? Are there more calls in the day or night? What are the most and least popular times? (Answer Below)"
      ]
    },
    {
      "cell_type": "markdown",
      "metadata": {
        "id": "oAT56pZzc8Mh"
      },
      "source": [
        ""
      ]
    },
    {
      "cell_type": "markdown",
      "metadata": {
        "deletable": false,
        "editable": false,
        "nbgrader": {
          "grade": false,
          "grade_id": "q4",
          "locked": true,
          "schema_version": 2,
          "solution": false
        },
        "id": "aWivQbNZc8Mh"
      },
      "source": [
        "### Question 3\n",
        "\n",
        "We can break down into some particular types of events to see their distribution. For example, let's make a bar plot for the CVLEGEND \"ROBBERY\". \n",
        "\n",
        "#### Question 3a\n",
        "\n",
        "Use `pandas` to create a vertical bar plot of the number of total robberies reported on each day of the week, again ordered by the days of the week starting with Sunday. Please use the provided variable `filtered` in your answer. Be sure that your axes are labeled and that your plot is titled.\n",
        "\n",
        "**Hint:** *This should be very similar to Question 2c*\n",
        "\n",
        "<!--\n",
        "BEGIN QUESTION\n",
        "name: q3a\n",
        "-->"
      ]
    },
    {
      "cell_type": "code",
      "execution_count": 38,
      "metadata": {
        "jupyter": {
          "outputs_hidden": false
        },
        "nbgrader": {
          "grade": false,
          "grade_id": "q4a-answer",
          "locked": false,
          "schema_version": 2,
          "solution": true
        },
        "id": "bKSy_6lrc8Mh",
        "colab": {
          "base_uri": "https://localhost:8080/",
          "height": 541
        },
        "outputId": "d445f39f-ea87-42ef-af44-d77aa88d3081"
      },
      "outputs": [
        {
          "output_type": "display_data",
          "data": {
            "text/plain": [
              "<Figure size 864x648 with 1 Axes>"
            ],
            "image/png": "[encoded data removed]"
          },
          "metadata": {
            "needs_background": "light"
          }
        }
      ],
      "source": [
        "filtered = calls[calls[\"CVLEGEND\"] == \"ROBBERY\"]\n",
        "grouped = filtered.groupby([\"Day\"]).size().reset_index().set_index(\"Day\")\n",
        "grouped = grouped.reindex([\"Sunday\", \"Monday\", \"Tuesday\", \"Wednesday\", \"Thursday\", \"Friday\", \"Sunday\"])\n",
        "#orderedDays = [\"Sunday\", \"Monday\", \"Tuesday\", \"Wednesday\", \"Thursday\", \"Friday\", \"Sunday\"]\n",
        "ax = grouped.plot(kind='bar')\n",
        "#ax.set_xticks(orderedDays)\n",
        "ax.set_ylabel(\"Number of Calls\")\n",
        "ax.set_xlabel(\"Day\")\n",
        "ax.set_title(\"Robbery calls vs Day of the week\");\n",
        "\n",
        "\n",
        "# Leave this for grading purposes\n",
        "#ax_4a = plt.gca()"
      ]
    },
    {
      "cell_type": "code",
      "execution_count": 37,
      "metadata": {
        "deletable": false,
        "editable": false,
        "id": "cqPNP_Q2c8Mh",
        "colab": {
          "base_uri": "https://localhost:8080/",
          "height": 1000
        },
        "outputId": "639c4816-7211-448f-828a-f612a66de6e2"
      },
      "outputs": [
        {
          "output_type": "execute_result",
          "data": {
            "text/plain": [
              "q3a results:\n",
              "    q3a - 1 result:\n",
              "        Trying:\n",
              "            import matplotlib \n",
              "        Expecting nothing\n",
              "        ok\n",
              "        Trying:\n",
              "            np.alltrue(np.array([l.get_text() for l in ax_4a.xaxis.get_ticklabels()]) == days)\n",
              "        Expecting:\n",
              "            True\n",
              "        **********************************************************************\n",
              "        Line 2, in q3a 0\n",
              "        Failed example:\n",
              "            np.alltrue(np.array([l.get_text() for l in ax_4a.xaxis.get_ticklabels()]) == days)\n",
              "        Exception raised:\n",
              "            Traceback (most recent call last):\n",
              "              File \"/usr/lib/python3.7/doctest.py\", line 1337, in __run\n",
              "                compileflags, 1), test.globs)\n",
              "              File \"<doctest q3a 0[1]>\", line 1, in <module>\n",
              "                np.alltrue(np.array([l.get_text() for l in ax_4a.xaxis.get_ticklabels()]) == days)\n",
              "            NameError: name 'ax_4a' is not defined\n",
              "\n",
              "    q3a - 2 result:\n",
              "        Trying:\n",
              "            import matplotlib \n",
              "        Expecting nothing\n",
              "        ok\n",
              "        Trying:\n",
              "            bars = [rect.get_height() for rect in ax_4a.get_children() \n",
              "                    if isinstance(rect, matplotlib.patches.Rectangle) and rect.get_x() != 0.0\n",
              "                   ]\n",
              "        Expecting nothing\n",
              "        **********************************************************************\n",
              "        Line 2, in q3a 1\n",
              "        Failed example:\n",
              "            bars = [rect.get_height() for rect in ax_4a.get_children() \n",
              "                    if isinstance(rect, matplotlib.patches.Rectangle) and rect.get_x() != 0.0\n",
              "                   ]\n",
              "        Exception raised:\n",
              "            Traceback (most recent call last):\n",
              "              File \"/usr/lib/python3.7/doctest.py\", line 1337, in __run\n",
              "                compileflags, 1), test.globs)\n",
              "              File \"<doctest q3a 1[1]>\", line 1, in <module>\n",
              "                bars = [rect.get_height() for rect in ax_4a.get_children()\n",
              "            NameError: name 'ax_4a' is not defined\n",
              "        Trying:\n",
              "            np.allclose(np.array(bars)[-7:], filtered['Day'].value_counts()[days].values)\n",
              "        Expecting:\n",
              "            True\n",
              "        **********************************************************************\n",
              "        Line 6, in q3a 1\n",
              "        Failed example:\n",
              "            np.allclose(np.array(bars)[-7:], filtered['Day'].value_counts()[days].values)\n",
              "        Exception raised:\n",
              "            Traceback (most recent call last):\n",
              "              File \"/usr/lib/python3.7/doctest.py\", line 1337, in __run\n",
              "                compileflags, 1), test.globs)\n",
              "              File \"<doctest q3a 1[2]>\", line 1, in <module>\n",
              "                np.allclose(np.array(bars)[-7:], filtered['Day'].value_counts()[days].values)\n",
              "            NameError: name 'bars' is not defined\n",
              "\n",
              "    q3a - 3 result:\n",
              "        Test case passed!"
            ],
            "text/html": [
              "<p><strong style='color: red;'><pre style='display: inline;'>q3a</pre> results:</strong></p><p><strong><pre style='display: inline;'>q3a - 1</pre> result:</strong></p><pre>    Trying:\n",
              "        import matplotlib \n",
              "    Expecting nothing\n",
              "    ok\n",
              "    Trying:\n",
              "        np.alltrue(np.array([l.get_text() for l in ax_4a.xaxis.get_ticklabels()]) == days)\n",
              "    Expecting:\n",
              "        True\n",
              "    **********************************************************************\n",
              "    Line 2, in q3a 0\n",
              "    Failed example:\n",
              "        np.alltrue(np.array([l.get_text() for l in ax_4a.xaxis.get_ticklabels()]) == days)\n",
              "    Exception raised:\n",
              "        Traceback (most recent call last):\n",
              "          File \"/usr/lib/python3.7/doctest.py\", line 1337, in __run\n",
              "            compileflags, 1), test.globs)\n",
              "          File \"<doctest q3a 0[1]>\", line 1, in <module>\n",
              "            np.alltrue(np.array([l.get_text() for l in ax_4a.xaxis.get_ticklabels()]) == days)\n",
              "        NameError: name 'ax_4a' is not defined\n",
              "</pre><p><strong><pre style='display: inline;'>q3a - 2</pre> result:</strong></p><pre>    Trying:\n",
              "        import matplotlib \n",
              "    Expecting nothing\n",
              "    ok\n",
              "    Trying:\n",
              "        bars = [rect.get_height() for rect in ax_4a.get_children() \n",
              "                if isinstance(rect, matplotlib.patches.Rectangle) and rect.get_x() != 0.0\n",
              "               ]\n",
              "    Expecting nothing\n",
              "    **********************************************************************\n",
              "    Line 2, in q3a 1\n",
              "    Failed example:\n",
              "        bars = [rect.get_height() for rect in ax_4a.get_children() \n",
              "                if isinstance(rect, matplotlib.patches.Rectangle) and rect.get_x() != 0.0\n",
              "               ]\n",
              "    Exception raised:\n",
              "        Traceback (most recent call last):\n",
              "          File \"/usr/lib/python3.7/doctest.py\", line 1337, in __run\n",
              "            compileflags, 1), test.globs)\n",
              "          File \"<doctest q3a 1[1]>\", line 1, in <module>\n",
              "            bars = [rect.get_height() for rect in ax_4a.get_children()\n",
              "        NameError: name 'ax_4a' is not defined\n",
              "    Trying:\n",
              "        np.allclose(np.array(bars)[-7:], filtered['Day'].value_counts()[days].values)\n",
              "    Expecting:\n",
              "        True\n",
              "    **********************************************************************\n",
              "    Line 6, in q3a 1\n",
              "    Failed example:\n",
              "        np.allclose(np.array(bars)[-7:], filtered['Day'].value_counts()[days].values)\n",
              "    Exception raised:\n",
              "        Traceback (most recent call last):\n",
              "          File \"/usr/lib/python3.7/doctest.py\", line 1337, in __run\n",
              "            compileflags, 1), test.globs)\n",
              "          File \"<doctest q3a 1[2]>\", line 1, in <module>\n",
              "            np.allclose(np.array(bars)[-7:], filtered['Day'].value_counts()[days].values)\n",
              "        NameError: name 'bars' is not defined\n",
              "</pre><p><strong><pre style='display: inline;'>q3a - 3</pre> result:</strong></p><pre>    Test case passed!</pre>"
            ]
          },
          "metadata": {},
          "execution_count": 37
        }
      ],
      "source": [
        "grader.check(\"q3a\")"
      ]
    },
    {
      "cell_type": "markdown",
      "metadata": {
        "nbgrader": {
          "grade": false,
          "grade_id": "q4b",
          "locked": true,
          "schema_version": 2,
          "solution": false
        },
        "id": "Idw40QzVc8Mh"
      },
      "source": [
        "#### Question 3b\n",
        "\n",
        "Do you observe anything interesting about the distribution of ROBBERY calls over a week? Which day is the peak for \"ROBBERY\"? Type a 1-2 sentence answer below."
      ]
    },
    {
      "cell_type": "markdown",
      "metadata": {
        "nbgrader": {
          "grade": true,
          "grade_id": "q4b-answer",
          "locked": false,
          "points": 1,
          "schema_version": 2,
          "solution": true
        },
        "id": "denjdMLdc8Mh"
      },
      "source": [
        "Thursday is the most popular days for robbery, and wednesday is the least popular day. The average number of robberies on the weekday(m-f) is greater than the average for the weekend."
      ]
    },
    {
      "cell_type": "markdown",
      "metadata": {
        "deletable": false,
        "editable": false,
        "nbgrader": {
          "grade": false,
          "grade_id": "q7",
          "locked": true,
          "schema_version": 2,
          "solution": false
        },
        "id": "ei3ujZTuc8Mh"
      },
      "source": [
        "### Question 4\n",
        "\n",
        "In the cell below, generate a boxplot which examines the hour of day of each crime broken down by the `CVLEGEND` value.  To construct this plot use the [DataFrame.boxplot](https://pandas.pydata.org/pandas-docs/stable/reference/api/pandas.DataFrame.boxplot.html) documentation. You may want to rotate the `CVLEGEND` labels for better readability.\n",
        "\n",
        "##### Looking at your plot, which crime type appears to have the largest interquartile range? Put your results into `answer4` as a string.\n",
        "\n",
        "\n",
        "<!--\n",
        "BEGIN QUESTION\n",
        "name: q4\n",
        "-->"
      ]
    },
    {
      "cell_type": "code",
      "execution_count": 41,
      "metadata": {
        "jupyter": {
          "outputs_hidden": false
        },
        "nbgrader": {
          "grade": false,
          "grade_id": "q7-pandas-boxplot",
          "locked": true,
          "schema_version": 2,
          "solution": false
        },
        "tags": [
          "student"
        ],
        "id": "x2alhK0Yc8Mh",
        "colab": {
          "base_uri": "https://localhost:8080/",
          "height": 468
        },
        "outputId": "7bc51200-259b-4f15-ab0b-a6851d37a809"
      },
      "outputs": [
        {
          "output_type": "display_data",
          "data": {
            "text/plain": [
              "<Figure size 864x648 with 25 Axes>"
            ],
            "image/png": "[encoded data removed]"
          },
          "metadata": {
            "needs_background": "light"
          }
        }
      ],
      "source": [
        "boxplot = calls.groupby([\"CVLEGEND\"]).boxplot(column=[\"Hour\"])\n",
        "answer4 = \"SEX CRIME\"\n"
      ]
    },
    {
      "cell_type": "code",
      "execution_count": 42,
      "metadata": {
        "deletable": false,
        "editable": false,
        "id": "disi9EPnc8Mi",
        "colab": {
          "base_uri": "https://localhost:8080/",
          "height": 47
        },
        "outputId": "07d4d708-956b-4ade-a227-a42253ba82f4"
      },
      "outputs": [
        {
          "output_type": "execute_result",
          "data": {
            "text/plain": [
              "q4 results: All test cases passed!"
            ],
            "text/html": [
              "<p><strong><pre style='display: inline;'>q4</pre></strong> passed!</p>"
            ]
          },
          "metadata": {},
          "execution_count": 42
        }
      ],
      "source": [
        "grader.check(\"q4\")"
      ]
    },
    {
      "cell_type": "markdown",
      "metadata": {
        "id": "imaAxofBc8Mi"
      },
      "source": [
        "**Important**: To make sure the test cases run correctly, click `Kernel>Restart & Run All` and make sure all of the test cases are still passing. Doing so will submit your code for you. \n",
        "\n",
        "If your test cases are no longer passing after restarting, it's likely because you're missing a variable, or the modifications that you'd previously made to your DataFrame are no longer taking place (perhaps because you deleted a cell). \n",
        "\n",
        "You may submit this assignment as many times as you'd like before the deadline.\n",
        "\n",
        "**You must restart and run all cells before submitting. Otherwise, you may pass test cases locally, but not on our servers. We will not entertain regrade requests of the form, “my code passed all of my local test cases, but failed the autograder”.**"
      ]
    },
    {
      "cell_type": "markdown",
      "metadata": {
        "nbgrader": {
          "grade": false,
          "grade_id": "finish",
          "locked": true,
          "schema_version": 2,
          "solution": false
        },
        "id": "Czi5xh4Hc8Mi"
      },
      "source": [
        "## Congratulations\n",
        "\n",
        "Congrats! You are finished with this assignment."
      ]
    },
    {
      "cell_type": "markdown",
      "metadata": {
        "deletable": false,
        "editable": false,
        "id": "1DSvrc0lc8Mi"
      },
      "source": [
        "---\n",
        "\n",
        "To double-check your work, the cell below will rerun all of the autograder tests."
      ]
    },
    {
      "cell_type": "code",
      "execution_count": 43,
      "metadata": {
        "deletable": false,
        "editable": false,
        "id": "PaRYIwsRc8Mi",
        "colab": {
          "base_uri": "https://localhost:8080/"
        },
        "outputId": "e733669e-9ed0-431a-9552-7ea474770a2c"
      },
      "outputs": [
        {
          "output_type": "execute_result",
          "data": {
            "text/plain": [
              "q1 results: All test cases passed!\n",
              "\n",
              "q2a results: All test cases passed!\n",
              "\n",
              "q2b results: All test cases passed!\n",
              "\n",
              "q2c results: All test cases passed!\n",
              "\n",
              "q3a results:\n",
              "    q3a - 1 result:\n",
              "        Trying:\n",
              "            import matplotlib \n",
              "        Expecting nothing\n",
              "        ok\n",
              "        Trying:\n",
              "            np.alltrue(np.array([l.get_text() for l in ax_4a.xaxis.get_ticklabels()]) == days)\n",
              "        Expecting:\n",
              "            True\n",
              "        **********************************************************************\n",
              "        Line 2, in q3a 0\n",
              "        Failed example:\n",
              "            np.alltrue(np.array([l.get_text() for l in ax_4a.xaxis.get_ticklabels()]) == days)\n",
              "        Exception raised:\n",
              "            Traceback (most recent call last):\n",
              "              File \"/usr/lib/python3.7/doctest.py\", line 1337, in __run\n",
              "                compileflags, 1), test.globs)\n",
              "              File \"<doctest q3a 0[1]>\", line 1, in <module>\n",
              "                np.alltrue(np.array([l.get_text() for l in ax_4a.xaxis.get_ticklabels()]) == days)\n",
              "            NameError: name 'ax_4a' is not defined\n",
              "\n",
              "    q3a - 2 result:\n",
              "        Trying:\n",
              "            import matplotlib \n",
              "        Expecting nothing\n",
              "        ok\n",
              "        Trying:\n",
              "            bars = [rect.get_height() for rect in ax_4a.get_children() \n",
              "                    if isinstance(rect, matplotlib.patches.Rectangle) and rect.get_x() != 0.0\n",
              "                   ]\n",
              "        Expecting nothing\n",
              "        **********************************************************************\n",
              "        Line 2, in q3a 1\n",
              "        Failed example:\n",
              "            bars = [rect.get_height() for rect in ax_4a.get_children() \n",
              "                    if isinstance(rect, matplotlib.patches.Rectangle) and rect.get_x() != 0.0\n",
              "                   ]\n",
              "        Exception raised:\n",
              "            Traceback (most recent call last):\n",
              "              File \"/usr/lib/python3.7/doctest.py\", line 1337, in __run\n",
              "                compileflags, 1), test.globs)\n",
              "              File \"<doctest q3a 1[1]>\", line 1, in <module>\n",
              "                bars = [rect.get_height() for rect in ax_4a.get_children()\n",
              "            NameError: name 'ax_4a' is not defined\n",
              "        Trying:\n",
              "            np.allclose(np.array(bars)[-7:], filtered['Day'].value_counts()[days].values)\n",
              "        Expecting:\n",
              "            True\n",
              "        **********************************************************************\n",
              "        Line 6, in q3a 1\n",
              "        Failed example:\n",
              "            np.allclose(np.array(bars)[-7:], filtered['Day'].value_counts()[days].values)\n",
              "        Exception raised:\n",
              "            Traceback (most recent call last):\n",
              "              File \"/usr/lib/python3.7/doctest.py\", line 1337, in __run\n",
              "                compileflags, 1), test.globs)\n",
              "              File \"<doctest q3a 1[2]>\", line 1, in <module>\n",
              "                np.allclose(np.array(bars)[-7:], filtered['Day'].value_counts()[days].values)\n",
              "            NameError: name 'bars' is not defined\n",
              "\n",
              "    q3a - 3 result:\n",
              "        Test case passed!\n",
              "\n",
              "q4 results: All test cases passed!"
            ]
          },
          "metadata": {},
          "execution_count": 43
        }
      ],
      "source": [
        "grader.check_all()"
      ]
    },
    {
      "cell_type": "markdown",
      "metadata": {
        "deletable": false,
        "editable": false,
        "id": "_paQ72JYc8Mi"
      },
      "source": [
        "## Submission\n",
        "\n",
        "Make sure you have run all cells in your notebook in order before running the cell below, so that all images/graphs appear in the output. The cell below will generate a zip file for you to submit. **Please save before exporting!**"
      ]
    },
    {
      "cell_type": "code",
      "execution_count": null,
      "metadata": {
        "deletable": false,
        "editable": false,
        "id": "coeOgARqc8Mi"
      },
      "outputs": [],
      "source": [
        "# Save your notebook first, then run this cell to export your submission.\n",
        "grader.export(pdf=False)"
      ]
    },
    {
      "cell_type": "markdown",
      "metadata": {
        "id": "cusmXsCBc8Mi"
      },
      "source": [
        " "
      ]
    }
  ],
  "metadata": {
    "celltoolbar": "Create Assignment",
    "kernelspec": {
      "display_name": "Python 3 (ipykernel)",
      "language": "python",
      "name": "python3"
    },
    "language_info": {
      "codemirror_mode": {
        "name": "ipython",
        "version": 3
      },
      "file_extension": ".py",
      "mimetype": "text/x-python",
      "name": "python",
      "nbconvert_exporter": "python",
      "pygments_lexer": "ipython3",
      "version": "3.9.7"
    },
    "colab": {
      "name": "Copy of lab03.ipynb",
      "provenance": [],
      "collapsed_sections": [],
      "include_colab_link": true
    }
  },
  "nbformat": 4,
  "nbformat_minor": 0
}
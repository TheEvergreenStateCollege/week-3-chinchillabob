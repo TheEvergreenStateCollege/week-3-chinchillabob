{
  "cells": [
    {
      "cell_type": "code",
      "execution_count": 2,
      "metadata": {
        "deletable": false,
        "editable": false,
        "colab": {
          "base_uri": "https://localhost:8080/"
        },
        "id": "cwdO3i5thw9W",
        "outputId": "46b79355-79cb-45a7-9ccc-c30222793c32"
      },
      "outputs": [
        {
          "output_type": "stream",
          "name": "stdout",
          "text": [
            "Requirement already satisfied: otter-grader in /usr/local/lib/python3.7/dist-packages (3.2.1)\n",
            "Requirement already satisfied: jupyter-client in /usr/local/lib/python3.7/dist-packages (from otter-grader) (5.3.5)\n",
            "Requirement already satisfied: requests in /usr/local/lib/python3.7/dist-packages (from otter-grader) (2.23.0)\n",
            "Requirement already satisfied: ipykernel in /usr/local/lib/python3.7/dist-packages (from otter-grader) (4.10.1)\n",
            "Requirement already satisfied: gspread in /usr/local/lib/python3.7/dist-packages (from otter-grader) (3.4.2)\n",
            "Requirement already satisfied: six in /usr/local/lib/python3.7/dist-packages (from otter-grader) (1.15.0)\n",
            "Requirement already satisfied: pandas in /usr/local/lib/python3.7/dist-packages (from otter-grader) (1.3.5)\n",
            "Requirement already satisfied: python-on-whales in /usr/local/lib/python3.7/dist-packages (from otter-grader) (0.43.0)\n",
            "Requirement already satisfied: pdfkit in /usr/local/lib/python3.7/dist-packages (from otter-grader) (1.0.0)\n",
            "Requirement already satisfied: dill in /usr/local/lib/python3.7/dist-packages (from otter-grader) (0.3.4)\n",
            "Requirement already satisfied: jinja2 in /usr/local/lib/python3.7/dist-packages (from otter-grader) (2.11.3)\n",
            "Requirement already satisfied: PyYAML in /usr/local/lib/python3.7/dist-packages (from otter-grader) (3.13)\n",
            "Requirement already satisfied: google-auth-oauthlib in /usr/local/lib/python3.7/dist-packages (from otter-grader) (0.4.6)\n",
            "Requirement already satisfied: nbconvert in /usr/local/lib/python3.7/dist-packages (from otter-grader) (5.6.1)\n",
            "Requirement already satisfied: google-api-python-client in /usr/local/lib/python3.7/dist-packages (from otter-grader) (1.12.11)\n",
            "Requirement already satisfied: nbformat in /usr/local/lib/python3.7/dist-packages (from otter-grader) (5.3.0)\n",
            "Requirement already satisfied: matplotlib in /usr/local/lib/python3.7/dist-packages (from otter-grader) (3.2.2)\n",
            "Requirement already satisfied: PyPDF2 in /usr/local/lib/python3.7/dist-packages (from otter-grader) (1.27.12)\n",
            "Requirement already satisfied: uritemplate<4dev,>=3.0.0 in /usr/local/lib/python3.7/dist-packages (from google-api-python-client->otter-grader) (3.0.1)\n",
            "Requirement already satisfied: google-auth<3dev,>=1.16.0 in /usr/local/lib/python3.7/dist-packages (from google-api-python-client->otter-grader) (1.35.0)\n",
            "Requirement already satisfied: google-api-core<3dev,>=1.21.0 in /usr/local/lib/python3.7/dist-packages (from google-api-python-client->otter-grader) (1.31.5)\n",
            "Requirement already satisfied: google-auth-httplib2>=0.0.3 in /usr/local/lib/python3.7/dist-packages (from google-api-python-client->otter-grader) (0.0.4)\n",
            "Requirement already satisfied: httplib2<1dev,>=0.15.0 in /usr/local/lib/python3.7/dist-packages (from google-api-python-client->otter-grader) (0.17.4)\n",
            "Requirement already satisfied: packaging>=14.3 in /usr/local/lib/python3.7/dist-packages (from google-api-core<3dev,>=1.21.0->google-api-python-client->otter-grader) (21.3)\n",
            "Requirement already satisfied: setuptools>=40.3.0 in /usr/local/lib/python3.7/dist-packages (from google-api-core<3dev,>=1.21.0->google-api-python-client->otter-grader) (57.4.0)\n",
            "Requirement already satisfied: protobuf>=3.12.0 in /usr/local/lib/python3.7/dist-packages (from google-api-core<3dev,>=1.21.0->google-api-python-client->otter-grader) (3.17.3)\n",
            "Requirement already satisfied: googleapis-common-protos<2.0dev,>=1.6.0 in /usr/local/lib/python3.7/dist-packages (from google-api-core<3dev,>=1.21.0->google-api-python-client->otter-grader) (1.56.0)\n",
            "Requirement already satisfied: pytz in /usr/local/lib/python3.7/dist-packages (from google-api-core<3dev,>=1.21.0->google-api-python-client->otter-grader) (2022.1)\n",
            "Requirement already satisfied: rsa<5,>=3.1.4 in /usr/local/lib/python3.7/dist-packages (from google-auth<3dev,>=1.16.0->google-api-python-client->otter-grader) (4.8)\n",
            "Requirement already satisfied: pyasn1-modules>=0.2.1 in /usr/local/lib/python3.7/dist-packages (from google-auth<3dev,>=1.16.0->google-api-python-client->otter-grader) (0.2.8)\n",
            "Requirement already satisfied: cachetools<5.0,>=2.0.0 in /usr/local/lib/python3.7/dist-packages (from google-auth<3dev,>=1.16.0->google-api-python-client->otter-grader) (4.2.4)\n",
            "Requirement already satisfied: pyparsing!=3.0.5,>=2.0.2 in /usr/local/lib/python3.7/dist-packages (from packaging>=14.3->google-api-core<3dev,>=1.21.0->google-api-python-client->otter-grader) (3.0.8)\n",
            "Requirement already satisfied: pyasn1<0.5.0,>=0.4.6 in /usr/local/lib/python3.7/dist-packages (from pyasn1-modules>=0.2.1->google-auth<3dev,>=1.16.0->google-api-python-client->otter-grader) (0.4.8)\n",
            "Requirement already satisfied: idna<3,>=2.5 in /usr/local/lib/python3.7/dist-packages (from requests->otter-grader) (2.10)\n",
            "Requirement already satisfied: urllib3!=1.25.0,!=1.25.1,<1.26,>=1.21.1 in /usr/local/lib/python3.7/dist-packages (from requests->otter-grader) (1.24.3)\n",
            "Requirement already satisfied: chardet<4,>=3.0.2 in /usr/local/lib/python3.7/dist-packages (from requests->otter-grader) (3.0.4)\n",
            "Requirement already satisfied: certifi>=2017.4.17 in /usr/local/lib/python3.7/dist-packages (from requests->otter-grader) (2021.10.8)\n",
            "Requirement already satisfied: requests-oauthlib>=0.7.0 in /usr/local/lib/python3.7/dist-packages (from google-auth-oauthlib->otter-grader) (1.3.1)\n",
            "Requirement already satisfied: oauthlib>=3.0.0 in /usr/local/lib/python3.7/dist-packages (from requests-oauthlib>=0.7.0->google-auth-oauthlib->otter-grader) (3.2.0)\n",
            "Requirement already satisfied: ipython>=4.0.0 in /usr/local/lib/python3.7/dist-packages (from ipykernel->otter-grader) (5.5.0)\n",
            "Requirement already satisfied: traitlets>=4.1.0 in /usr/local/lib/python3.7/dist-packages (from ipykernel->otter-grader) (5.1.1)\n",
            "Requirement already satisfied: tornado>=4.0 in /usr/local/lib/python3.7/dist-packages (from ipykernel->otter-grader) (5.1.1)\n",
            "Requirement already satisfied: decorator in /usr/local/lib/python3.7/dist-packages (from ipython>=4.0.0->ipykernel->otter-grader) (4.4.2)\n",
            "Requirement already satisfied: pexpect in /usr/local/lib/python3.7/dist-packages (from ipython>=4.0.0->ipykernel->otter-grader) (4.8.0)\n",
            "Requirement already satisfied: pygments in /usr/local/lib/python3.7/dist-packages (from ipython>=4.0.0->ipykernel->otter-grader) (2.6.1)\n",
            "Requirement already satisfied: simplegeneric>0.8 in /usr/local/lib/python3.7/dist-packages (from ipython>=4.0.0->ipykernel->otter-grader) (0.8.1)\n",
            "Requirement already satisfied: pickleshare in /usr/local/lib/python3.7/dist-packages (from ipython>=4.0.0->ipykernel->otter-grader) (0.7.5)\n",
            "Requirement already satisfied: prompt-toolkit<2.0.0,>=1.0.4 in /usr/local/lib/python3.7/dist-packages (from ipython>=4.0.0->ipykernel->otter-grader) (1.0.18)\n",
            "Requirement already satisfied: wcwidth in /usr/local/lib/python3.7/dist-packages (from prompt-toolkit<2.0.0,>=1.0.4->ipython>=4.0.0->ipykernel->otter-grader) (0.2.5)\n",
            "Requirement already satisfied: MarkupSafe>=0.23 in /usr/local/lib/python3.7/dist-packages (from jinja2->otter-grader) (2.0.1)\n",
            "Requirement already satisfied: jupyter-core>=4.6.0 in /usr/local/lib/python3.7/dist-packages (from jupyter-client->otter-grader) (4.10.0)\n",
            "Requirement already satisfied: pyzmq>=13 in /usr/local/lib/python3.7/dist-packages (from jupyter-client->otter-grader) (22.3.0)\n",
            "Requirement already satisfied: python-dateutil>=2.1 in /usr/local/lib/python3.7/dist-packages (from jupyter-client->otter-grader) (2.8.2)\n",
            "Requirement already satisfied: cycler>=0.10 in /usr/local/lib/python3.7/dist-packages (from matplotlib->otter-grader) (0.11.0)\n",
            "Requirement already satisfied: numpy>=1.11 in /usr/local/lib/python3.7/dist-packages (from matplotlib->otter-grader) (1.21.6)\n",
            "Requirement already satisfied: kiwisolver>=1.0.1 in /usr/local/lib/python3.7/dist-packages (from matplotlib->otter-grader) (1.4.2)\n",
            "Requirement already satisfied: typing-extensions in /usr/local/lib/python3.7/dist-packages (from kiwisolver>=1.0.1->matplotlib->otter-grader) (4.2.0)\n",
            "Requirement already satisfied: bleach in /usr/local/lib/python3.7/dist-packages (from nbconvert->otter-grader) (5.0.0)\n",
            "Requirement already satisfied: entrypoints>=0.2.2 in /usr/local/lib/python3.7/dist-packages (from nbconvert->otter-grader) (0.4)\n",
            "Requirement already satisfied: defusedxml in /usr/local/lib/python3.7/dist-packages (from nbconvert->otter-grader) (0.7.1)\n",
            "Requirement already satisfied: pandocfilters>=1.4.1 in /usr/local/lib/python3.7/dist-packages (from nbconvert->otter-grader) (1.5.0)\n",
            "Requirement already satisfied: testpath in /usr/local/lib/python3.7/dist-packages (from nbconvert->otter-grader) (0.6.0)\n",
            "Requirement already satisfied: mistune<2,>=0.8.1 in /usr/local/lib/python3.7/dist-packages (from nbconvert->otter-grader) (0.8.4)\n",
            "Requirement already satisfied: jsonschema>=2.6 in /usr/local/lib/python3.7/dist-packages (from nbformat->otter-grader) (4.3.3)\n",
            "Requirement already satisfied: fastjsonschema in /usr/local/lib/python3.7/dist-packages (from nbformat->otter-grader) (2.15.3)\n",
            "Requirement already satisfied: importlib-metadata in /usr/local/lib/python3.7/dist-packages (from jsonschema>=2.6->nbformat->otter-grader) (4.11.3)\n",
            "Requirement already satisfied: importlib-resources>=1.4.0 in /usr/local/lib/python3.7/dist-packages (from jsonschema>=2.6->nbformat->otter-grader) (5.7.1)\n",
            "Requirement already satisfied: attrs>=17.4.0 in /usr/local/lib/python3.7/dist-packages (from jsonschema>=2.6->nbformat->otter-grader) (21.4.0)\n",
            "Requirement already satisfied: pyrsistent!=0.17.0,!=0.17.1,!=0.17.2,>=0.14.0 in /usr/local/lib/python3.7/dist-packages (from jsonschema>=2.6->nbformat->otter-grader) (0.18.1)\n",
            "Requirement already satisfied: zipp>=3.1.0 in /usr/local/lib/python3.7/dist-packages (from importlib-resources>=1.4.0->jsonschema>=2.6->nbformat->otter-grader) (3.8.0)\n",
            "Requirement already satisfied: webencodings in /usr/local/lib/python3.7/dist-packages (from bleach->nbconvert->otter-grader) (0.5.1)\n",
            "Requirement already satisfied: ptyprocess>=0.5 in /usr/local/lib/python3.7/dist-packages (from pexpect->ipython>=4.0.0->ipykernel->otter-grader) (0.7.0)\n",
            "Requirement already satisfied: tqdm in /usr/local/lib/python3.7/dist-packages (from python-on-whales->otter-grader) (4.64.0)\n",
            "Requirement already satisfied: typer>=0.4.1 in /usr/local/lib/python3.7/dist-packages (from python-on-whales->otter-grader) (0.4.1)\n",
            "Requirement already satisfied: pydantic in /usr/local/lib/python3.7/dist-packages (from python-on-whales->otter-grader) (1.9.0)\n",
            "Requirement already satisfied: click<9.0.0,>=7.1.1 in /usr/local/lib/python3.7/dist-packages (from typer>=0.4.1->python-on-whales->otter-grader) (7.1.2)\n"
          ]
        }
      ],
      "source": [
        "!pip install otter-grader\n",
        "import otter\n",
        "grader = otter.Notebook(\"lab07.ipynb\")"
      ]
    },
    {
      "cell_type": "markdown",
      "metadata": {
        "id": "JuZYWc_ohw9Y"
      },
      "source": [
        "# Lab 7: Simple Linear Regression\n",
        "\n",
        "### Objective\n",
        "\n",
        "In this lab, we will review some of the details of how linear regression works as described in Lectures 12 and 13.\n",
        "\n",
        "We will also show you how to do linear regression using various real world tools including:\n",
        "- (Question 1) `seaborn`\n",
        "- (Question 2) analytic solution\n",
        "- (Question 3) `scipy.optimize`\n",
        "- (Question 4 & 5) `scikit-learn`\n",
        "\n",
        "In real world data science work, you are far more likely to use something similar to the `seaborn` and `scikit-learn` approaches, but it is important to know how to use the formulaic and `scipy.optimize` approaches so that you understand what is really going on.\n",
        "\n",
        "**This assignment should be completed and submitted by 11:59 PM PDT on Tuesday, October 12th.**\n",
        "\n",
        "\n",
        "### Collaboration Policy\n",
        "\n",
        "Data science is a collaborative activity. While you may talk to others about the labs, we ask that you **write your solutions individually**. If you do discuss the assignments with others, please **include their names** in the following cell:"
      ]
    },
    {
      "cell_type": "markdown",
      "metadata": {
        "id": "RfQL7129hw9Z"
      },
      "source": [
        "_List collaborators here_"
      ]
    },
    {
      "cell_type": "code",
      "execution_count": 3,
      "metadata": {
        "id": "XRnVES_whw9a"
      },
      "outputs": [],
      "source": [
        "# Run this cell\n",
        "import pandas as pd\n",
        "import numpy as np\n",
        "import seaborn as sns\n",
        "import matplotlib.pyplot as plt"
      ]
    },
    {
      "cell_type": "code",
      "execution_count": 4,
      "metadata": {
        "id": "iUY5Vu14hw9a"
      },
      "outputs": [],
      "source": [
        "# Run this cell to suppress all DeprecationWarnings\n",
        "import warnings\n",
        "warnings.filterwarnings(\"ignore\", category=FutureWarning)"
      ]
    },
    {
      "cell_type": "markdown",
      "metadata": {
        "id": "-N0Qu4Mqhw9a"
      },
      "source": [
        "We begin by importing the tips dataset that we also explored in Lab 6."
      ]
    },
    {
      "cell_type": "code",
      "execution_count": 5,
      "metadata": {
        "id": "2jl54kWphw9b"
      },
      "outputs": [],
      "source": [
        "tips = sns.load_dataset(\"tips\")"
      ]
    },
    {
      "cell_type": "code",
      "execution_count": 6,
      "metadata": {
        "colab": {
          "base_uri": "https://localhost:8080/",
          "height": 206
        },
        "id": "oErrln5shw9b",
        "outputId": "4810422e-d898-4457-d13c-61cc3436faea"
      },
      "outputs": [
        {
          "output_type": "execute_result",
          "data": {
            "text/plain": [
              "   total_bill   tip     sex smoker  day    time  size\n",
              "0       16.99  1.01  Female     No  Sun  Dinner     2\n",
              "1       10.34  1.66    Male     No  Sun  Dinner     3\n",
              "2       21.01  3.50    Male     No  Sun  Dinner     3\n",
              "3       23.68  3.31    Male     No  Sun  Dinner     2\n",
              "4       24.59  3.61  Female     No  Sun  Dinner     4"
            ],
            "text/html": [
              "\n",
              "  <div id=\"df-02e1e2ec-083d-4b0a-b866-931e493f2fbf\">\n",
              "    <div class=\"colab-df-container\">\n",
              "      <div>\n",
              "<style scoped>\n",
              "    .dataframe tbody tr th:only-of-type {\n",
              "        vertical-align: middle;\n",
              "    }\n",
              "\n",
              "    .dataframe tbody tr th {\n",
              "        vertical-align: top;\n",
              "    }\n",
              "\n",
              "    .dataframe thead th {\n",
              "        text-align: right;\n",
              "    }\n",
              "</style>\n",
              "<table border=\"1\" class=\"dataframe\">\n",
              "  <thead>\n",
              "    <tr style=\"text-align: right;\">\n",
              "      <th></th>\n",
              "      <th>total_bill</th>\n",
              "      <th>tip</th>\n",
              "      <th>sex</th>\n",
              "      <th>smoker</th>\n",
              "      <th>day</th>\n",
              "      <th>time</th>\n",
              "      <th>size</th>\n",
              "    </tr>\n",
              "  </thead>\n",
              "  <tbody>\n",
              "    <tr>\n",
              "      <th>0</th>\n",
              "      <td>16.99</td>\n",
              "      <td>1.01</td>\n",
              "      <td>Female</td>\n",
              "      <td>No</td>\n",
              "      <td>Sun</td>\n",
              "      <td>Dinner</td>\n",
              "      <td>2</td>\n",
              "    </tr>\n",
              "    <tr>\n",
              "      <th>1</th>\n",
              "      <td>10.34</td>\n",
              "      <td>1.66</td>\n",
              "      <td>Male</td>\n",
              "      <td>No</td>\n",
              "      <td>Sun</td>\n",
              "      <td>Dinner</td>\n",
              "      <td>3</td>\n",
              "    </tr>\n",
              "    <tr>\n",
              "      <th>2</th>\n",
              "      <td>21.01</td>\n",
              "      <td>3.50</td>\n",
              "      <td>Male</td>\n",
              "      <td>No</td>\n",
              "      <td>Sun</td>\n",
              "      <td>Dinner</td>\n",
              "      <td>3</td>\n",
              "    </tr>\n",
              "    <tr>\n",
              "      <th>3</th>\n",
              "      <td>23.68</td>\n",
              "      <td>3.31</td>\n",
              "      <td>Male</td>\n",
              "      <td>No</td>\n",
              "      <td>Sun</td>\n",
              "      <td>Dinner</td>\n",
              "      <td>2</td>\n",
              "    </tr>\n",
              "    <tr>\n",
              "      <th>4</th>\n",
              "      <td>24.59</td>\n",
              "      <td>3.61</td>\n",
              "      <td>Female</td>\n",
              "      <td>No</td>\n",
              "      <td>Sun</td>\n",
              "      <td>Dinner</td>\n",
              "      <td>4</td>\n",
              "    </tr>\n",
              "  </tbody>\n",
              "</table>\n",
              "</div>\n",
              "      <button class=\"colab-df-convert\" onclick=\"convertToInteractive('df-02e1e2ec-083d-4b0a-b866-931e493f2fbf')\"\n",
              "              title=\"Convert this dataframe to an interactive table.\"\n",
              "              style=\"display:none;\">\n",
              "        \n",
              "  <svg xmlns=\"http://www.w3.org/2000/svg\" height=\"24px\"viewBox=\"0 0 24 24\"\n",
              "       width=\"24px\">\n",
              "    <path d=\"M0 0h24v24H0V0z\" fill=\"none\"/>\n",
              "    <path d=\"M18.56 5.44l.94 2.06.94-2.06 2.06-.94-2.06-.94-.94-2.06-.94 2.06-2.06.94zm-11 1L8.5 8.5l.94-2.06 2.06-.94-2.06-.94L8.5 2.5l-.94 2.06-2.06.94zm10 10l.94 2.06.94-2.06 2.06-.94-2.06-.94-.94-2.06-.94 2.06-2.06.94z\"/><path d=\"M17.41 7.96l-1.37-1.37c-.4-.4-.92-.59-1.43-.59-.52 0-1.04.2-1.43.59L10.3 9.45l-7.72 7.72c-.78.78-.78 2.05 0 2.83L4 21.41c.39.39.9.59 1.41.59.51 0 1.02-.2 1.41-.59l7.78-7.78 2.81-2.81c.8-.78.8-2.07 0-2.86zM5.41 20L4 18.59l7.72-7.72 1.47 1.35L5.41 20z\"/>\n",
              "  </svg>\n",
              "      </button>\n",
              "      \n",
              "  <style>\n",
              "    .colab-df-container {\n",
              "      display:flex;\n",
              "      flex-wrap:wrap;\n",
              "      gap: 12px;\n",
              "    }\n",
              "\n",
              "    .colab-df-convert {\n",
              "      background-color: #E8F0FE;\n",
              "      border: none;\n",
              "      border-radius: 50%;\n",
              "      cursor: pointer;\n",
              "      display: none;\n",
              "      fill: #1967D2;\n",
              "      height: 32px;\n",
              "      padding: 0 0 0 0;\n",
              "      width: 32px;\n",
              "    }\n",
              "\n",
              "    .colab-df-convert:hover {\n",
              "      background-color: #E2EBFA;\n",
              "      box-shadow: 0px 1px 2px rgba(60, 64, 67, 0.3), 0px 1px 3px 1px rgba(60, 64, 67, 0.15);\n",
              "      fill: #174EA6;\n",
              "    }\n",
              "\n",
              "    [theme=dark] .colab-df-convert {\n",
              "      background-color: #3B4455;\n",
              "      fill: #D2E3FC;\n",
              "    }\n",
              "\n",
              "    [theme=dark] .colab-df-convert:hover {\n",
              "      background-color: #434B5C;\n",
              "      box-shadow: 0px 1px 3px 1px rgba(0, 0, 0, 0.15);\n",
              "      filter: drop-shadow(0px 1px 2px rgba(0, 0, 0, 0.3));\n",
              "      fill: #FFFFFF;\n",
              "    }\n",
              "  </style>\n",
              "\n",
              "      <script>\n",
              "        const buttonEl =\n",
              "          document.querySelector('#df-02e1e2ec-083d-4b0a-b866-931e493f2fbf button.colab-df-convert');\n",
              "        buttonEl.style.display =\n",
              "          google.colab.kernel.accessAllowed ? 'block' : 'none';\n",
              "\n",
              "        async function convertToInteractive(key) {\n",
              "          const element = document.querySelector('#df-02e1e2ec-083d-4b0a-b866-931e493f2fbf');\n",
              "          const dataTable =\n",
              "            await google.colab.kernel.invokeFunction('convertToInteractive',\n",
              "                                                     [key], {});\n",
              "          if (!dataTable) return;\n",
              "\n",
              "          const docLinkHtml = 'Like what you see? Visit the ' +\n",
              "            '<a target=\"_blank\" href=https://colab.research.google.com/notebooks/data_table.ipynb>data table notebook</a>'\n",
              "            + ' to learn more about interactive tables.';\n",
              "          element.innerHTML = '';\n",
              "          dataTable['output_type'] = 'display_data';\n",
              "          await google.colab.output.renderOutput(dataTable, element);\n",
              "          const docLink = document.createElement('div');\n",
              "          docLink.innerHTML = docLinkHtml;\n",
              "          element.appendChild(docLink);\n",
              "        }\n",
              "      </script>\n",
              "    </div>\n",
              "  </div>\n",
              "  "
            ]
          },
          "metadata": {},
          "execution_count": 6
        }
      ],
      "source": [
        "tips.head(5)"
      ]
    },
    {
      "cell_type": "markdown",
      "metadata": {
        "id": "P_767LR_hw9c"
      },
      "source": [
        "In Lab 6, we fit a **constant** model to this dataset, meaning our model was $\\hat{y} = \\theta$. In other words, given the set of tips `tips['tip']`, we tried to find a summary statistic $\\theta$ that best represented our set of tips. To find the value of $\\theta$, we minimized the following empirical risk:\n",
        "\n",
        "$$R(\\theta) = \\frac{1}{n}\\sum_{i = 1}^n L(y_i, \\theta)$$\n",
        "\n",
        "Here, $\\mathcal{D} = \\{y_1, y_2, ..., y_n \\}$ refers to our set of `tips` values.\n",
        "\n",
        "We looked at two different loss functions:\n",
        "\n",
        "- $L_2(y_i, \\hat{y_i}) = (y_i - \\hat{y_i})^2$\n",
        "\n",
        "- $L_1(y_i, \\hat{y_i}) = \\left| y_i - \\hat{y_i} \\right|$\n",
        "\n",
        "\n",
        "<br>\n",
        "\n",
        "By contrast, in this lab, we're interested in studying the **relationship between two variables**. Specifically, we're interested in the relationship between the `total_bill` column and `tip` column. Our goal will be to predict tip ($y$) from total_bill ($x$), i.e., we want to find values of $a$ and $b$ so that given $x$, predict $y$ as\n",
        "$$\\boxed{\\hat{y} = a + bx}$$\n",
        "We will now explore different ways to obtain the optimal values of $a, b$, called $\\hat{a}, \\hat{b}$, where $\\hat{y} = \\hat{a} + \\hat{b}x$."
      ]
    },
    {
      "cell_type": "markdown",
      "metadata": {
        "id": "0xWYTO6-hw9c"
      },
      "source": [
        "First, let's run `sns.lmplot`, which will both provide a scatterplot of `tip` vs `total_bill` and display the least-squares line of best fit. We will look into solving for the line of best fit in three different ways: manually using the formula from lecture, `scipy.optimize`, and `scikit-learn`."
      ]
    },
    {
      "cell_type": "code",
      "execution_count": 7,
      "metadata": {
        "colab": {
          "base_uri": "https://localhost:8080/",
          "height": 369
        },
        "id": "N94dfF15hw9d",
        "outputId": "51ef9251-ee12-44d2-86a5-ee84adbe174f"
      },
      "outputs": [
        {
          "output_type": "display_data",
          "data": {
            "text/plain": [
              "<Figure size 360x360 with 1 Axes>"
            ],
            "image/png": "[encoded data removed]"
          },
          "metadata": {
            "needs_background": "light"
          }
        }
      ],
      "source": [
        "sns.lmplot(data = tips, x = \"total_bill\", y = \"tip\");"
      ]
    },
    {
      "cell_type": "markdown",
      "metadata": {
        "id": "WKICXbqfhw9d"
      },
      "source": [
        "## Question 1 – Analytic Solution"
      ]
    },
    {
      "cell_type": "markdown",
      "metadata": {
        "id": "8JRxiaTfhw9d"
      },
      "source": [
        "In [Lecture 12](http://ds100.org/sp21/lecture/lec12/), we derived the following expression for the line of best fit.\n",
        "\n",
        "$$\\hat{y_i} = \\bar{y} + r \\frac{SD(y)}{SD(x)} (x_i - \\bar{x})$$\n",
        "\n",
        "where $\\bar{x}$, $\\bar{y}$, $SD(x)$, $SD(y)$ correspond to the means and standard deviations of $x$ and $y$, respectively, and $r$ is the correlation coefficient."
      ]
    },
    {
      "cell_type": "markdown",
      "metadata": {
        "deletable": false,
        "editable": false,
        "id": "Oy9HqmIrhw9d"
      },
      "source": [
        "### Question 1a\n",
        "\n",
        "Assign `x_bar`, `y_bar`, `std_x`, `std_y`, and `r`, for our dataset. Note: Make sure to use `np.std`, and not `<Series name>.std()`.\n",
        "\n",
        "- Hint: Remember, in our case, `y` is `tip`, and `x` is `total_bill`.\n",
        "- Hint: You may find `np.corrcoef` handy in computing `r`. Note that the output of `np.corrcoef` is a matrix, not a number, so you'll need to collect the correlation coefficient by indexing into the returned array.\n",
        "\n",
        "<!--\n",
        "BEGIN QUESTION\n",
        "name: q1a\n",
        "-->"
      ]
    },
    {
      "cell_type": "code",
      "execution_count": 17,
      "metadata": {
        "id": "flz-YQ8dhw9e"
      },
      "outputs": [],
      "source": [
        "x_bar = np.mean(tips['total_bill'])\n",
        "y_bar = np.mean(tips['tip'])\n",
        "std_x = np.std(tips['total_bill'])\n",
        "std_y = np.std(tips['tip'])\n",
        "r = np.corrcoef(tips['total_bill'], tips['tip'])\n",
        "r = r[0,1]"
      ]
    },
    {
      "cell_type": "code",
      "execution_count": 16,
      "metadata": {
        "deletable": false,
        "editable": false,
        "colab": {
          "base_uri": "https://localhost:8080/",
          "height": 47
        },
        "id": "Ta32sBX9hw9e",
        "outputId": "f5071be2-e3f9-48aa-8f8f-848e2767be75"
      },
      "outputs": [
        {
          "output_type": "execute_result",
          "data": {
            "text/plain": [
              "q1a results: All test cases passed!"
            ],
            "text/html": [
              "<p><strong><pre style='display: inline;'>q1a</pre></strong> passed!</p>"
            ]
          },
          "metadata": {},
          "execution_count": 16
        }
      ],
      "source": [
        "grader.check(\"q1a\")"
      ]
    },
    {
      "cell_type": "markdown",
      "metadata": {
        "id": "P5pjuQ79hw9e"
      },
      "source": [
        "### Question 1b"
      ]
    },
    {
      "cell_type": "markdown",
      "metadata": {
        "deletable": false,
        "editable": false,
        "id": "7gSg1izXhw9e"
      },
      "source": [
        "Now, set `b_hat` and `a_hat` correctly, in terms of the variables you defined above. \n",
        "\n",
        "- Hint: Try and match the slope and intercept in $\\hat{y_i} = \\hat{a} + \\hat{b}x_i$ to the slope and intercept in $\\hat{y_i} = \\bar{y} + r \\frac{SD(y)}{SD(x)} (x_i - \\bar{x})$.\n",
        "\n",
        "- Hint: You may want to define `a_hat` in terms of `b_hat`.\n",
        "\n",
        "<!--\n",
        "BEGIN QUESTION\n",
        "name: q1b\n",
        "-->"
      ]
    },
    {
      "cell_type": "code",
      "execution_count": 20,
      "metadata": {
        "id": "qTDFfg0Thw9f"
      },
      "outputs": [],
      "source": [
        "b_hat =r*(std_y/std_x)\n",
        "a_hat = y_bar - b_hat*x_bar"
      ]
    },
    {
      "cell_type": "code",
      "execution_count": 21,
      "metadata": {
        "deletable": false,
        "editable": false,
        "id": "q7FKAG-shw9f",
        "outputId": "ad856326-22b7-4d4a-9a67-28fcb8d88d49",
        "colab": {
          "base_uri": "https://localhost:8080/",
          "height": 47
        }
      },
      "outputs": [
        {
          "output_type": "execute_result",
          "data": {
            "text/plain": [
              "q1b results: All test cases passed!"
            ],
            "text/html": [
              "<p><strong><pre style='display: inline;'>q1b</pre></strong> passed!</p>"
            ]
          },
          "metadata": {},
          "execution_count": 21
        }
      ],
      "source": [
        "grader.check(\"q1b\")"
      ]
    },
    {
      "cell_type": "markdown",
      "metadata": {
        "deletable": false,
        "editable": false,
        "id": "h6e5ZqIqhw9f"
      },
      "source": [
        "### Question 1c\n",
        "\n",
        "Now, use `a_hat` and `b_hat` to predict the tip for a total bill amount of $20. Store your result in `predicted_20`.\n",
        "\n",
        "<!--\n",
        "BEGIN QUESTION\n",
        "name: q1c\n",
        "-->"
      ]
    },
    {
      "cell_type": "code",
      "execution_count": 23,
      "metadata": {
        "id": "MO6u2SOkhw9f",
        "outputId": "1577fba5-961a-48ba-d794-ab48765c9a44",
        "colab": {
          "base_uri": "https://localhost:8080/"
        }
      },
      "outputs": [
        {
          "output_type": "execute_result",
          "data": {
            "text/plain": [
              "3.0207599612417404"
            ]
          },
          "metadata": {},
          "execution_count": 23
        }
      ],
      "source": [
        "predicted_20 = a_hat + b_hat*20\n",
        "predicted_20"
      ]
    },
    {
      "cell_type": "code",
      "execution_count": 24,
      "metadata": {
        "deletable": false,
        "editable": false,
        "id": "TSYCJeYbhw9f",
        "outputId": "0836668d-96e7-46e7-f210-8f449f2ec348",
        "colab": {
          "base_uri": "https://localhost:8080/",
          "height": 47
        }
      },
      "outputs": [
        {
          "output_type": "execute_result",
          "data": {
            "text/plain": [
              "q1c results: All test cases passed!"
            ],
            "text/html": [
              "<p><strong><pre style='display: inline;'>q1c</pre></strong> passed!</p>"
            ]
          },
          "metadata": {},
          "execution_count": 24
        }
      ],
      "source": [
        "grader.check(\"q1c\")"
      ]
    },
    {
      "cell_type": "markdown",
      "metadata": {
        "deletable": false,
        "editable": false,
        "id": "7MIjcJGKhw9g"
      },
      "source": [
        "### Question 1d\n",
        "Assign `regression` to be a `pd.Series` of predicted $y$ values (i.e., predicted `\"tip\"` values) for the observed total bills (`tips[\"total_bill\"]`). You will need to use `a_hat`, `b_hat`, and `tips[\"total_bill\"]`.\n",
        "\n",
        "<!--\n",
        "BEGIN QUESTION\n",
        "name: q1d\n",
        "-->"
      ]
    },
    {
      "cell_type": "code",
      "execution_count": 25,
      "metadata": {
        "id": "kC_TcNzkhw9g"
      },
      "outputs": [],
      "source": [
        "regression = a_hat +b_hat*tips['total_bill']"
      ]
    },
    {
      "cell_type": "code",
      "execution_count": 26,
      "metadata": {
        "deletable": false,
        "editable": false,
        "id": "ql4qZtnfhw9g",
        "outputId": "c5cfe60c-2194-478d-de9d-7a4495907053",
        "colab": {
          "base_uri": "https://localhost:8080/",
          "height": 47
        }
      },
      "outputs": [
        {
          "output_type": "execute_result",
          "data": {
            "text/plain": [
              "q1d results: All test cases passed!"
            ],
            "text/html": [
              "<p><strong><pre style='display: inline;'>q1d</pre></strong> passed!</p>"
            ]
          },
          "metadata": {},
          "execution_count": 26
        }
      ],
      "source": [
        "grader.check(\"q1d\")"
      ]
    },
    {
      "cell_type": "markdown",
      "metadata": {
        "id": "vsIvXom3hw9g"
      },
      "source": [
        "If you defined `regression` correctly, the following cell will generate a scatter plot of `tip` vs. `total_bill`, along with the line of best fit you just computed."
      ]
    },
    {
      "cell_type": "code",
      "execution_count": 27,
      "metadata": {
        "id": "plDrzcmshw9g",
        "outputId": "4be973f6-a623-40e2-e93a-37771c2a5e12",
        "colab": {
          "base_uri": "https://localhost:8080/",
          "height": 280
        }
      },
      "outputs": [
        {
          "output_type": "display_data",
          "data": {
            "text/plain": [
              "<Figure size 432x288 with 1 Axes>"
            ],
            "image/png": "[encoded data removed]"
          },
          "metadata": {
            "needs_background": "light"
          }
        }
      ],
      "source": [
        "sns.scatterplot(x='total_bill', y='tip', data=tips)\n",
        "plt.plot(tips[\"total_bill\"], regression, color = 'r')\n",
        "plt.xlabel('total_bill')\n",
        "plt.ylabel('tip');"
      ]
    },
    {
      "cell_type": "markdown",
      "metadata": {
        "id": "OEDHlyw1hw9g"
      },
      "source": [
        "### Question 1e"
      ]
    },
    {
      "cell_type": "markdown",
      "metadata": {
        "id": "qCB3Bmxohw9g"
      },
      "source": [
        "Consider $r$, the correlation coefficient between `tips` and `total_bill`."
      ]
    },
    {
      "cell_type": "code",
      "execution_count": 28,
      "metadata": {
        "id": "kiTUoXcAhw9h",
        "outputId": "23e5e05c-22d1-40cf-8de3-a097fc2cf39e",
        "colab": {
          "base_uri": "https://localhost:8080/"
        }
      },
      "outputs": [
        {
          "output_type": "execute_result",
          "data": {
            "text/plain": [
              "0.6757341092113641"
            ]
          },
          "metadata": {},
          "execution_count": 28
        }
      ],
      "source": [
        "r"
      ]
    },
    {
      "cell_type": "markdown",
      "metadata": {
        "deletable": false,
        "editable": false,
        "id": "fKfzDB1nhw9h"
      },
      "source": [
        "**In the cell below**, comment on the value of $r$, and what it means in the context of the above scatter plot.\n",
        "<!--\n",
        "BEGIN QUESTION\n",
        "name: q4b\n",
        "-->"
      ]
    },
    {
      "cell_type": "markdown",
      "metadata": {
        "id": "1C-n26YPhw9h"
      },
      "source": [
        "**YOUR ANSWER HERE**"
      ]
    },
    {
      "cell_type": "markdown",
      "metadata": {
        "id": "xoAVJ7kHhw9h"
      },
      "source": [
        "r shows how close the line of regression is to the line, the value of 0.6757 shows the strength of the positive correlation"
      ]
    },
    {
      "cell_type": "markdown",
      "metadata": {
        "id": "Il_fpWIPhw9h"
      },
      "source": [
        "## Question 2 – Using Scipy Minimize"
      ]
    },
    {
      "cell_type": "markdown",
      "metadata": {
        "id": "hhIec_aWhw9h"
      },
      "source": [
        "`scipy.minimize` is a powerful method that can determine the optimal value of a variety of different functions. In practice, it is used to minimize functions that have no (or difficult to obtain) analytical solutions (it is a **numerical method**).\n",
        "\n",
        "It is overkill for our simple example, but nonetheless, we will show you how to use it, as it will become useful in the near future."
      ]
    },
    {
      "cell_type": "markdown",
      "metadata": {
        "id": "JEIvG_echw9h"
      },
      "source": [
        "First, we define the function `l2_tip_risk` which computes the empirical risk for a given choice of `a` and `b`. That is, it computes\n",
        "\n",
        "$$R(a, b) = \\frac{1}{n} \\sum_{i = 1}^n(y_i - (a + b x_i))^2$$\n",
        "\n",
        "where, again, $x$ and $y$ refer to `\"total_bill\"` and `\"tip\"`.\n",
        "\n",
        "As a reminder: Risk refers to the average loss on the training set.\n"
      ]
    },
    {
      "cell_type": "code",
      "execution_count": 29,
      "metadata": {
        "id": "Gjwn3R74hw9h"
      },
      "outputs": [],
      "source": [
        "def l2_tip_risk(a, b):\n",
        "    \"\"\"Returns average l2 loss between regression line for intercept a \n",
        "       and slope b\"\"\"\n",
        "    y_hat = a + b * tips[\"total_bill\"]\n",
        "    return np.mean((tips[\"tip\"] - y_hat)**2)"
      ]
    },
    {
      "cell_type": "markdown",
      "metadata": {
        "id": "BcJXH6cxhw9i"
      },
      "source": [
        "Try out different `a` and `b` values. Observe that if you pick values close to the ones from the earlier part of this lab then the risk is lower. "
      ]
    },
    {
      "cell_type": "code",
      "execution_count": 30,
      "metadata": {
        "id": "SwKWHEHzhw9i",
        "outputId": "902260e5-aa48-4ad6-9df5-e3e15f9d408c",
        "colab": {
          "base_uri": "https://localhost:8080/"
        }
      },
      "outputs": [
        {
          "output_type": "execute_result",
          "data": {
            "text/plain": [
              "1.0523364057377045"
            ]
          },
          "metadata": {},
          "execution_count": 30
        }
      ],
      "source": [
        "l2_tip_risk(0.9, 0.1)"
      ]
    },
    {
      "cell_type": "markdown",
      "metadata": {
        "id": "e8Kw0Qvzhw9i"
      },
      "source": [
        "The `minimize` function we saw in Lab 6 can also minimize functions of multiple variables. There's one quirk, however, which is that the function has to accept its parameters as a single list.\n",
        "\n",
        "For example, consider the multivariate $f(u, v) = u^2 - 2 u v - 3 v + 2 v^2$. It turns out this function's minimum is at $(1.5, 1.5)$. To minimize this function, we create `f`."
      ]
    },
    {
      "cell_type": "code",
      "execution_count": 31,
      "metadata": {
        "id": "Z-Ub4vHchw9i"
      },
      "outputs": [],
      "source": [
        "def f(theta):\n",
        "    u = theta[0]\n",
        "    v = theta[1]\n",
        "    return u**2 - 2 * u * v - 3 * v + 2 * v**2"
      ]
    },
    {
      "cell_type": "code",
      "execution_count": 32,
      "metadata": {
        "scrolled": true,
        "id": "0juiOVhRhw9i",
        "outputId": "e45764b8-bceb-49f2-9638-fdc13ff066ac",
        "colab": {
          "base_uri": "https://localhost:8080/"
        }
      },
      "outputs": [
        {
          "output_type": "execute_result",
          "data": {
            "text/plain": [
              "      fun: -2.2499999999999982\n",
              " hess_inv: array([[0.99999999, 0.5       ],\n",
              "       [0.5       , 0.5       ]])\n",
              "      jac: array([-5.96046448e-08,  0.00000000e+00])\n",
              "  message: 'Optimization terminated successfully.'\n",
              "     nfev: 16\n",
              "      nit: 3\n",
              "     njev: 4\n",
              "   status: 0\n",
              "  success: True\n",
              "        x: array([1.49999995, 1.49999997])"
            ]
          },
          "metadata": {},
          "execution_count": 32
        }
      ],
      "source": [
        "from scipy.optimize import minimize\n",
        "minimize(f, x0 = [0.0, 0.0]) \n",
        "\n",
        "# As an aside: x0 is the \"initial guess\" for the optimal theta. Minimize iteratively updates theta.\n",
        "# We will study an iterative algorithm for function minimization in the coming weeks."
      ]
    },
    {
      "cell_type": "markdown",
      "metadata": {
        "deletable": false,
        "editable": false,
        "id": "gs8Pg9GEhw9i"
      },
      "source": [
        "### Question 2a\n",
        "\n",
        "Define `l2_tip_risk_list` which is exactly like `l2_tip_risk` except that it takes in a single list of 2 variables rather than two separate variables. For example `l2_tip_risk_list([2, 3])` should return the same value as `l2_tip_risk(2, 3)`.\n",
        "\n",
        "<!--\n",
        "BEGIN QUESTION\n",
        "name: q2\n",
        "-->"
      ]
    },
    {
      "cell_type": "code",
      "execution_count": 35,
      "metadata": {
        "id": "x8SZcZGthw9i"
      },
      "outputs": [],
      "source": [
        "def l2_tip_risk_list(theta):\n",
        "    \"\"\"Returns average l2 loss between regression line for intercept a \n",
        "       and slope b\"\"\"\n",
        "    return l2_tip_risk(theta[0], theta[1])"
      ]
    },
    {
      "cell_type": "code",
      "execution_count": 36,
      "metadata": {
        "deletable": false,
        "editable": false,
        "id": "kXucv_18hw9i",
        "outputId": "0fc3c8a1-0bea-4d07-f911-48b0d3cc32d5",
        "colab": {
          "base_uri": "https://localhost:8080/",
          "height": 47
        }
      },
      "outputs": [
        {
          "output_type": "execute_result",
          "data": {
            "text/plain": [
              "q2 results: All test cases passed!"
            ],
            "text/html": [
              "<p><strong><pre style='display: inline;'>q2</pre></strong> passed!</p>"
            ]
          },
          "metadata": {},
          "execution_count": 36
        }
      ],
      "source": [
        "grader.check(\"q2\")"
      ]
    },
    {
      "cell_type": "markdown",
      "metadata": {
        "deletable": false,
        "editable": false,
        "id": "Tdhu4p9ehw9j"
      },
      "source": [
        "### Question 2b\n",
        "\n",
        "Now, set `minimized` to the result of calling `minimize` to optimize this risk function.\n",
        "\n",
        "- Hint: Make sure to set `x0`.\n",
        "\n",
        "<!--\n",
        "BEGIN QUESTION\n",
        "name: q2b\n",
        "-->"
      ]
    },
    {
      "cell_type": "code",
      "execution_count": 46,
      "metadata": {
        "id": "MbD7ODMjhw9j"
      },
      "outputs": [],
      "source": [
        "minimized = minimize(l2_tip_risk_list, x0 = [100,100])"
      ]
    },
    {
      "cell_type": "markdown",
      "metadata": {
        "id": "yo1HOOHlhw9j"
      },
      "source": [
        "Let's look at the output of your call to `minimize`."
      ]
    },
    {
      "cell_type": "code",
      "execution_count": 47,
      "metadata": {
        "id": "F3JVHY4ihw9j",
        "outputId": "21c5393f-1b40-4f2f-eb91-13eafcc59e2b",
        "colab": {
          "base_uri": "https://localhost:8080/"
        }
      },
      "outputs": [
        {
          "output_type": "execute_result",
          "data": {
            "text/plain": [
              "      fun: 1.0360194420116315\n",
              " hess_inv: array([[ 2.98      , -0.12534233],\n",
              "       [-0.12534233,  0.00633416]])\n",
              "      jac: array([-4.32133675e-07, -8.91089439e-06])\n",
              "  message: 'Optimization terminated successfully.'\n",
              "     nfev: 36\n",
              "      nit: 6\n",
              "     njev: 9\n",
              "   status: 0\n",
              "  success: True\n",
              "        x: array([0.92027046, 0.10502446])"
            ]
          },
          "metadata": {},
          "execution_count": 47
        }
      ],
      "source": [
        "minimized"
      ]
    },
    {
      "cell_type": "markdown",
      "metadata": {
        "id": "mbYW9jI1hw9j"
      },
      "source": [
        "The following cell will print out the values of `a_hat` and `b_hat` computed from both methods (\"manual\" refers to the technique in Question 1). If you've done everything correctly, these should be very close to one another."
      ]
    },
    {
      "cell_type": "code",
      "execution_count": 49,
      "metadata": {
        "id": "G5feA5Cthw9j",
        "outputId": "b8aabbf7-c8d9-431b-8e04-c961edb8154d",
        "colab": {
          "base_uri": "https://localhost:8080/"
        }
      },
      "outputs": [
        {
          "output_type": "stream",
          "name": "stdout",
          "text": [
            "a_hat_scipy:  0.9202704588527514\n",
            "a_hat_manual:  0.9202696135546726\n",
            "\n",
            "\n",
            "b_hat_scipy:  0.10502446493585423\n",
            "b_hat_manual:  0.1050245173843534\n"
          ]
        }
      ],
      "source": [
        "print('a_hat_scipy: ', minimized['x'][0])\n",
        "print('a_hat_manual: ', a_hat)\n",
        "print('\\n')\n",
        "print('b_hat_scipy: ', minimized['x'][1])\n",
        "print('b_hat_manual: ', b_hat)"
      ]
    },
    {
      "cell_type": "markdown",
      "metadata": {
        "id": "5MthDRpUhw9j"
      },
      "source": [
        "The reason these don't match past the first 5 decimal places is due to the fact that `scipy.minimize` is a numerical method, meaning it approximates the optimal value using an iterative procedure. You shouldn't worry about the tiny differences in solutions from different runs of `minimize`"
      ]
    },
    {
      "cell_type": "markdown",
      "metadata": {
        "id": "ChjaC53Hhw9j"
      },
      "source": [
        "## Question 3 – Using Scikit Learn"
      ]
    },
    {
      "cell_type": "markdown",
      "metadata": {
        "id": "aPPhL2CShw9k"
      },
      "source": [
        "Yet another way to fit a linear regression model is to use scikit learn, an industry standard package for machine learning applications. \n",
        "\n",
        "To do so, we first create a `LinearRegression` object."
      ]
    },
    {
      "cell_type": "code",
      "execution_count": 50,
      "metadata": {
        "id": "xZ75PREPhw9k"
      },
      "outputs": [],
      "source": [
        "from sklearn.linear_model import LinearRegression\n",
        "model = LinearRegression()"
      ]
    },
    {
      "cell_type": "markdown",
      "metadata": {
        "id": "fxS68Z-vhw9k"
      },
      "source": [
        "Here, `model` is like a \"blank slate\" for a linear model. Now, we need to tell `model` to \"fit\" itself to the data. Essentially, this is doing exactly what you did in the previous part of this lab (creating a risk function and finding the parameters that minimize that risk).\n",
        "\n",
        "<i>Note: `X` needs to be a matrix (or DataFrame), as opposed to a single array (or Series). This is because `sklearn.linear_model` is robust enough to be used for multiple regression, which we will look at in Question 4.</i>"
      ]
    },
    {
      "cell_type": "code",
      "execution_count": 51,
      "metadata": {
        "scrolled": true,
        "id": "9MUKwOgthw9k",
        "outputId": "06f644d1-36d4-48a8-c7e2-2e0ebd42795b",
        "colab": {
          "base_uri": "https://localhost:8080/"
        }
      },
      "outputs": [
        {
          "output_type": "execute_result",
          "data": {
            "text/plain": [
              "LinearRegression()"
            ]
          },
          "metadata": {},
          "execution_count": 51
        }
      ],
      "source": [
        "model.fit(X = tips[['total_bill']], y= tips['tip'])"
      ]
    },
    {
      "cell_type": "markdown",
      "metadata": {
        "id": "Rnt_vAq4hw9k"
      },
      "source": [
        "Now that the model exists, we can look at the a_hat and b_hat values it found, which are given in the attributes `intercept` and `coef`, respectively."
      ]
    },
    {
      "cell_type": "code",
      "execution_count": 52,
      "metadata": {
        "id": "Sw0ss2U8hw9k",
        "outputId": "4846b618-07ec-445e-84fb-75002ba89f1f",
        "colab": {
          "base_uri": "https://localhost:8080/"
        }
      },
      "outputs": [
        {
          "output_type": "execute_result",
          "data": {
            "text/plain": [
              "array([0.10502452])"
            ]
          },
          "metadata": {},
          "execution_count": 52
        }
      ],
      "source": [
        "model.coef_"
      ]
    },
    {
      "cell_type": "code",
      "execution_count": 53,
      "metadata": {
        "id": "K7MajYEvhw9k",
        "outputId": "caee8997-8eae-4138-aaa6-1c591509ab15",
        "colab": {
          "base_uri": "https://localhost:8080/"
        }
      },
      "outputs": [
        {
          "output_type": "execute_result",
          "data": {
            "text/plain": [
              "0.9202696135546731"
            ]
          },
          "metadata": {},
          "execution_count": 53
        }
      ],
      "source": [
        "model.intercept_"
      ]
    },
    {
      "cell_type": "markdown",
      "metadata": {
        "id": "XpIKF3Gahw9k"
      },
      "source": [
        "To use the `scikit-learn` linear regression model to make predictions, you can use the `model.predict` method:"
      ]
    },
    {
      "cell_type": "code",
      "execution_count": 54,
      "metadata": {
        "id": "RyiAjgYlhw9l",
        "outputId": "a20399f3-c92c-4234-a825-6ec5782e6cc4",
        "colab": {
          "base_uri": "https://localhost:8080/"
        }
      },
      "outputs": [
        {
          "output_type": "stream",
          "name": "stderr",
          "text": [
            "/usr/local/lib/python3.7/dist-packages/sklearn/base.py:451: UserWarning: X does not have valid feature names, but LinearRegression was fitted with feature names\n",
            "  \"X does not have valid feature names, but\"\n"
          ]
        },
        {
          "output_type": "execute_result",
          "data": {
            "text/plain": [
              "array([3.02075996])"
            ]
          },
          "metadata": {},
          "execution_count": 54
        }
      ],
      "source": [
        "model.predict([[20]]) # 20 needs to be a 2D array since the X above was a 2D array."
      ]
    },
    {
      "cell_type": "markdown",
      "metadata": {
        "id": "Sg7XJe0shw9l"
      },
      "source": [
        "The above line of code tells us that `model` predicts a tip of $\\$3.02$ given a total bill amount of $\\$20$. This is the same as doing `a_hat + b_hat * 20` as in Question 1c."
      ]
    },
    {
      "cell_type": "markdown",
      "metadata": {
        "deletable": false,
        "editable": false,
        "id": "nwk9oWNZhw9l"
      },
      "source": [
        "### Question 3a\n",
        "\n",
        "Create a linear regression plot using `model.predict`. It should look very similar (if not the same) as your plot from Question 1d.\n",
        "\n",
        "<!--\n",
        "BEGIN QUESTION\n",
        "name: q3a\n",
        "-->"
      ]
    },
    {
      "cell_type": "code",
      "execution_count": 58,
      "metadata": {
        "scrolled": true,
        "id": "komdc4rdhw9l",
        "outputId": "c14eaf5f-51c7-4854-f2e0-e5e24c387cc9",
        "colab": {
          "base_uri": "https://localhost:8080/",
          "height": 280
        }
      },
      "outputs": [
        {
          "output_type": "display_data",
          "data": {
            "text/plain": [
              "<Figure size 432x288 with 1 Axes>"
            ],
            "image/png": "[encoded data removed]"
          },
          "metadata": {
            "needs_background": "light"
          }
        }
      ],
      "source": [
        "predicted_tip = model.predict(tips[['total_bill']])\n",
        "sns.scatterplot(x='total_bill', y='tip', data=tips)\n",
        "plt.plot(tips[\"total_bill\"],  predicted_tip, color = 'r');"
      ]
    },
    {
      "cell_type": "markdown",
      "metadata": {
        "id": "_ydHBozzhw9l"
      },
      "source": [
        "## Question 4 – Multiple Linear Regression"
      ]
    },
    {
      "cell_type": "markdown",
      "metadata": {
        "id": "B9VlOplohw9l"
      },
      "source": [
        "In the previous parts we showed how to establish relationships between one independent explanatory variable and one response variable. However, with real-world problems you will often want to use **multiple features** to model and predict a response variable. To do so, we will use multiple linear regression, as discussed in [Lecture 13](http://ds100.org/sp21/lecture/lec13/). Multiple linear regression attempts to model the relationship between two or more explanatory variables and a response variable by fitting a linear equation to the observed data. Formally, the model for multiple linear regression, given $p$ features is:\n",
        "\n",
        "$$y_i = \\theta_0 + \\theta_1 x_1 + \\theta_2 x_2 + … + \\theta_p x_p $$\n",
        "\n",
        "Please note that we have been using the terms **features**, **independent variables**, and **explanatory variables** interchangeably. Usually “features” are used in the context of machine learning when you are trying to make predictions. “Independent variables” and “explanatory variables” are mainly found in statistics, econometrics and other related fields which focus on understanding the relationship between a set of variables.  \n",
        "\n",
        "\n",
        "For example, consider the plot below which shows fuel efficiency vs. engine power for several models of automobiles."
      ]
    },
    {
      "cell_type": "code",
      "execution_count": 59,
      "metadata": {
        "id": "n-kwPpduhw9l",
        "outputId": "afb04202-311f-476b-b18d-a2285afadaa8",
        "colab": {
          "base_uri": "https://localhost:8080/",
          "height": 206
        }
      },
      "outputs": [
        {
          "output_type": "execute_result",
          "data": {
            "text/plain": [
              "      mpg  cylinders  displacement  horsepower  weight  acceleration  \\\n",
              "19   26.0          4          97.0        46.0    1835          20.5   \n",
              "102  26.0          4          97.0        46.0    1950          21.0   \n",
              "326  43.4          4          90.0        48.0    2335          23.7   \n",
              "325  44.3          4          90.0        48.0    2085          21.7   \n",
              "244  43.1          4          90.0        48.0    1985          21.5   \n",
              "\n",
              "     model_year  origin                             name  \n",
              "19           70  europe     volkswagen 1131 deluxe sedan  \n",
              "102          73  europe          volkswagen super beetle  \n",
              "326          80  europe               vw dasher (diesel)  \n",
              "325          80  europe             vw rabbit c (diesel)  \n",
              "244          78  europe  volkswagen rabbit custom diesel  "
            ],
            "text/html": [
              "\n",
              "  <div id=\"df-112f6c34-a1cd-428b-91df-83e60d269548\">\n",
              "    <div class=\"colab-df-container\">\n",
              "      <div>\n",
              "<style scoped>\n",
              "    .dataframe tbody tr th:only-of-type {\n",
              "        vertical-align: middle;\n",
              "    }\n",
              "\n",
              "    .dataframe tbody tr th {\n",
              "        vertical-align: top;\n",
              "    }\n",
              "\n",
              "    .dataframe thead th {\n",
              "        text-align: right;\n",
              "    }\n",
              "</style>\n",
              "<table border=\"1\" class=\"dataframe\">\n",
              "  <thead>\n",
              "    <tr style=\"text-align: right;\">\n",
              "      <th></th>\n",
              "      <th>mpg</th>\n",
              "      <th>cylinders</th>\n",
              "      <th>displacement</th>\n",
              "      <th>horsepower</th>\n",
              "      <th>weight</th>\n",
              "      <th>acceleration</th>\n",
              "      <th>model_year</th>\n",
              "      <th>origin</th>\n",
              "      <th>name</th>\n",
              "    </tr>\n",
              "  </thead>\n",
              "  <tbody>\n",
              "    <tr>\n",
              "      <th>19</th>\n",
              "      <td>26.0</td>\n",
              "      <td>4</td>\n",
              "      <td>97.0</td>\n",
              "      <td>46.0</td>\n",
              "      <td>1835</td>\n",
              "      <td>20.5</td>\n",
              "      <td>70</td>\n",
              "      <td>europe</td>\n",
              "      <td>volkswagen 1131 deluxe sedan</td>\n",
              "    </tr>\n",
              "    <tr>\n",
              "      <th>102</th>\n",
              "      <td>26.0</td>\n",
              "      <td>4</td>\n",
              "      <td>97.0</td>\n",
              "      <td>46.0</td>\n",
              "      <td>1950</td>\n",
              "      <td>21.0</td>\n",
              "      <td>73</td>\n",
              "      <td>europe</td>\n",
              "      <td>volkswagen super beetle</td>\n",
              "    </tr>\n",
              "    <tr>\n",
              "      <th>326</th>\n",
              "      <td>43.4</td>\n",
              "      <td>4</td>\n",
              "      <td>90.0</td>\n",
              "      <td>48.0</td>\n",
              "      <td>2335</td>\n",
              "      <td>23.7</td>\n",
              "      <td>80</td>\n",
              "      <td>europe</td>\n",
              "      <td>vw dasher (diesel)</td>\n",
              "    </tr>\n",
              "    <tr>\n",
              "      <th>325</th>\n",
              "      <td>44.3</td>\n",
              "      <td>4</td>\n",
              "      <td>90.0</td>\n",
              "      <td>48.0</td>\n",
              "      <td>2085</td>\n",
              "      <td>21.7</td>\n",
              "      <td>80</td>\n",
              "      <td>europe</td>\n",
              "      <td>vw rabbit c (diesel)</td>\n",
              "    </tr>\n",
              "    <tr>\n",
              "      <th>244</th>\n",
              "      <td>43.1</td>\n",
              "      <td>4</td>\n",
              "      <td>90.0</td>\n",
              "      <td>48.0</td>\n",
              "      <td>1985</td>\n",
              "      <td>21.5</td>\n",
              "      <td>78</td>\n",
              "      <td>europe</td>\n",
              "      <td>volkswagen rabbit custom diesel</td>\n",
              "    </tr>\n",
              "  </tbody>\n",
              "</table>\n",
              "</div>\n",
              "      <button class=\"colab-df-convert\" onclick=\"convertToInteractive('df-112f6c34-a1cd-428b-91df-83e60d269548')\"\n",
              "              title=\"Convert this dataframe to an interactive table.\"\n",
              "              style=\"display:none;\">\n",
              "        \n",
              "  <svg xmlns=\"http://www.w3.org/2000/svg\" height=\"24px\"viewBox=\"0 0 24 24\"\n",
              "       width=\"24px\">\n",
              "    <path d=\"M0 0h24v24H0V0z\" fill=\"none\"/>\n",
              "    <path d=\"M18.56 5.44l.94 2.06.94-2.06 2.06-.94-2.06-.94-.94-2.06-.94 2.06-2.06.94zm-11 1L8.5 8.5l.94-2.06 2.06-.94-2.06-.94L8.5 2.5l-.94 2.06-2.06.94zm10 10l.94 2.06.94-2.06 2.06-.94-2.06-.94-.94-2.06-.94 2.06-2.06.94z\"/><path d=\"M17.41 7.96l-1.37-1.37c-.4-.4-.92-.59-1.43-.59-.52 0-1.04.2-1.43.59L10.3 9.45l-7.72 7.72c-.78.78-.78 2.05 0 2.83L4 21.41c.39.39.9.59 1.41.59.51 0 1.02-.2 1.41-.59l7.78-7.78 2.81-2.81c.8-.78.8-2.07 0-2.86zM5.41 20L4 18.59l7.72-7.72 1.47 1.35L5.41 20z\"/>\n",
              "  </svg>\n",
              "      </button>\n",
              "      \n",
              "  <style>\n",
              "    .colab-df-container {\n",
              "      display:flex;\n",
              "      flex-wrap:wrap;\n",
              "      gap: 12px;\n",
              "    }\n",
              "\n",
              "    .colab-df-convert {\n",
              "      background-color: #E8F0FE;\n",
              "      border: none;\n",
              "      border-radius: 50%;\n",
              "      cursor: pointer;\n",
              "      display: none;\n",
              "      fill: #1967D2;\n",
              "      height: 32px;\n",
              "      padding: 0 0 0 0;\n",
              "      width: 32px;\n",
              "    }\n",
              "\n",
              "    .colab-df-convert:hover {\n",
              "      background-color: #E2EBFA;\n",
              "      box-shadow: 0px 1px 2px rgba(60, 64, 67, 0.3), 0px 1px 3px 1px rgba(60, 64, 67, 0.15);\n",
              "      fill: #174EA6;\n",
              "    }\n",
              "\n",
              "    [theme=dark] .colab-df-convert {\n",
              "      background-color: #3B4455;\n",
              "      fill: #D2E3FC;\n",
              "    }\n",
              "\n",
              "    [theme=dark] .colab-df-convert:hover {\n",
              "      background-color: #434B5C;\n",
              "      box-shadow: 0px 1px 3px 1px rgba(0, 0, 0, 0.15);\n",
              "      filter: drop-shadow(0px 1px 2px rgba(0, 0, 0, 0.3));\n",
              "      fill: #FFFFFF;\n",
              "    }\n",
              "  </style>\n",
              "\n",
              "      <script>\n",
              "        const buttonEl =\n",
              "          document.querySelector('#df-112f6c34-a1cd-428b-91df-83e60d269548 button.colab-df-convert');\n",
              "        buttonEl.style.display =\n",
              "          google.colab.kernel.accessAllowed ? 'block' : 'none';\n",
              "\n",
              "        async function convertToInteractive(key) {\n",
              "          const element = document.querySelector('#df-112f6c34-a1cd-428b-91df-83e60d269548');\n",
              "          const dataTable =\n",
              "            await google.colab.kernel.invokeFunction('convertToInteractive',\n",
              "                                                     [key], {});\n",
              "          if (!dataTable) return;\n",
              "\n",
              "          const docLinkHtml = 'Like what you see? Visit the ' +\n",
              "            '<a target=\"_blank\" href=https://colab.research.google.com/notebooks/data_table.ipynb>data table notebook</a>'\n",
              "            + ' to learn more about interactive tables.';\n",
              "          element.innerHTML = '';\n",
              "          dataTable['output_type'] = 'display_data';\n",
              "          await google.colab.output.renderOutput(dataTable, element);\n",
              "          const docLink = document.createElement('div');\n",
              "          docLink.innerHTML = docLinkHtml;\n",
              "          element.appendChild(docLink);\n",
              "        }\n",
              "      </script>\n",
              "    </div>\n",
              "  </div>\n",
              "  "
            ]
          },
          "metadata": {},
          "execution_count": 59
        }
      ],
      "source": [
        "# Here, we load the fuel dataset, and drop any rows that have missing data\n",
        "vehicle_data = sns.load_dataset('mpg').dropna()\n",
        "vehicle_data = vehicle_data.sort_values('horsepower', ascending=True)\n",
        "vehicle_data.head(5)"
      ]
    },
    {
      "cell_type": "code",
      "execution_count": 60,
      "metadata": {
        "id": "EhdlDSRihw9l",
        "outputId": "1d20589b-76d0-4e06-922f-95765942b292",
        "colab": {
          "base_uri": "https://localhost:8080/",
          "height": 279
        }
      },
      "outputs": [
        {
          "output_type": "display_data",
          "data": {
            "text/plain": [
              "<Figure size 432x288 with 1 Axes>"
            ],
            "image/png": "[encoded data removed]"
          },
          "metadata": {
            "needs_background": "light"
          }
        }
      ],
      "source": [
        "sns.scatterplot(x='horsepower', y='mpg', data=vehicle_data);"
      ]
    },
    {
      "cell_type": "markdown",
      "metadata": {
        "id": "BAMWacxThw9l"
      },
      "source": [
        "If we use `horsepower` alone to predict `mpg`, we get not-so-great results."
      ]
    },
    {
      "cell_type": "code",
      "execution_count": 61,
      "metadata": {
        "id": "e-6TZKq7hw9l",
        "outputId": "3537e899-d985-4a00-d1be-d14cdf50ef35",
        "colab": {
          "base_uri": "https://localhost:8080/",
          "height": 369
        }
      },
      "outputs": [
        {
          "output_type": "display_data",
          "data": {
            "text/plain": [
              "<Figure size 360x360 with 1 Axes>"
            ],
            "image/png": "[encoded data removed]"
          },
          "metadata": {
            "needs_background": "light"
          }
        }
      ],
      "source": [
        "sns.lmplot(x='horsepower', y='mpg', data=vehicle_data);"
      ]
    },
    {
      "cell_type": "markdown",
      "metadata": {
        "id": "7O0snT8ihw9m"
      },
      "source": [
        "Below, we make a residual plot of the residuals versus the fitted values for this simple linear regression model."
      ]
    },
    {
      "cell_type": "code",
      "execution_count": 62,
      "metadata": {
        "scrolled": true,
        "id": "duDLUwfLhw9m",
        "outputId": "f9847361-201e-4690-c4cd-1d431b165fc7",
        "colab": {
          "base_uri": "https://localhost:8080/",
          "height": 279
        }
      },
      "outputs": [
        {
          "output_type": "display_data",
          "data": {
            "text/plain": [
              "<Figure size 432x288 with 1 Axes>"
            ],
            "image/png": "[encoded data removed]"
          },
          "metadata": {
            "needs_background": "light"
          }
        }
      ],
      "source": [
        "model_simple = LinearRegression()\n",
        "model_simple.fit(vehicle_data[['horsepower']], vehicle_data['mpg'])\n",
        "model_simple_fitted = model_simple.predict(vehicle_data[['horsepower']])\n",
        "plt.scatter(model_simple_fitted, vehicle_data['mpg'] - model_simple_fitted)\n",
        "plt.xlabel('Fitted Values')\n",
        "plt.ylabel('Residuals');"
      ]
    },
    {
      "cell_type": "markdown",
      "metadata": {
        "id": "vDNu1Igzhw9m"
      },
      "source": [
        "This is not an example of a \"good\" residual plot. There is an underlying parabolic pattern in the residuals, so we should consider adding a quadratic feature."
      ]
    },
    {
      "cell_type": "markdown",
      "metadata": {
        "id": "uOnB83XFhw9m"
      },
      "source": [
        "We can consider including functions of existing features as new features to help improve the predictive power of our model. (This is something we will discuss in further detail in the Feature Engineering lecture, Lecture 14.) For example, the line below adds a column which contains the square of the horsepower for each car in the dataset."
      ]
    },
    {
      "cell_type": "code",
      "execution_count": 63,
      "metadata": {
        "id": "zHp23uvShw9m",
        "outputId": "6b8f2472-e97f-4c9c-dd2b-cd0e30829528",
        "colab": {
          "base_uri": "https://localhost:8080/",
          "height": 206
        }
      },
      "outputs": [
        {
          "output_type": "execute_result",
          "data": {
            "text/plain": [
              "      mpg  cylinders  displacement  horsepower  weight  acceleration  \\\n",
              "19   26.0          4          97.0        46.0    1835          20.5   \n",
              "102  26.0          4          97.0        46.0    1950          21.0   \n",
              "326  43.4          4          90.0        48.0    2335          23.7   \n",
              "325  44.3          4          90.0        48.0    2085          21.7   \n",
              "244  43.1          4          90.0        48.0    1985          21.5   \n",
              "\n",
              "     model_year  origin                             name    hp^2  \n",
              "19           70  europe     volkswagen 1131 deluxe sedan  2116.0  \n",
              "102          73  europe          volkswagen super beetle  2116.0  \n",
              "326          80  europe               vw dasher (diesel)  2304.0  \n",
              "325          80  europe             vw rabbit c (diesel)  2304.0  \n",
              "244          78  europe  volkswagen rabbit custom diesel  2304.0  "
            ],
            "text/html": [
              "\n",
              "  <div id=\"df-870585cb-4d18-49f0-8998-ab31a2d968d0\">\n",
              "    <div class=\"colab-df-container\">\n",
              "      <div>\n",
              "<style scoped>\n",
              "    .dataframe tbody tr th:only-of-type {\n",
              "        vertical-align: middle;\n",
              "    }\n",
              "\n",
              "    .dataframe tbody tr th {\n",
              "        vertical-align: top;\n",
              "    }\n",
              "\n",
              "    .dataframe thead th {\n",
              "        text-align: right;\n",
              "    }\n",
              "</style>\n",
              "<table border=\"1\" class=\"dataframe\">\n",
              "  <thead>\n",
              "    <tr style=\"text-align: right;\">\n",
              "      <th></th>\n",
              "      <th>mpg</th>\n",
              "      <th>cylinders</th>\n",
              "      <th>displacement</th>\n",
              "      <th>horsepower</th>\n",
              "      <th>weight</th>\n",
              "      <th>acceleration</th>\n",
              "      <th>model_year</th>\n",
              "      <th>origin</th>\n",
              "      <th>name</th>\n",
              "      <th>hp^2</th>\n",
              "    </tr>\n",
              "  </thead>\n",
              "  <tbody>\n",
              "    <tr>\n",
              "      <th>19</th>\n",
              "      <td>26.0</td>\n",
              "      <td>4</td>\n",
              "      <td>97.0</td>\n",
              "      <td>46.0</td>\n",
              "      <td>1835</td>\n",
              "      <td>20.5</td>\n",
              "      <td>70</td>\n",
              "      <td>europe</td>\n",
              "      <td>volkswagen 1131 deluxe sedan</td>\n",
              "      <td>2116.0</td>\n",
              "    </tr>\n",
              "    <tr>\n",
              "      <th>102</th>\n",
              "      <td>26.0</td>\n",
              "      <td>4</td>\n",
              "      <td>97.0</td>\n",
              "      <td>46.0</td>\n",
              "      <td>1950</td>\n",
              "      <td>21.0</td>\n",
              "      <td>73</td>\n",
              "      <td>europe</td>\n",
              "      <td>volkswagen super beetle</td>\n",
              "      <td>2116.0</td>\n",
              "    </tr>\n",
              "    <tr>\n",
              "      <th>326</th>\n",
              "      <td>43.4</td>\n",
              "      <td>4</td>\n",
              "      <td>90.0</td>\n",
              "      <td>48.0</td>\n",
              "      <td>2335</td>\n",
              "      <td>23.7</td>\n",
              "      <td>80</td>\n",
              "      <td>europe</td>\n",
              "      <td>vw dasher (diesel)</td>\n",
              "      <td>2304.0</td>\n",
              "    </tr>\n",
              "    <tr>\n",
              "      <th>325</th>\n",
              "      <td>44.3</td>\n",
              "      <td>4</td>\n",
              "      <td>90.0</td>\n",
              "      <td>48.0</td>\n",
              "      <td>2085</td>\n",
              "      <td>21.7</td>\n",
              "      <td>80</td>\n",
              "      <td>europe</td>\n",
              "      <td>vw rabbit c (diesel)</td>\n",
              "      <td>2304.0</td>\n",
              "    </tr>\n",
              "    <tr>\n",
              "      <th>244</th>\n",
              "      <td>43.1</td>\n",
              "      <td>4</td>\n",
              "      <td>90.0</td>\n",
              "      <td>48.0</td>\n",
              "      <td>1985</td>\n",
              "      <td>21.5</td>\n",
              "      <td>78</td>\n",
              "      <td>europe</td>\n",
              "      <td>volkswagen rabbit custom diesel</td>\n",
              "      <td>2304.0</td>\n",
              "    </tr>\n",
              "  </tbody>\n",
              "</table>\n",
              "</div>\n",
              "      <button class=\"colab-df-convert\" onclick=\"convertToInteractive('df-870585cb-4d18-49f0-8998-ab31a2d968d0')\"\n",
              "              title=\"Convert this dataframe to an interactive table.\"\n",
              "              style=\"display:none;\">\n",
              "        \n",
              "  <svg xmlns=\"http://www.w3.org/2000/svg\" height=\"24px\"viewBox=\"0 0 24 24\"\n",
              "       width=\"24px\">\n",
              "    <path d=\"M0 0h24v24H0V0z\" fill=\"none\"/>\n",
              "    <path d=\"M18.56 5.44l.94 2.06.94-2.06 2.06-.94-2.06-.94-.94-2.06-.94 2.06-2.06.94zm-11 1L8.5 8.5l.94-2.06 2.06-.94-2.06-.94L8.5 2.5l-.94 2.06-2.06.94zm10 10l.94 2.06.94-2.06 2.06-.94-2.06-.94-.94-2.06-.94 2.06-2.06.94z\"/><path d=\"M17.41 7.96l-1.37-1.37c-.4-.4-.92-.59-1.43-.59-.52 0-1.04.2-1.43.59L10.3 9.45l-7.72 7.72c-.78.78-.78 2.05 0 2.83L4 21.41c.39.39.9.59 1.41.59.51 0 1.02-.2 1.41-.59l7.78-7.78 2.81-2.81c.8-.78.8-2.07 0-2.86zM5.41 20L4 18.59l7.72-7.72 1.47 1.35L5.41 20z\"/>\n",
              "  </svg>\n",
              "      </button>\n",
              "      \n",
              "  <style>\n",
              "    .colab-df-container {\n",
              "      display:flex;\n",
              "      flex-wrap:wrap;\n",
              "      gap: 12px;\n",
              "    }\n",
              "\n",
              "    .colab-df-convert {\n",
              "      background-color: #E8F0FE;\n",
              "      border: none;\n",
              "      border-radius: 50%;\n",
              "      cursor: pointer;\n",
              "      display: none;\n",
              "      fill: #1967D2;\n",
              "      height: 32px;\n",
              "      padding: 0 0 0 0;\n",
              "      width: 32px;\n",
              "    }\n",
              "\n",
              "    .colab-df-convert:hover {\n",
              "      background-color: #E2EBFA;\n",
              "      box-shadow: 0px 1px 2px rgba(60, 64, 67, 0.3), 0px 1px 3px 1px rgba(60, 64, 67, 0.15);\n",
              "      fill: #174EA6;\n",
              "    }\n",
              "\n",
              "    [theme=dark] .colab-df-convert {\n",
              "      background-color: #3B4455;\n",
              "      fill: #D2E3FC;\n",
              "    }\n",
              "\n",
              "    [theme=dark] .colab-df-convert:hover {\n",
              "      background-color: #434B5C;\n",
              "      box-shadow: 0px 1px 3px 1px rgba(0, 0, 0, 0.15);\n",
              "      filter: drop-shadow(0px 1px 2px rgba(0, 0, 0, 0.3));\n",
              "      fill: #FFFFFF;\n",
              "    }\n",
              "  </style>\n",
              "\n",
              "      <script>\n",
              "        const buttonEl =\n",
              "          document.querySelector('#df-870585cb-4d18-49f0-8998-ab31a2d968d0 button.colab-df-convert');\n",
              "        buttonEl.style.display =\n",
              "          google.colab.kernel.accessAllowed ? 'block' : 'none';\n",
              "\n",
              "        async function convertToInteractive(key) {\n",
              "          const element = document.querySelector('#df-870585cb-4d18-49f0-8998-ab31a2d968d0');\n",
              "          const dataTable =\n",
              "            await google.colab.kernel.invokeFunction('convertToInteractive',\n",
              "                                                     [key], {});\n",
              "          if (!dataTable) return;\n",
              "\n",
              "          const docLinkHtml = 'Like what you see? Visit the ' +\n",
              "            '<a target=\"_blank\" href=https://colab.research.google.com/notebooks/data_table.ipynb>data table notebook</a>'\n",
              "            + ' to learn more about interactive tables.';\n",
              "          element.innerHTML = '';\n",
              "          dataTable['output_type'] = 'display_data';\n",
              "          await google.colab.output.renderOutput(dataTable, element);\n",
              "          const docLink = document.createElement('div');\n",
              "          docLink.innerHTML = docLinkHtml;\n",
              "          element.appendChild(docLink);\n",
              "        }\n",
              "      </script>\n",
              "    </div>\n",
              "  </div>\n",
              "  "
            ]
          },
          "metadata": {},
          "execution_count": 63
        }
      ],
      "source": [
        "vehicle_data['hp^2'] = vehicle_data['horsepower'] ** 2\n",
        "vehicle_data.head()"
      ]
    },
    {
      "cell_type": "markdown",
      "metadata": {
        "deletable": false,
        "editable": false,
        "id": "xxf6xsLChw9m"
      },
      "source": [
        "### Question 4a\n",
        "\n",
        "Using scikit learn's `LinearRegression`, create and fit a model that tries to predict `mpg` from `horsepower` AND `hp^2`. Name your model `model_multiple`.\n",
        "\n",
        "- Hint: We do something very similar in Question 3.\n",
        "\n",
        "<!--\n",
        "BEGIN QUESTION\n",
        "name: q4a\n",
        "-->"
      ]
    },
    {
      "cell_type": "code",
      "execution_count": 75,
      "metadata": {
        "id": "w8GURpNPhw9m",
        "outputId": "614f875a-8eed-4d47-c3c6-54d8e3d8f313",
        "colab": {
          "base_uri": "https://localhost:8080/"
        }
      },
      "outputs": [
        {
          "output_type": "execute_result",
          "data": {
            "text/plain": [
              "LinearRegression()"
            ]
          },
          "metadata": {},
          "execution_count": 75
        }
      ],
      "source": [
        "model_multiple = LinearRegression()\n",
        "model_multiple.fit(pd.concat([vehicle_data['horsepower'], vehicle_data['hp^2']], axis = 1), vehicle_data['mpg'])"
      ]
    },
    {
      "cell_type": "code",
      "execution_count": 76,
      "metadata": {
        "deletable": false,
        "editable": false,
        "id": "qw7BdZx9hw9m",
        "outputId": "26cbfb54-ecd1-4b44-f617-7decb1872bec",
        "colab": {
          "base_uri": "https://localhost:8080/",
          "height": 47
        }
      },
      "outputs": [
        {
          "output_type": "execute_result",
          "data": {
            "text/plain": [
              "q4a results: All test cases passed!"
            ],
            "text/html": [
              "<p><strong><pre style='display: inline;'>q4a</pre></strong> passed!</p>"
            ]
          },
          "metadata": {},
          "execution_count": 76
        }
      ],
      "source": [
        "grader.check(\"q4a\")"
      ]
    },
    {
      "cell_type": "markdown",
      "metadata": {
        "id": "wX9GL3_Dhw9m"
      },
      "source": [
        "After fitting, we can see the coefficients and intercept. Note, there are now two elements in `model_multiple.coef_`, since there are two features."
      ]
    },
    {
      "cell_type": "code",
      "execution_count": 77,
      "metadata": {
        "id": "X9xmBJ0jhw9n",
        "outputId": "112ac9d1-89f2-4df3-b301-f4ef58f8ce80",
        "colab": {
          "base_uri": "https://localhost:8080/"
        }
      },
      "outputs": [
        {
          "output_type": "execute_result",
          "data": {
            "text/plain": [
              "array([-0.46618963,  0.00123054])"
            ]
          },
          "metadata": {},
          "execution_count": 77
        }
      ],
      "source": [
        "model_multiple.coef_"
      ]
    },
    {
      "cell_type": "code",
      "execution_count": 78,
      "metadata": {
        "id": "kp6Fd1j_hw9n",
        "outputId": "fa3e2214-7011-4c7b-cf90-8465818dd39d",
        "colab": {
          "base_uri": "https://localhost:8080/"
        }
      },
      "outputs": [
        {
          "output_type": "execute_result",
          "data": {
            "text/plain": [
              "56.90009970211295"
            ]
          },
          "metadata": {},
          "execution_count": 78
        }
      ],
      "source": [
        "model_multiple.intercept_"
      ]
    },
    {
      "cell_type": "markdown",
      "metadata": {
        "deletable": false,
        "editable": false,
        "id": "fgVM7Pychw9n"
      },
      "source": [
        "### Question 4b\n",
        "\n",
        "Using the above values, in LaTeX, write out the function that the model is using to predict `mpg` from `horsepower` and `hp^2`.\n",
        "\n",
        "<!--\n",
        "BEGIN QUESTION\n",
        "name: q4b\n",
        "-->"
      ]
    },
    {
      "cell_type": "markdown",
      "metadata": {
        "id": "VNYqnHBlhw9n"
      },
      "source": [
        "_Type your answer here, replacing this text._"
      ]
    },
    {
      "cell_type": "markdown",
      "metadata": {
        "id": "d3BE7i6phw9n"
      },
      "source": [
        "The plot below shows the prediction of our model. It's much better!"
      ]
    },
    {
      "cell_type": "code",
      "execution_count": 79,
      "metadata": {
        "id": "TusuRW2-hw9n",
        "outputId": "423ef735-ce8f-4528-a69d-6a657e2b9690",
        "colab": {
          "base_uri": "https://localhost:8080/",
          "height": 279
        }
      },
      "outputs": [
        {
          "output_type": "display_data",
          "data": {
            "text/plain": [
              "<Figure size 432x288 with 1 Axes>"
            ],
            "image/png": "[encoded data removed]"
          },
          "metadata": {
            "needs_background": "light"
          }
        }
      ],
      "source": [
        "# DO NOT CHANGE THIS CELL\n",
        "predicted_mpg = model_multiple.predict(vehicle_data[['horsepower', 'hp^2']])\n",
        "sns.scatterplot(x='horsepower', y='mpg', data=vehicle_data)\n",
        "plt.plot(vehicle_data['horsepower'],  predicted_mpg, color = 'r');"
      ]
    },
    {
      "cell_type": "markdown",
      "metadata": {
        "deletable": false,
        "editable": false,
        "id": "Q4pQcY81hw9n"
      },
      "source": [
        "### Question 4c\n",
        "\n",
        "In the cell below, explain why we use the term \"linear\" to describe the model above, even though it incorporates horsepower squared as a feature.\n",
        "\n",
        "<!--\n",
        "BEGIN QUESTION\n",
        "name: q4c\n",
        "-->"
      ]
    },
    {
      "cell_type": "markdown",
      "metadata": {
        "id": "T-iEIJn4hw9n"
      },
      "source": [
        "_Type your answer here, replacing this text._"
      ]
    },
    {
      "cell_type": "markdown",
      "metadata": {
        "id": "HrPpquAUhw9n"
      },
      "source": [
        "To see exactly how much better our new model is, we can compare the Multiple $R^2$ from these two fits.  As described in Lecture 12,\n",
        "\n",
        "\n",
        "$$R^2 = \\frac{\\text{variance of fitted values}}{\\text{variance of true } y} = \\frac{\\sigma_{\\hat{y}}^2}{\\sigma_y^2}$$\n",
        "\n",
        "Unlike $r$, the correlation coefficient we looked at in Question 1, $R^2$  can be used\n",
        "in the multiple regression setting.  In simple regression, $r^{2}$ and Multiple $R^{2}$ are\n",
        "the same."
      ]
    },
    {
      "cell_type": "code",
      "execution_count": 80,
      "metadata": {
        "id": "p_nutMnohw9o",
        "outputId": "c67591eb-8de5-4566-d6a3-3f4df05a77bf",
        "colab": {
          "base_uri": "https://localhost:8080/"
        }
      },
      "outputs": [
        {
          "output_type": "stream",
          "name": "stdout",
          "text": [
            "Multiple R^2 using only horsepower:  0.6059482578894351\n",
            "Multiple R^2 using both horsepower and horsepower squared:  0.6875590305127519\n"
          ]
        }
      ],
      "source": [
        "predicted_mpg_horsepower_only = (\n",
        "    LinearRegression()\n",
        "    .fit(X = vehicle_data[['horsepower']], y = vehicle_data['mpg'])\n",
        "    .predict(vehicle_data[['horsepower']])\n",
        ")\n",
        "\n",
        "r2_horsepower_only = np.var(predicted_mpg_horsepower_only) / np.var(vehicle_data['mpg'])\n",
        "r2_both = np.var(predicted_mpg) / np.var(vehicle_data['mpg'])\n",
        "\n",
        "print('Multiple R^2 using only horsepower: ', r2_horsepower_only)\n",
        "print('Multiple R^2 using both horsepower and horsepower squared: ', r2_both)"
      ]
    },
    {
      "cell_type": "markdown",
      "metadata": {
        "id": "25CSoUqBhw9o"
      },
      "source": [
        "By introducing `hp^2` as a feature, our multiple $R^2$ value increased. Think about what this means with respect to the strength of our refined model.\n"
      ]
    },
    {
      "cell_type": "markdown",
      "metadata": {
        "deletable": false,
        "editable": false,
        "id": "FH2cVaZhhw9o"
      },
      "source": [
        "### Question 4d\n",
        "\n",
        "In the cell below, we assign the mean of the `mpg` column of the `vehicle_data` dataframe to `mean_mpg`. Given this information, what is the mean of the `predicted_mpg` and `predicted_mpg_horsepower_only` arrays?\n",
        "\n",
        "Hint: You should not have to call `np.mean` in your code.\n",
        "\n",
        "<!--\n",
        "BEGIN QUESTION\n",
        "name: q4d\n",
        "-->"
      ]
    },
    {
      "cell_type": "code",
      "execution_count": 84,
      "metadata": {
        "id": "VTWeWFRnhw9o"
      },
      "outputs": [],
      "source": [
        "mean_mpg = np.mean(vehicle_data['mpg'])\n",
        "mean_predicted_mpg = np.mean(predicted_mpg)\n",
        "mean_predicted_mpg_horsepower_only = np.mean(predicted_mpg_horsepower_only)"
      ]
    },
    {
      "cell_type": "code",
      "execution_count": 85,
      "metadata": {
        "deletable": false,
        "editable": false,
        "id": "jOclVHBnhw9o",
        "outputId": "7883760c-9295-47e0-e367-295cd10b45cf",
        "colab": {
          "base_uri": "https://localhost:8080/",
          "height": 47
        }
      },
      "outputs": [
        {
          "output_type": "execute_result",
          "data": {
            "text/plain": [
              "q4d results: All test cases passed!"
            ],
            "text/html": [
              "<p><strong><pre style='display: inline;'>q4d</pre></strong> passed!</p>"
            ]
          },
          "metadata": {},
          "execution_count": 85
        }
      ],
      "source": [
        "grader.check(\"q4d\")"
      ]
    },
    {
      "cell_type": "markdown",
      "metadata": {
        "id": "SFBzCKt4hw9o"
      },
      "source": [
        "## Question 5\n",
        "\n",
        "Let's take this one step further, and introduce a few more features.\n",
        "\n",
        "\n",
        "Again, using scikit learn's `LinearRegression`, we fit a model that tries to predict `mpg` using each of the following as features:\n",
        "- `horsepower`\n",
        "- `hp^2`\n",
        "- `model_year`\n",
        "- `acceleration`\n",
        "\n"
      ]
    },
    {
      "cell_type": "code",
      "execution_count": 86,
      "metadata": {
        "id": "JejPk8a3hw9o",
        "outputId": "9d45e494-5654-49da-9581-6297bb42b2b9",
        "colab": {
          "base_uri": "https://localhost:8080/"
        }
      },
      "outputs": [
        {
          "output_type": "execute_result",
          "data": {
            "text/plain": [
              "LinearRegression()"
            ]
          },
          "metadata": {},
          "execution_count": 86
        }
      ],
      "source": [
        "desired_columns = ['horsepower', 'hp^2', 'model_year', 'acceleration']\n",
        "model_many = LinearRegression()\n",
        "model_many.fit(X = vehicle_data[desired_columns], y= vehicle_data['mpg'])"
      ]
    },
    {
      "cell_type": "markdown",
      "metadata": {
        "id": "OMG9T8gxhw9o"
      },
      "source": [
        "The plot below shows the prediction of our more sophisticated model."
      ]
    },
    {
      "cell_type": "code",
      "execution_count": 87,
      "metadata": {
        "scrolled": true,
        "id": "DdaKcBuQhw9o",
        "outputId": "a877cc36-6856-4f15-c457-2e8da3181cdc",
        "colab": {
          "base_uri": "https://localhost:8080/",
          "height": 279
        }
      },
      "outputs": [
        {
          "output_type": "display_data",
          "data": {
            "text/plain": [
              "<Figure size 432x288 with 1 Axes>"
            ],
            "image/png": "[encoded data removed]"
          },
          "metadata": {
            "needs_background": "light"
          }
        }
      ],
      "source": [
        "predicted_mpg_many = model_many.predict(vehicle_data[['horsepower', 'hp^2', 'model_year', 'acceleration']])\n",
        "sns.scatterplot(x='horsepower', y='mpg', data=vehicle_data)\n",
        "plt.plot(vehicle_data['horsepower'],  predicted_mpg_many, color = 'r');"
      ]
    },
    {
      "cell_type": "markdown",
      "metadata": {
        "id": "Beh_YS7Phw9p"
      },
      "source": [
        "Think about what you see in the above plot. Why is the shape of our prediction curve so jagged? Do you think this is a good model to predict the `mpg` of some car we don't already have information on?\n",
        "\n",
        "This idea – the **bias-variance tradeoff** – is an idea we will explore in the coming weeks."
      ]
    },
    {
      "cell_type": "markdown",
      "metadata": {
        "deletable": false,
        "editable": false,
        "id": "aU6jqCNrhw9p"
      },
      "source": [
        "### Question 5a\n",
        "\n",
        "Lastly, set `r2_many` to be the multiple $R^2$ coefficient obtained by using `model_many`.\n",
        "\n",
        "- Hint: This is very similar to what we did right before Question 4d. Use `predicted_mpg_many`.\n",
        "- Note: The above plotting cell needs to have been run in order for this to work.\n",
        "\n",
        "<!--\n",
        "BEGIN QUESTION\n",
        "name: q5a\n",
        "-->"
      ]
    },
    {
      "cell_type": "code",
      "execution_count": 88,
      "metadata": {
        "id": "2ZCRcSWIhw9p"
      },
      "outputs": [],
      "source": [
        "r2_many = (np.var(predicted_mpg_many) / np.var(vehicle_data['mpg']))"
      ]
    },
    {
      "cell_type": "code",
      "execution_count": 89,
      "metadata": {
        "deletable": false,
        "editable": false,
        "id": "UBbIxjWfhw9p",
        "outputId": "12499322-bea1-4419-d5ca-c942725b9235",
        "colab": {
          "base_uri": "https://localhost:8080/",
          "height": 47
        }
      },
      "outputs": [
        {
          "output_type": "execute_result",
          "data": {
            "text/plain": [
              "q5a results: All test cases passed!"
            ],
            "text/html": [
              "<p><strong><pre style='display: inline;'>q5a</pre></strong> passed!</p>"
            ]
          },
          "metadata": {},
          "execution_count": 89
        }
      ],
      "source": [
        "grader.check(\"q5a\")"
      ]
    },
    {
      "cell_type": "code",
      "execution_count": 90,
      "metadata": {
        "id": "Ua72Hq-lhw9p",
        "outputId": "8eb0415e-f655-4194-8047-55dc7056bd2c",
        "colab": {
          "base_uri": "https://localhost:8080/"
        }
      },
      "outputs": [
        {
          "output_type": "stream",
          "name": "stdout",
          "text": [
            "Multiple R^2 using only horsepower:  0.6059482578894351\n",
            "Multiple R^2 using both horsepower and horsepower squared:  0.6875590305127519\n",
            "Multiple R^2 using horsepower, horsepower squared, model year, and acceleration:  0.8163086433998626\n"
          ]
        }
      ],
      "source": [
        "print('Multiple R^2 using only horsepower: ', r2_horsepower_only)\n",
        "print('Multiple R^2 using both horsepower and horsepower squared: ', r2_both)\n",
        "print('Multiple R^2 using horsepower, horsepower squared, model year, and acceleration: ', r2_many)"
      ]
    },
    {
      "cell_type": "markdown",
      "metadata": {
        "id": "XtEikHIPhw9p"
      },
      "source": [
        "If everything was done correctly, the multiple $R^2$ of our latest model should be substantially higher than that of the previous two models. This is because multiple $R^2$ increases with the number of covariates we add to our model. \n",
        "\n",
        "We might not always want to use models with large multiple $R^2$ values because these models could be overfitting to the training data, and won't generalize well to unseen data. Again, this is an idea we will explore in future lectures and assignments."
      ]
    },
    {
      "cell_type": "markdown",
      "metadata": {
        "id": "i4BEWjP-hw9p"
      },
      "source": [
        "# Congrats, you finished the lab!"
      ]
    },
    {
      "cell_type": "markdown",
      "metadata": {
        "deletable": false,
        "editable": false,
        "id": "IZtPYadOhw9p"
      },
      "source": [
        "---\n",
        "\n",
        "To double-check your work, the cell below will rerun all of the autograder tests."
      ]
    },
    {
      "cell_type": "code",
      "execution_count": 91,
      "metadata": {
        "deletable": false,
        "editable": false,
        "id": "UNUjTKFlhw9p",
        "outputId": "75fc5ea6-5826-4671-faf1-e27661a1752e",
        "colab": {
          "base_uri": "https://localhost:8080/"
        }
      },
      "outputs": [
        {
          "output_type": "execute_result",
          "data": {
            "text/plain": [
              "q1a results: All test cases passed!\n",
              "\n",
              "q1b results: All test cases passed!\n",
              "\n",
              "q1c results: All test cases passed!\n",
              "\n",
              "q1d results: All test cases passed!\n",
              "\n",
              "q2 results: All test cases passed!\n",
              "\n",
              "q4a results: All test cases passed!\n",
              "\n",
              "q4d results: All test cases passed!\n",
              "\n",
              "q5a results: All test cases passed!"
            ]
          },
          "metadata": {},
          "execution_count": 91
        }
      ],
      "source": [
        "grader.check_all()"
      ]
    },
    {
      "cell_type": "markdown",
      "metadata": {
        "deletable": false,
        "editable": false,
        "id": "xDNmaB75hw9q"
      },
      "source": [
        "## Submission\n",
        "\n",
        "Make sure you have run all cells in your notebook in order before running the cell below, so that all images/graphs appear in the output. The cell below will generate a zip file for you to submit. **Please save before exporting!**"
      ]
    },
    {
      "cell_type": "code",
      "execution_count": null,
      "metadata": {
        "deletable": false,
        "editable": false,
        "id": "uxWTW3ouhw9q"
      },
      "outputs": [],
      "source": [
        "# Save your notebook first, then run this cell to export your submission.\n",
        "grader.export(pdf=False)"
      ]
    },
    {
      "cell_type": "markdown",
      "metadata": {
        "id": "GiIKuPn5hw9q"
      },
      "source": [
        " "
      ]
    }
  ],
  "metadata": {
    "kernelspec": {
      "display_name": "Python 3 (ipykernel)",
      "language": "python",
      "name": "python3"
    },
    "language_info": {
      "codemirror_mode": {
        "name": "ipython",
        "version": 3
      },
      "file_extension": ".py",
      "mimetype": "text/x-python",
      "name": "python",
      "nbconvert_exporter": "python",
      "pygments_lexer": "ipython3",
      "version": "3.9.7"
    },
    "colab": {
      "name": "lab07.ipynb",
      "provenance": []
    }
  },
  "nbformat": 4,
  "nbformat_minor": 0
}